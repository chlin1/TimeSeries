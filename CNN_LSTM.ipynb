{
  "nbformat": 4,
  "nbformat_minor": 0,
  "metadata": {
    "colab": {
      "name": "CNN-LSTM.ipynb",
      "version": "0.3.2",
      "provenance": [],
      "toc_visible": true,
      "include_colab_link": true
    },
    "kernelspec": {
      "name": "python3",
      "display_name": "Python 3"
    }
  },
  "cells": [
    {
      "cell_type": "markdown",
      "metadata": {
        "id": "view-in-github",
        "colab_type": "text"
      },
      "source": [
        "<a href=\"https://colab.research.google.com/github/chlin1/TimeSeries/blob/master/CNN_LSTM.ipynb\" target=\"_parent\"><img src=\"https://colab.research.google.com/assets/colab-badge.svg\" alt=\"Open In Colab\"/></a>"
      ]
    },
    {
      "metadata": {
        "id": "8W4Z7spHzF1u",
        "colab_type": "code",
        "colab": {}
      },
      "cell_type": "code",
      "source": [
        ""
      ],
      "execution_count": 0,
      "outputs": []
    },
    {
      "metadata": {
        "id": "GAqDexO9FSFT",
        "colab_type": "text"
      },
      "cell_type": "markdown",
      "source": [
        "# [Data processing](https://stackoverflow.com/questions/39674713/neural-network-lstm-input-shape-from-dataframe)\n",
        "\n",
        "  - Neural Network LSTM input shape from dataframe\n",
        "  \n",
        "  - input: dataframe\n",
        "  - output: "
      ]
    },
    {
      "metadata": {
        "id": "2ZijZ_wAFalB",
        "colab_type": "code",
        "outputId": "8c558c26-1ade-44af-e994-aecd8f796306",
        "colab": {
          "base_uri": "https://localhost:8080/",
          "height": 195
        }
      },
      "cell_type": "code",
      "source": [
        "import pandas as pd\n",
        "import numpy as np\n",
        "# Get some time series data\n",
        "df = pd.read_csv(\"https://raw.githubusercontent.com/plotly/datasets/master/timeseries.csv\")\n",
        "df.head()"
      ],
      "execution_count": 0,
      "outputs": [
        {
          "output_type": "execute_result",
          "data": {
            "text/html": [
              "<div>\n",
              "<style scoped>\n",
              "    .dataframe tbody tr th:only-of-type {\n",
              "        vertical-align: middle;\n",
              "    }\n",
              "\n",
              "    .dataframe tbody tr th {\n",
              "        vertical-align: top;\n",
              "    }\n",
              "\n",
              "    .dataframe thead th {\n",
              "        text-align: right;\n",
              "    }\n",
              "</style>\n",
              "<table border=\"1\" class=\"dataframe\">\n",
              "  <thead>\n",
              "    <tr style=\"text-align: right;\">\n",
              "      <th></th>\n",
              "      <th>Date</th>\n",
              "      <th>A</th>\n",
              "      <th>B</th>\n",
              "      <th>C</th>\n",
              "      <th>D</th>\n",
              "      <th>E</th>\n",
              "      <th>F</th>\n",
              "      <th>G</th>\n",
              "    </tr>\n",
              "  </thead>\n",
              "  <tbody>\n",
              "    <tr>\n",
              "      <th>0</th>\n",
              "      <td>2008-03-18</td>\n",
              "      <td>24.68</td>\n",
              "      <td>164.93</td>\n",
              "      <td>114.73</td>\n",
              "      <td>26.27</td>\n",
              "      <td>19.21</td>\n",
              "      <td>28.87</td>\n",
              "      <td>63.44</td>\n",
              "    </tr>\n",
              "    <tr>\n",
              "      <th>1</th>\n",
              "      <td>2008-03-19</td>\n",
              "      <td>24.18</td>\n",
              "      <td>164.89</td>\n",
              "      <td>114.75</td>\n",
              "      <td>26.22</td>\n",
              "      <td>19.07</td>\n",
              "      <td>27.76</td>\n",
              "      <td>59.98</td>\n",
              "    </tr>\n",
              "    <tr>\n",
              "      <th>2</th>\n",
              "      <td>2008-03-20</td>\n",
              "      <td>23.99</td>\n",
              "      <td>164.63</td>\n",
              "      <td>115.04</td>\n",
              "      <td>25.78</td>\n",
              "      <td>19.01</td>\n",
              "      <td>27.04</td>\n",
              "      <td>59.61</td>\n",
              "    </tr>\n",
              "    <tr>\n",
              "      <th>3</th>\n",
              "      <td>2008-03-25</td>\n",
              "      <td>24.14</td>\n",
              "      <td>163.92</td>\n",
              "      <td>114.85</td>\n",
              "      <td>27.41</td>\n",
              "      <td>19.61</td>\n",
              "      <td>27.84</td>\n",
              "      <td>59.41</td>\n",
              "    </tr>\n",
              "    <tr>\n",
              "      <th>4</th>\n",
              "      <td>2008-03-26</td>\n",
              "      <td>24.44</td>\n",
              "      <td>163.45</td>\n",
              "      <td>114.84</td>\n",
              "      <td>26.86</td>\n",
              "      <td>19.53</td>\n",
              "      <td>28.02</td>\n",
              "      <td>60.09</td>\n",
              "    </tr>\n",
              "  </tbody>\n",
              "</table>\n",
              "</div>"
            ],
            "text/plain": [
              "         Date      A       B       C      D      E      F      G\n",
              "0  2008-03-18  24.68  164.93  114.73  26.27  19.21  28.87  63.44\n",
              "1  2008-03-19  24.18  164.89  114.75  26.22  19.07  27.76  59.98\n",
              "2  2008-03-20  23.99  164.63  115.04  25.78  19.01  27.04  59.61\n",
              "3  2008-03-25  24.14  163.92  114.85  27.41  19.61  27.84  59.41\n",
              "4  2008-03-26  24.44  163.45  114.84  26.86  19.53  28.02  60.09"
            ]
          },
          "metadata": {
            "tags": []
          },
          "execution_count": 35
        }
      ]
    },
    {
      "metadata": {
        "id": "-XpdPMUJK-dV",
        "colab_type": "text"
      },
      "cell_type": "markdown",
      "source": [
        "You can build put inputs into a vector and then use pandas .cumsum() function to build the sequence for the time series:"
      ]
    },
    {
      "metadata": {
        "id": "QEUkdp4GFbS6",
        "colab_type": "code",
        "outputId": "c08bb5d3-6411-43d5-ec5a-dd45f4220c17",
        "colab": {
          "base_uri": "https://localhost:8080/",
          "height": 373
        }
      },
      "cell_type": "code",
      "source": [
        "# Put your inputs into a single list\n",
        "input_cols=['A','B']\n",
        "df['single_input_vector'] = df[input_cols].apply(tuple, axis=1).apply(list)\n",
        "# Double-encapsulate list so that you can sum it in the next step and keep time steps as separate elements\n",
        "df['single_input_vector'] = df.single_input_vector.apply(lambda x: [list(x)])\n",
        "# Use .cumsum() to include previous row vectors in the current row list of vectors\n",
        "df['cumulative_input_vectors'] = df.single_input_vector.cumsum()\n",
        "df"
      ],
      "execution_count": 0,
      "outputs": [
        {
          "output_type": "execute_result",
          "data": {
            "text/html": [
              "<div>\n",
              "<style scoped>\n",
              "    .dataframe tbody tr th:only-of-type {\n",
              "        vertical-align: middle;\n",
              "    }\n",
              "\n",
              "    .dataframe tbody tr th {\n",
              "        vertical-align: top;\n",
              "    }\n",
              "\n",
              "    .dataframe thead th {\n",
              "        text-align: right;\n",
              "    }\n",
              "</style>\n",
              "<table border=\"1\" class=\"dataframe\">\n",
              "  <thead>\n",
              "    <tr style=\"text-align: right;\">\n",
              "      <th></th>\n",
              "      <th>Date</th>\n",
              "      <th>A</th>\n",
              "      <th>B</th>\n",
              "      <th>C</th>\n",
              "      <th>D</th>\n",
              "      <th>E</th>\n",
              "      <th>F</th>\n",
              "      <th>G</th>\n",
              "      <th>single_input_vector</th>\n",
              "      <th>cumulative_input_vectors</th>\n",
              "    </tr>\n",
              "  </thead>\n",
              "  <tbody>\n",
              "    <tr>\n",
              "      <th>0</th>\n",
              "      <td>2008-03-18</td>\n",
              "      <td>24.68</td>\n",
              "      <td>164.93</td>\n",
              "      <td>114.73</td>\n",
              "      <td>26.27</td>\n",
              "      <td>19.21</td>\n",
              "      <td>28.87</td>\n",
              "      <td>63.44</td>\n",
              "      <td>[[24.68, 164.93]]</td>\n",
              "      <td>[[24.68, 164.93]]</td>\n",
              "    </tr>\n",
              "    <tr>\n",
              "      <th>1</th>\n",
              "      <td>2008-03-19</td>\n",
              "      <td>24.18</td>\n",
              "      <td>164.89</td>\n",
              "      <td>114.75</td>\n",
              "      <td>26.22</td>\n",
              "      <td>19.07</td>\n",
              "      <td>27.76</td>\n",
              "      <td>59.98</td>\n",
              "      <td>[[24.18, 164.89]]</td>\n",
              "      <td>[[24.68, 164.93], [24.18, 164.89]]</td>\n",
              "    </tr>\n",
              "    <tr>\n",
              "      <th>2</th>\n",
              "      <td>2008-03-20</td>\n",
              "      <td>23.99</td>\n",
              "      <td>164.63</td>\n",
              "      <td>115.04</td>\n",
              "      <td>25.78</td>\n",
              "      <td>19.01</td>\n",
              "      <td>27.04</td>\n",
              "      <td>59.61</td>\n",
              "      <td>[[23.99, 164.63]]</td>\n",
              "      <td>[[24.68, 164.93], [24.18, 164.89], [23.99, 164...</td>\n",
              "    </tr>\n",
              "    <tr>\n",
              "      <th>3</th>\n",
              "      <td>2008-03-25</td>\n",
              "      <td>24.14</td>\n",
              "      <td>163.92</td>\n",
              "      <td>114.85</td>\n",
              "      <td>27.41</td>\n",
              "      <td>19.61</td>\n",
              "      <td>27.84</td>\n",
              "      <td>59.41</td>\n",
              "      <td>[[24.14, 163.92]]</td>\n",
              "      <td>[[24.68, 164.93], [24.18, 164.89], [23.99, 164...</td>\n",
              "    </tr>\n",
              "    <tr>\n",
              "      <th>4</th>\n",
              "      <td>2008-03-26</td>\n",
              "      <td>24.44</td>\n",
              "      <td>163.45</td>\n",
              "      <td>114.84</td>\n",
              "      <td>26.86</td>\n",
              "      <td>19.53</td>\n",
              "      <td>28.02</td>\n",
              "      <td>60.09</td>\n",
              "      <td>[[24.44, 163.45]]</td>\n",
              "      <td>[[24.68, 164.93], [24.18, 164.89], [23.99, 164...</td>\n",
              "    </tr>\n",
              "    <tr>\n",
              "      <th>5</th>\n",
              "      <td>2008-03-27</td>\n",
              "      <td>24.38</td>\n",
              "      <td>163.46</td>\n",
              "      <td>115.40</td>\n",
              "      <td>27.09</td>\n",
              "      <td>19.72</td>\n",
              "      <td>28.25</td>\n",
              "      <td>59.62</td>\n",
              "      <td>[[24.38, 163.46]]</td>\n",
              "      <td>[[24.68, 164.93], [24.18, 164.89], [23.99, 164...</td>\n",
              "    </tr>\n",
              "    <tr>\n",
              "      <th>6</th>\n",
              "      <td>2008-03-28</td>\n",
              "      <td>24.32</td>\n",
              "      <td>163.22</td>\n",
              "      <td>115.56</td>\n",
              "      <td>27.13</td>\n",
              "      <td>19.63</td>\n",
              "      <td>28.24</td>\n",
              "      <td>58.65</td>\n",
              "      <td>[[24.32, 163.22]]</td>\n",
              "      <td>[[24.68, 164.93], [24.18, 164.89], [23.99, 164...</td>\n",
              "    </tr>\n",
              "    <tr>\n",
              "      <th>7</th>\n",
              "      <td>2008-03-31</td>\n",
              "      <td>24.19</td>\n",
              "      <td>164.02</td>\n",
              "      <td>115.54</td>\n",
              "      <td>26.74</td>\n",
              "      <td>19.55</td>\n",
              "      <td>28.43</td>\n",
              "      <td>59.20</td>\n",
              "      <td>[[24.19, 164.02]]</td>\n",
              "      <td>[[24.68, 164.93], [24.18, 164.89], [23.99, 164...</td>\n",
              "    </tr>\n",
              "    <tr>\n",
              "      <th>8</th>\n",
              "      <td>2008-04-01</td>\n",
              "      <td>23.81</td>\n",
              "      <td>163.59</td>\n",
              "      <td>115.72</td>\n",
              "      <td>27.82</td>\n",
              "      <td>20.21</td>\n",
              "      <td>29.17</td>\n",
              "      <td>56.18</td>\n",
              "      <td>[[23.81, 163.59]]</td>\n",
              "      <td>[[24.68, 164.93], [24.18, 164.89], [23.99, 164...</td>\n",
              "    </tr>\n",
              "    <tr>\n",
              "      <th>9</th>\n",
              "      <td>2008-04-02</td>\n",
              "      <td>24.03</td>\n",
              "      <td>163.32</td>\n",
              "      <td>115.11</td>\n",
              "      <td>28.22</td>\n",
              "      <td>20.42</td>\n",
              "      <td>29.38</td>\n",
              "      <td>56.64</td>\n",
              "      <td>[[24.03, 163.32]]</td>\n",
              "      <td>[[24.68, 164.93], [24.18, 164.89], [23.99, 164...</td>\n",
              "    </tr>\n",
              "    <tr>\n",
              "      <th>10</th>\n",
              "      <td>2008-04-03</td>\n",
              "      <td>24.34</td>\n",
              "      <td>163.34</td>\n",
              "      <td>115.17</td>\n",
              "      <td>28.14</td>\n",
              "      <td>20.36</td>\n",
              "      <td>29.51</td>\n",
              "      <td>57.49</td>\n",
              "      <td>[[24.34, 163.34]]</td>\n",
              "      <td>[[24.68, 164.93], [24.18, 164.89], [23.99, 164...</td>\n",
              "    </tr>\n",
              "  </tbody>\n",
              "</table>\n",
              "</div>"
            ],
            "text/plain": [
              "          Date      A       B       C      D      E      F      G  \\\n",
              "0   2008-03-18  24.68  164.93  114.73  26.27  19.21  28.87  63.44   \n",
              "1   2008-03-19  24.18  164.89  114.75  26.22  19.07  27.76  59.98   \n",
              "2   2008-03-20  23.99  164.63  115.04  25.78  19.01  27.04  59.61   \n",
              "3   2008-03-25  24.14  163.92  114.85  27.41  19.61  27.84  59.41   \n",
              "4   2008-03-26  24.44  163.45  114.84  26.86  19.53  28.02  60.09   \n",
              "5   2008-03-27  24.38  163.46  115.40  27.09  19.72  28.25  59.62   \n",
              "6   2008-03-28  24.32  163.22  115.56  27.13  19.63  28.24  58.65   \n",
              "7   2008-03-31  24.19  164.02  115.54  26.74  19.55  28.43  59.20   \n",
              "8   2008-04-01  23.81  163.59  115.72  27.82  20.21  29.17  56.18   \n",
              "9   2008-04-02  24.03  163.32  115.11  28.22  20.42  29.38  56.64   \n",
              "10  2008-04-03  24.34  163.34  115.17  28.14  20.36  29.51  57.49   \n",
              "\n",
              "   single_input_vector                           cumulative_input_vectors  \n",
              "0    [[24.68, 164.93]]                                  [[24.68, 164.93]]  \n",
              "1    [[24.18, 164.89]]                 [[24.68, 164.93], [24.18, 164.89]]  \n",
              "2    [[23.99, 164.63]]  [[24.68, 164.93], [24.18, 164.89], [23.99, 164...  \n",
              "3    [[24.14, 163.92]]  [[24.68, 164.93], [24.18, 164.89], [23.99, 164...  \n",
              "4    [[24.44, 163.45]]  [[24.68, 164.93], [24.18, 164.89], [23.99, 164...  \n",
              "5    [[24.38, 163.46]]  [[24.68, 164.93], [24.18, 164.89], [23.99, 164...  \n",
              "6    [[24.32, 163.22]]  [[24.68, 164.93], [24.18, 164.89], [23.99, 164...  \n",
              "7    [[24.19, 164.02]]  [[24.68, 164.93], [24.18, 164.89], [23.99, 164...  \n",
              "8    [[23.81, 163.59]]  [[24.68, 164.93], [24.18, 164.89], [23.99, 164...  \n",
              "9    [[24.03, 163.32]]  [[24.68, 164.93], [24.18, 164.89], [23.99, 164...  \n",
              "10   [[24.34, 163.34]]  [[24.68, 164.93], [24.18, 164.89], [23.99, 164...  "
            ]
          },
          "metadata": {
            "tags": []
          },
          "execution_count": 37
        }
      ]
    },
    {
      "metadata": {
        "id": "0G348JxrK2FZ",
        "colab_type": "text"
      },
      "cell_type": "markdown",
      "source": [
        "The output can be set up in a similar way, but it will be a single vector instead of a sequence:"
      ]
    },
    {
      "metadata": {
        "id": "1SSdVNExFpJ0",
        "colab_type": "code",
        "outputId": "4a0c6f68-2132-41b7-b709-92bee1b904d5",
        "colab": {
          "base_uri": "https://localhost:8080/",
          "height": 373
        }
      },
      "cell_type": "code",
      "source": [
        "# If your output is multi-dimensional, you need to capture those dimensions in one object\n",
        "# If your output is a single dimension, this step may be unnecessary\n",
        "output_cols=['F','G']\n",
        "df['output_vector'] = df[output_cols].apply(tuple, axis=1).apply(list)\n",
        "df"
      ],
      "execution_count": 0,
      "outputs": [
        {
          "output_type": "execute_result",
          "data": {
            "text/html": [
              "<div>\n",
              "<style scoped>\n",
              "    .dataframe tbody tr th:only-of-type {\n",
              "        vertical-align: middle;\n",
              "    }\n",
              "\n",
              "    .dataframe tbody tr th {\n",
              "        vertical-align: top;\n",
              "    }\n",
              "\n",
              "    .dataframe thead th {\n",
              "        text-align: right;\n",
              "    }\n",
              "</style>\n",
              "<table border=\"1\" class=\"dataframe\">\n",
              "  <thead>\n",
              "    <tr style=\"text-align: right;\">\n",
              "      <th></th>\n",
              "      <th>Date</th>\n",
              "      <th>A</th>\n",
              "      <th>B</th>\n",
              "      <th>C</th>\n",
              "      <th>D</th>\n",
              "      <th>E</th>\n",
              "      <th>F</th>\n",
              "      <th>G</th>\n",
              "      <th>single_input_vector</th>\n",
              "      <th>cumulative_input_vectors</th>\n",
              "      <th>output_vector</th>\n",
              "    </tr>\n",
              "  </thead>\n",
              "  <tbody>\n",
              "    <tr>\n",
              "      <th>0</th>\n",
              "      <td>2008-03-18</td>\n",
              "      <td>24.68</td>\n",
              "      <td>164.93</td>\n",
              "      <td>114.73</td>\n",
              "      <td>26.27</td>\n",
              "      <td>19.21</td>\n",
              "      <td>28.87</td>\n",
              "      <td>63.44</td>\n",
              "      <td>[[24.68, 164.93]]</td>\n",
              "      <td>[[24.68, 164.93]]</td>\n",
              "      <td>[28.87, 63.44]</td>\n",
              "    </tr>\n",
              "    <tr>\n",
              "      <th>1</th>\n",
              "      <td>2008-03-19</td>\n",
              "      <td>24.18</td>\n",
              "      <td>164.89</td>\n",
              "      <td>114.75</td>\n",
              "      <td>26.22</td>\n",
              "      <td>19.07</td>\n",
              "      <td>27.76</td>\n",
              "      <td>59.98</td>\n",
              "      <td>[[24.18, 164.89]]</td>\n",
              "      <td>[[24.68, 164.93], [24.18, 164.89]]</td>\n",
              "      <td>[27.76, 59.98]</td>\n",
              "    </tr>\n",
              "    <tr>\n",
              "      <th>2</th>\n",
              "      <td>2008-03-20</td>\n",
              "      <td>23.99</td>\n",
              "      <td>164.63</td>\n",
              "      <td>115.04</td>\n",
              "      <td>25.78</td>\n",
              "      <td>19.01</td>\n",
              "      <td>27.04</td>\n",
              "      <td>59.61</td>\n",
              "      <td>[[23.99, 164.63]]</td>\n",
              "      <td>[[24.68, 164.93], [24.18, 164.89], [23.99, 164...</td>\n",
              "      <td>[27.04, 59.61]</td>\n",
              "    </tr>\n",
              "    <tr>\n",
              "      <th>3</th>\n",
              "      <td>2008-03-25</td>\n",
              "      <td>24.14</td>\n",
              "      <td>163.92</td>\n",
              "      <td>114.85</td>\n",
              "      <td>27.41</td>\n",
              "      <td>19.61</td>\n",
              "      <td>27.84</td>\n",
              "      <td>59.41</td>\n",
              "      <td>[[24.14, 163.92]]</td>\n",
              "      <td>[[24.68, 164.93], [24.18, 164.89], [23.99, 164...</td>\n",
              "      <td>[27.84, 59.41]</td>\n",
              "    </tr>\n",
              "    <tr>\n",
              "      <th>4</th>\n",
              "      <td>2008-03-26</td>\n",
              "      <td>24.44</td>\n",
              "      <td>163.45</td>\n",
              "      <td>114.84</td>\n",
              "      <td>26.86</td>\n",
              "      <td>19.53</td>\n",
              "      <td>28.02</td>\n",
              "      <td>60.09</td>\n",
              "      <td>[[24.44, 163.45]]</td>\n",
              "      <td>[[24.68, 164.93], [24.18, 164.89], [23.99, 164...</td>\n",
              "      <td>[28.02, 60.09]</td>\n",
              "    </tr>\n",
              "    <tr>\n",
              "      <th>5</th>\n",
              "      <td>2008-03-27</td>\n",
              "      <td>24.38</td>\n",
              "      <td>163.46</td>\n",
              "      <td>115.40</td>\n",
              "      <td>27.09</td>\n",
              "      <td>19.72</td>\n",
              "      <td>28.25</td>\n",
              "      <td>59.62</td>\n",
              "      <td>[[24.38, 163.46]]</td>\n",
              "      <td>[[24.68, 164.93], [24.18, 164.89], [23.99, 164...</td>\n",
              "      <td>[28.25, 59.62]</td>\n",
              "    </tr>\n",
              "    <tr>\n",
              "      <th>6</th>\n",
              "      <td>2008-03-28</td>\n",
              "      <td>24.32</td>\n",
              "      <td>163.22</td>\n",
              "      <td>115.56</td>\n",
              "      <td>27.13</td>\n",
              "      <td>19.63</td>\n",
              "      <td>28.24</td>\n",
              "      <td>58.65</td>\n",
              "      <td>[[24.32, 163.22]]</td>\n",
              "      <td>[[24.68, 164.93], [24.18, 164.89], [23.99, 164...</td>\n",
              "      <td>[28.24, 58.65]</td>\n",
              "    </tr>\n",
              "    <tr>\n",
              "      <th>7</th>\n",
              "      <td>2008-03-31</td>\n",
              "      <td>24.19</td>\n",
              "      <td>164.02</td>\n",
              "      <td>115.54</td>\n",
              "      <td>26.74</td>\n",
              "      <td>19.55</td>\n",
              "      <td>28.43</td>\n",
              "      <td>59.20</td>\n",
              "      <td>[[24.19, 164.02]]</td>\n",
              "      <td>[[24.68, 164.93], [24.18, 164.89], [23.99, 164...</td>\n",
              "      <td>[28.43, 59.2]</td>\n",
              "    </tr>\n",
              "    <tr>\n",
              "      <th>8</th>\n",
              "      <td>2008-04-01</td>\n",
              "      <td>23.81</td>\n",
              "      <td>163.59</td>\n",
              "      <td>115.72</td>\n",
              "      <td>27.82</td>\n",
              "      <td>20.21</td>\n",
              "      <td>29.17</td>\n",
              "      <td>56.18</td>\n",
              "      <td>[[23.81, 163.59]]</td>\n",
              "      <td>[[24.68, 164.93], [24.18, 164.89], [23.99, 164...</td>\n",
              "      <td>[29.17, 56.18]</td>\n",
              "    </tr>\n",
              "    <tr>\n",
              "      <th>9</th>\n",
              "      <td>2008-04-02</td>\n",
              "      <td>24.03</td>\n",
              "      <td>163.32</td>\n",
              "      <td>115.11</td>\n",
              "      <td>28.22</td>\n",
              "      <td>20.42</td>\n",
              "      <td>29.38</td>\n",
              "      <td>56.64</td>\n",
              "      <td>[[24.03, 163.32]]</td>\n",
              "      <td>[[24.68, 164.93], [24.18, 164.89], [23.99, 164...</td>\n",
              "      <td>[29.38, 56.64]</td>\n",
              "    </tr>\n",
              "    <tr>\n",
              "      <th>10</th>\n",
              "      <td>2008-04-03</td>\n",
              "      <td>24.34</td>\n",
              "      <td>163.34</td>\n",
              "      <td>115.17</td>\n",
              "      <td>28.14</td>\n",
              "      <td>20.36</td>\n",
              "      <td>29.51</td>\n",
              "      <td>57.49</td>\n",
              "      <td>[[24.34, 163.34]]</td>\n",
              "      <td>[[24.68, 164.93], [24.18, 164.89], [23.99, 164...</td>\n",
              "      <td>[29.51, 57.49]</td>\n",
              "    </tr>\n",
              "  </tbody>\n",
              "</table>\n",
              "</div>"
            ],
            "text/plain": [
              "          Date      A       B       C      D      E      F      G  \\\n",
              "0   2008-03-18  24.68  164.93  114.73  26.27  19.21  28.87  63.44   \n",
              "1   2008-03-19  24.18  164.89  114.75  26.22  19.07  27.76  59.98   \n",
              "2   2008-03-20  23.99  164.63  115.04  25.78  19.01  27.04  59.61   \n",
              "3   2008-03-25  24.14  163.92  114.85  27.41  19.61  27.84  59.41   \n",
              "4   2008-03-26  24.44  163.45  114.84  26.86  19.53  28.02  60.09   \n",
              "5   2008-03-27  24.38  163.46  115.40  27.09  19.72  28.25  59.62   \n",
              "6   2008-03-28  24.32  163.22  115.56  27.13  19.63  28.24  58.65   \n",
              "7   2008-03-31  24.19  164.02  115.54  26.74  19.55  28.43  59.20   \n",
              "8   2008-04-01  23.81  163.59  115.72  27.82  20.21  29.17  56.18   \n",
              "9   2008-04-02  24.03  163.32  115.11  28.22  20.42  29.38  56.64   \n",
              "10  2008-04-03  24.34  163.34  115.17  28.14  20.36  29.51  57.49   \n",
              "\n",
              "   single_input_vector                           cumulative_input_vectors  \\\n",
              "0    [[24.68, 164.93]]                                  [[24.68, 164.93]]   \n",
              "1    [[24.18, 164.89]]                 [[24.68, 164.93], [24.18, 164.89]]   \n",
              "2    [[23.99, 164.63]]  [[24.68, 164.93], [24.18, 164.89], [23.99, 164...   \n",
              "3    [[24.14, 163.92]]  [[24.68, 164.93], [24.18, 164.89], [23.99, 164...   \n",
              "4    [[24.44, 163.45]]  [[24.68, 164.93], [24.18, 164.89], [23.99, 164...   \n",
              "5    [[24.38, 163.46]]  [[24.68, 164.93], [24.18, 164.89], [23.99, 164...   \n",
              "6    [[24.32, 163.22]]  [[24.68, 164.93], [24.18, 164.89], [23.99, 164...   \n",
              "7    [[24.19, 164.02]]  [[24.68, 164.93], [24.18, 164.89], [23.99, 164...   \n",
              "8    [[23.81, 163.59]]  [[24.68, 164.93], [24.18, 164.89], [23.99, 164...   \n",
              "9    [[24.03, 163.32]]  [[24.68, 164.93], [24.18, 164.89], [23.99, 164...   \n",
              "10   [[24.34, 163.34]]  [[24.68, 164.93], [24.18, 164.89], [23.99, 164...   \n",
              "\n",
              "     output_vector  \n",
              "0   [28.87, 63.44]  \n",
              "1   [27.76, 59.98]  \n",
              "2   [27.04, 59.61]  \n",
              "3   [27.84, 59.41]  \n",
              "4   [28.02, 60.09]  \n",
              "5   [28.25, 59.62]  \n",
              "6   [28.24, 58.65]  \n",
              "7    [28.43, 59.2]  \n",
              "8   [29.17, 56.18]  \n",
              "9   [29.38, 56.64]  \n",
              "10  [29.51, 57.49]  "
            ]
          },
          "metadata": {
            "tags": []
          },
          "execution_count": 38
        }
      ]
    },
    {
      "metadata": {
        "id": "KHmA9I69KyPC",
        "colab_type": "text"
      },
      "cell_type": "markdown",
      "source": [
        "The input sequences have to be the same length to run them through the model, so you need to pad them to be the max length of your cumulative vectors:"
      ]
    },
    {
      "metadata": {
        "id": "Pk_M8lr-IUfb",
        "colab_type": "code",
        "outputId": "5b2a48cb-a779-4d85-87da-6735ac4dd479",
        "colab": {
          "base_uri": "https://localhost:8080/",
          "height": 558
        }
      },
      "cell_type": "code",
      "source": [
        "# Pad your sequences so they are the same length\n",
        "from keras.preprocessing.sequence import pad_sequences\n",
        "\n",
        "max_sequence_length = df.cumulative_input_vectors.apply(len).max()\n",
        "# Save it as a list   \n",
        "padded_sequences = pad_sequences(df.cumulative_input_vectors.tolist(), max_sequence_length).tolist()\n",
        "df['padded_input_vectors'] = pd.Series(padded_sequences).apply(np.asarray)\n",
        "df"
      ],
      "execution_count": 0,
      "outputs": [
        {
          "output_type": "execute_result",
          "data": {
            "text/html": [
              "<div>\n",
              "<style scoped>\n",
              "    .dataframe tbody tr th:only-of-type {\n",
              "        vertical-align: middle;\n",
              "    }\n",
              "\n",
              "    .dataframe tbody tr th {\n",
              "        vertical-align: top;\n",
              "    }\n",
              "\n",
              "    .dataframe thead th {\n",
              "        text-align: right;\n",
              "    }\n",
              "</style>\n",
              "<table border=\"1\" class=\"dataframe\">\n",
              "  <thead>\n",
              "    <tr style=\"text-align: right;\">\n",
              "      <th></th>\n",
              "      <th>Date</th>\n",
              "      <th>A</th>\n",
              "      <th>B</th>\n",
              "      <th>C</th>\n",
              "      <th>D</th>\n",
              "      <th>E</th>\n",
              "      <th>F</th>\n",
              "      <th>G</th>\n",
              "      <th>single_input_vector</th>\n",
              "      <th>cumulative_input_vectors</th>\n",
              "      <th>output_vector</th>\n",
              "      <th>padded_input_vectors</th>\n",
              "    </tr>\n",
              "  </thead>\n",
              "  <tbody>\n",
              "    <tr>\n",
              "      <th>0</th>\n",
              "      <td>2008-03-18</td>\n",
              "      <td>24.68</td>\n",
              "      <td>164.93</td>\n",
              "      <td>114.73</td>\n",
              "      <td>26.27</td>\n",
              "      <td>19.21</td>\n",
              "      <td>28.87</td>\n",
              "      <td>63.44</td>\n",
              "      <td>[[24.68, 164.93]]</td>\n",
              "      <td>[[24.68, 164.93]]</td>\n",
              "      <td>[28.87, 63.44]</td>\n",
              "      <td>[[0, 0], [0, 0], [0, 0], [0, 0], [0, 0], [0, 0...</td>\n",
              "    </tr>\n",
              "    <tr>\n",
              "      <th>1</th>\n",
              "      <td>2008-03-19</td>\n",
              "      <td>24.18</td>\n",
              "      <td>164.89</td>\n",
              "      <td>114.75</td>\n",
              "      <td>26.22</td>\n",
              "      <td>19.07</td>\n",
              "      <td>27.76</td>\n",
              "      <td>59.98</td>\n",
              "      <td>[[24.18, 164.89]]</td>\n",
              "      <td>[[24.68, 164.93], [24.18, 164.89]]</td>\n",
              "      <td>[27.76, 59.98]</td>\n",
              "      <td>[[0, 0], [0, 0], [0, 0], [0, 0], [0, 0], [0, 0...</td>\n",
              "    </tr>\n",
              "    <tr>\n",
              "      <th>2</th>\n",
              "      <td>2008-03-20</td>\n",
              "      <td>23.99</td>\n",
              "      <td>164.63</td>\n",
              "      <td>115.04</td>\n",
              "      <td>25.78</td>\n",
              "      <td>19.01</td>\n",
              "      <td>27.04</td>\n",
              "      <td>59.61</td>\n",
              "      <td>[[23.99, 164.63]]</td>\n",
              "      <td>[[24.68, 164.93], [24.18, 164.89], [23.99, 164...</td>\n",
              "      <td>[27.04, 59.61]</td>\n",
              "      <td>[[0, 0], [0, 0], [0, 0], [0, 0], [0, 0], [0, 0...</td>\n",
              "    </tr>\n",
              "    <tr>\n",
              "      <th>3</th>\n",
              "      <td>2008-03-25</td>\n",
              "      <td>24.14</td>\n",
              "      <td>163.92</td>\n",
              "      <td>114.85</td>\n",
              "      <td>27.41</td>\n",
              "      <td>19.61</td>\n",
              "      <td>27.84</td>\n",
              "      <td>59.41</td>\n",
              "      <td>[[24.14, 163.92]]</td>\n",
              "      <td>[[24.68, 164.93], [24.18, 164.89], [23.99, 164...</td>\n",
              "      <td>[27.84, 59.41]</td>\n",
              "      <td>[[0, 0], [0, 0], [0, 0], [0, 0], [0, 0], [0, 0...</td>\n",
              "    </tr>\n",
              "    <tr>\n",
              "      <th>4</th>\n",
              "      <td>2008-03-26</td>\n",
              "      <td>24.44</td>\n",
              "      <td>163.45</td>\n",
              "      <td>114.84</td>\n",
              "      <td>26.86</td>\n",
              "      <td>19.53</td>\n",
              "      <td>28.02</td>\n",
              "      <td>60.09</td>\n",
              "      <td>[[24.44, 163.45]]</td>\n",
              "      <td>[[24.68, 164.93], [24.18, 164.89], [23.99, 164...</td>\n",
              "      <td>[28.02, 60.09]</td>\n",
              "      <td>[[0, 0], [0, 0], [0, 0], [0, 0], [0, 0], [0, 0...</td>\n",
              "    </tr>\n",
              "    <tr>\n",
              "      <th>5</th>\n",
              "      <td>2008-03-27</td>\n",
              "      <td>24.38</td>\n",
              "      <td>163.46</td>\n",
              "      <td>115.40</td>\n",
              "      <td>27.09</td>\n",
              "      <td>19.72</td>\n",
              "      <td>28.25</td>\n",
              "      <td>59.62</td>\n",
              "      <td>[[24.38, 163.46]]</td>\n",
              "      <td>[[24.68, 164.93], [24.18, 164.89], [23.99, 164...</td>\n",
              "      <td>[28.25, 59.62]</td>\n",
              "      <td>[[0, 0], [0, 0], [0, 0], [0, 0], [0, 0], [24, ...</td>\n",
              "    </tr>\n",
              "    <tr>\n",
              "      <th>6</th>\n",
              "      <td>2008-03-28</td>\n",
              "      <td>24.32</td>\n",
              "      <td>163.22</td>\n",
              "      <td>115.56</td>\n",
              "      <td>27.13</td>\n",
              "      <td>19.63</td>\n",
              "      <td>28.24</td>\n",
              "      <td>58.65</td>\n",
              "      <td>[[24.32, 163.22]]</td>\n",
              "      <td>[[24.68, 164.93], [24.18, 164.89], [23.99, 164...</td>\n",
              "      <td>[28.24, 58.65]</td>\n",
              "      <td>[[0, 0], [0, 0], [0, 0], [0, 0], [24, 164], [2...</td>\n",
              "    </tr>\n",
              "    <tr>\n",
              "      <th>7</th>\n",
              "      <td>2008-03-31</td>\n",
              "      <td>24.19</td>\n",
              "      <td>164.02</td>\n",
              "      <td>115.54</td>\n",
              "      <td>26.74</td>\n",
              "      <td>19.55</td>\n",
              "      <td>28.43</td>\n",
              "      <td>59.20</td>\n",
              "      <td>[[24.19, 164.02]]</td>\n",
              "      <td>[[24.68, 164.93], [24.18, 164.89], [23.99, 164...</td>\n",
              "      <td>[28.43, 59.2]</td>\n",
              "      <td>[[0, 0], [0, 0], [0, 0], [24, 164], [24, 164],...</td>\n",
              "    </tr>\n",
              "    <tr>\n",
              "      <th>8</th>\n",
              "      <td>2008-04-01</td>\n",
              "      <td>23.81</td>\n",
              "      <td>163.59</td>\n",
              "      <td>115.72</td>\n",
              "      <td>27.82</td>\n",
              "      <td>20.21</td>\n",
              "      <td>29.17</td>\n",
              "      <td>56.18</td>\n",
              "      <td>[[23.81, 163.59]]</td>\n",
              "      <td>[[24.68, 164.93], [24.18, 164.89], [23.99, 164...</td>\n",
              "      <td>[29.17, 56.18]</td>\n",
              "      <td>[[0, 0], [0, 0], [24, 164], [24, 164], [23, 16...</td>\n",
              "    </tr>\n",
              "    <tr>\n",
              "      <th>9</th>\n",
              "      <td>2008-04-02</td>\n",
              "      <td>24.03</td>\n",
              "      <td>163.32</td>\n",
              "      <td>115.11</td>\n",
              "      <td>28.22</td>\n",
              "      <td>20.42</td>\n",
              "      <td>29.38</td>\n",
              "      <td>56.64</td>\n",
              "      <td>[[24.03, 163.32]]</td>\n",
              "      <td>[[24.68, 164.93], [24.18, 164.89], [23.99, 164...</td>\n",
              "      <td>[29.38, 56.64]</td>\n",
              "      <td>[[0, 0], [24, 164], [24, 164], [23, 164], [24,...</td>\n",
              "    </tr>\n",
              "    <tr>\n",
              "      <th>10</th>\n",
              "      <td>2008-04-03</td>\n",
              "      <td>24.34</td>\n",
              "      <td>163.34</td>\n",
              "      <td>115.17</td>\n",
              "      <td>28.14</td>\n",
              "      <td>20.36</td>\n",
              "      <td>29.51</td>\n",
              "      <td>57.49</td>\n",
              "      <td>[[24.34, 163.34]]</td>\n",
              "      <td>[[24.68, 164.93], [24.18, 164.89], [23.99, 164...</td>\n",
              "      <td>[29.51, 57.49]</td>\n",
              "      <td>[[24, 164], [24, 164], [23, 164], [24, 163], [...</td>\n",
              "    </tr>\n",
              "  </tbody>\n",
              "</table>\n",
              "</div>"
            ],
            "text/plain": [
              "          Date      A       B       C      D      E      F      G  \\\n",
              "0   2008-03-18  24.68  164.93  114.73  26.27  19.21  28.87  63.44   \n",
              "1   2008-03-19  24.18  164.89  114.75  26.22  19.07  27.76  59.98   \n",
              "2   2008-03-20  23.99  164.63  115.04  25.78  19.01  27.04  59.61   \n",
              "3   2008-03-25  24.14  163.92  114.85  27.41  19.61  27.84  59.41   \n",
              "4   2008-03-26  24.44  163.45  114.84  26.86  19.53  28.02  60.09   \n",
              "5   2008-03-27  24.38  163.46  115.40  27.09  19.72  28.25  59.62   \n",
              "6   2008-03-28  24.32  163.22  115.56  27.13  19.63  28.24  58.65   \n",
              "7   2008-03-31  24.19  164.02  115.54  26.74  19.55  28.43  59.20   \n",
              "8   2008-04-01  23.81  163.59  115.72  27.82  20.21  29.17  56.18   \n",
              "9   2008-04-02  24.03  163.32  115.11  28.22  20.42  29.38  56.64   \n",
              "10  2008-04-03  24.34  163.34  115.17  28.14  20.36  29.51  57.49   \n",
              "\n",
              "   single_input_vector                           cumulative_input_vectors  \\\n",
              "0    [[24.68, 164.93]]                                  [[24.68, 164.93]]   \n",
              "1    [[24.18, 164.89]]                 [[24.68, 164.93], [24.18, 164.89]]   \n",
              "2    [[23.99, 164.63]]  [[24.68, 164.93], [24.18, 164.89], [23.99, 164...   \n",
              "3    [[24.14, 163.92]]  [[24.68, 164.93], [24.18, 164.89], [23.99, 164...   \n",
              "4    [[24.44, 163.45]]  [[24.68, 164.93], [24.18, 164.89], [23.99, 164...   \n",
              "5    [[24.38, 163.46]]  [[24.68, 164.93], [24.18, 164.89], [23.99, 164...   \n",
              "6    [[24.32, 163.22]]  [[24.68, 164.93], [24.18, 164.89], [23.99, 164...   \n",
              "7    [[24.19, 164.02]]  [[24.68, 164.93], [24.18, 164.89], [23.99, 164...   \n",
              "8    [[23.81, 163.59]]  [[24.68, 164.93], [24.18, 164.89], [23.99, 164...   \n",
              "9    [[24.03, 163.32]]  [[24.68, 164.93], [24.18, 164.89], [23.99, 164...   \n",
              "10   [[24.34, 163.34]]  [[24.68, 164.93], [24.18, 164.89], [23.99, 164...   \n",
              "\n",
              "     output_vector                               padded_input_vectors  \n",
              "0   [28.87, 63.44]  [[0, 0], [0, 0], [0, 0], [0, 0], [0, 0], [0, 0...  \n",
              "1   [27.76, 59.98]  [[0, 0], [0, 0], [0, 0], [0, 0], [0, 0], [0, 0...  \n",
              "2   [27.04, 59.61]  [[0, 0], [0, 0], [0, 0], [0, 0], [0, 0], [0, 0...  \n",
              "3   [27.84, 59.41]  [[0, 0], [0, 0], [0, 0], [0, 0], [0, 0], [0, 0...  \n",
              "4   [28.02, 60.09]  [[0, 0], [0, 0], [0, 0], [0, 0], [0, 0], [0, 0...  \n",
              "5   [28.25, 59.62]  [[0, 0], [0, 0], [0, 0], [0, 0], [0, 0], [24, ...  \n",
              "6   [28.24, 58.65]  [[0, 0], [0, 0], [0, 0], [0, 0], [24, 164], [2...  \n",
              "7    [28.43, 59.2]  [[0, 0], [0, 0], [0, 0], [24, 164], [24, 164],...  \n",
              "8   [29.17, 56.18]  [[0, 0], [0, 0], [24, 164], [24, 164], [23, 16...  \n",
              "9   [29.38, 56.64]  [[0, 0], [24, 164], [24, 164], [23, 164], [24,...  \n",
              "10  [29.51, 57.49]  [[24, 164], [24, 164], [23, 164], [24, 163], [...  "
            ]
          },
          "metadata": {
            "tags": []
          },
          "execution_count": 39
        }
      ]
    },
    {
      "metadata": {
        "id": "1rnGoDECUlGD",
        "colab_type": "code",
        "outputId": "160413e0-2f92-4670-acd6-77f40fb3d61a",
        "colab": {
          "base_uri": "https://localhost:8080/",
          "height": 34
        }
      },
      "cell_type": "code",
      "source": [
        "len(df)"
      ],
      "execution_count": 0,
      "outputs": [
        {
          "output_type": "execute_result",
          "data": {
            "text/plain": [
              "11"
            ]
          },
          "metadata": {
            "tags": []
          },
          "execution_count": 40
        }
      ]
    },
    {
      "metadata": {
        "id": "Fs9q6DtfMTCA",
        "colab_type": "text"
      },
      "cell_type": "markdown",
      "source": [
        "Training data can be pulled from the dataframe and put into numpy arrays. Note that the input data that comes out of the dataframe will not make a 3D array. It makes an array of arrays, which is not the same thing.\n",
        "\n",
        "You can use hstack and reshape to build a 3D input array."
      ]
    },
    {
      "metadata": {
        "id": "-tnLTnDjMMrM",
        "colab_type": "code",
        "colab": {}
      },
      "cell_type": "code",
      "source": [
        "# Extract your training data\n",
        "X_train_init = np.asarray(df.padded_input_vectors)\n",
        "# Use hstack to and reshape to make the inputs a 3d vector\n",
        "X_train = np.hstack(X_train_init).reshape(len(df),max_sequence_length,len(input_cols))\n",
        "y_train = np.hstack(np.asarray(df.output_vector)).reshape(len(df),len(output_cols))"
      ],
      "execution_count": 0,
      "outputs": []
    },
    {
      "metadata": {
        "id": "EXkUS1gHN82a",
        "colab_type": "code",
        "outputId": "80389a3a-ea02-4b1a-9aa2-548fd82d5330",
        "colab": {
          "base_uri": "https://localhost:8080/",
          "height": 202
        }
      },
      "cell_type": "code",
      "source": [
        "X_train_init[5]"
      ],
      "execution_count": 0,
      "outputs": [
        {
          "output_type": "execute_result",
          "data": {
            "text/plain": [
              "array([[  0,   0],\n",
              "       [  0,   0],\n",
              "       [  0,   0],\n",
              "       [  0,   0],\n",
              "       [  0,   0],\n",
              "       [ 24, 164],\n",
              "       [ 24, 164],\n",
              "       [ 23, 164],\n",
              "       [ 24, 163],\n",
              "       [ 24, 163],\n",
              "       [ 24, 163]])"
            ]
          },
          "metadata": {
            "tags": []
          },
          "execution_count": 46
        }
      ]
    },
    {
      "metadata": {
        "id": "QYjGlpf_QSyy",
        "colab_type": "code",
        "outputId": "0a938577-776e-498f-83f3-53b891b3e3cd",
        "colab": {
          "base_uri": "https://localhost:8080/",
          "height": 202
        }
      },
      "cell_type": "code",
      "source": [
        "X_train[5]"
      ],
      "execution_count": 0,
      "outputs": [
        {
          "output_type": "execute_result",
          "data": {
            "text/plain": [
              "array([[  0,   0],\n",
              "       [  0,   0],\n",
              "       [  0,   0],\n",
              "       [  0,   0],\n",
              "       [  0,   0],\n",
              "       [ 24, 164],\n",
              "       [ 24, 164],\n",
              "       [ 23, 164],\n",
              "       [ 24, 163],\n",
              "       [ 24, 163],\n",
              "       [ 24, 163]])"
            ]
          },
          "metadata": {
            "tags": []
          },
          "execution_count": 47
        }
      ]
    },
    {
      "metadata": {
        "id": "8Mu9yJYLQ_0W",
        "colab_type": "code",
        "outputId": "b57063c3-01a5-4551-c777-f487388c6797",
        "colab": {
          "base_uri": "https://localhost:8080/",
          "height": 34
        }
      },
      "cell_type": "code",
      "source": [
        "y_train[1]"
      ],
      "execution_count": 0,
      "outputs": [
        {
          "output_type": "execute_result",
          "data": {
            "text/plain": [
              "array([27.76, 59.98])"
            ]
          },
          "metadata": {
            "tags": []
          },
          "execution_count": 48
        }
      ]
    },
    {
      "metadata": {
        "id": "PbiHM1uiRMGF",
        "colab_type": "code",
        "outputId": "a5d4b9ff-28f8-4007-e30d-e30aa4ea2211",
        "colab": {
          "base_uri": "https://localhost:8080/",
          "height": 121
        }
      },
      "cell_type": "code",
      "source": [
        "print(X_train_init.shape)\n",
        "print(X_train.shape)\n",
        "print(X_train == X_train_init)"
      ],
      "execution_count": 0,
      "outputs": [
        {
          "output_type": "stream",
          "text": [
            "(11,)\n",
            "(11, 11, 2)\n",
            "False\n"
          ],
          "name": "stdout"
        },
        {
          "output_type": "stream",
          "text": [
            "/usr/local/lib/python3.6/dist-packages/ipykernel_launcher.py:3: DeprecationWarning: elementwise == comparison failed; this will raise an error in the future.\n",
            "  This is separate from the ipykernel package so we can avoid doing imports until\n"
          ],
          "name": "stderr"
        }
      ]
    },
    {
      "metadata": {
        "id": "59hhNLhkRZEu",
        "colab_type": "text"
      },
      "cell_type": "markdown",
      "source": [
        "Once you have training data you can define the dimensions of your input layer and output layers."
      ]
    },
    {
      "metadata": {
        "id": "y_O_2yx1RVTj",
        "colab_type": "code",
        "colab": {}
      },
      "cell_type": "code",
      "source": [
        "# Get your input dimensions\n",
        "# Input length is the length for one input sequence (i.e. the number of rows for your sample)\n",
        "# Input dim is the number of dimensions in one input vector (i.e. number of input columns)\n",
        "input_length = X_train.shape[1]\n",
        "input_dim = X_train.shape[2]\n",
        "# Output dimensions is the shape of a single output vector\n",
        "# In this case it's just 1, but it could be more\n",
        "output_dim = len(y_train[0])"
      ],
      "execution_count": 0,
      "outputs": []
    },
    {
      "metadata": {
        "id": "k1B-qSF5Rnxz",
        "colab_type": "code",
        "outputId": "743cfe0a-e58b-4c49-f559-38fae2d67fa3",
        "colab": {
          "base_uri": "https://localhost:8080/",
          "height": 34
        }
      },
      "cell_type": "code",
      "source": [
        "X_train.shape"
      ],
      "execution_count": 0,
      "outputs": [
        {
          "output_type": "execute_result",
          "data": {
            "text/plain": [
              "(11, 11, 2)"
            ]
          },
          "metadata": {
            "tags": []
          },
          "execution_count": 51
        }
      ]
    },
    {
      "metadata": {
        "id": "WqlIdMtPhgyl",
        "colab_type": "code",
        "outputId": "0caa3da4-5d61-48c8-93b0-6b8599227b15",
        "colab": {
          "base_uri": "https://localhost:8080/",
          "height": 2218
        }
      },
      "cell_type": "code",
      "source": [
        "X_train"
      ],
      "execution_count": 0,
      "outputs": [
        {
          "output_type": "execute_result",
          "data": {
            "text/plain": [
              "array([[[  0,   0],\n",
              "        [  0,   0],\n",
              "        [  0,   0],\n",
              "        [  0,   0],\n",
              "        [  0,   0],\n",
              "        [  0,   0],\n",
              "        [  0,   0],\n",
              "        [  0,   0],\n",
              "        [  0,   0],\n",
              "        [  0,   0],\n",
              "        [ 24, 164]],\n",
              "\n",
              "       [[  0,   0],\n",
              "        [  0,   0],\n",
              "        [  0,   0],\n",
              "        [  0,   0],\n",
              "        [  0,   0],\n",
              "        [  0,   0],\n",
              "        [  0,   0],\n",
              "        [  0,   0],\n",
              "        [  0,   0],\n",
              "        [ 24, 164],\n",
              "        [ 24, 164]],\n",
              "\n",
              "       [[  0,   0],\n",
              "        [  0,   0],\n",
              "        [  0,   0],\n",
              "        [  0,   0],\n",
              "        [  0,   0],\n",
              "        [  0,   0],\n",
              "        [  0,   0],\n",
              "        [  0,   0],\n",
              "        [ 24, 164],\n",
              "        [ 24, 164],\n",
              "        [ 23, 164]],\n",
              "\n",
              "       [[  0,   0],\n",
              "        [  0,   0],\n",
              "        [  0,   0],\n",
              "        [  0,   0],\n",
              "        [  0,   0],\n",
              "        [  0,   0],\n",
              "        [  0,   0],\n",
              "        [ 24, 164],\n",
              "        [ 24, 164],\n",
              "        [ 23, 164],\n",
              "        [ 24, 163]],\n",
              "\n",
              "       [[  0,   0],\n",
              "        [  0,   0],\n",
              "        [  0,   0],\n",
              "        [  0,   0],\n",
              "        [  0,   0],\n",
              "        [  0,   0],\n",
              "        [ 24, 164],\n",
              "        [ 24, 164],\n",
              "        [ 23, 164],\n",
              "        [ 24, 163],\n",
              "        [ 24, 163]],\n",
              "\n",
              "       [[  0,   0],\n",
              "        [  0,   0],\n",
              "        [  0,   0],\n",
              "        [  0,   0],\n",
              "        [  0,   0],\n",
              "        [ 24, 164],\n",
              "        [ 24, 164],\n",
              "        [ 23, 164],\n",
              "        [ 24, 163],\n",
              "        [ 24, 163],\n",
              "        [ 24, 163]],\n",
              "\n",
              "       [[  0,   0],\n",
              "        [  0,   0],\n",
              "        [  0,   0],\n",
              "        [  0,   0],\n",
              "        [ 24, 164],\n",
              "        [ 24, 164],\n",
              "        [ 23, 164],\n",
              "        [ 24, 163],\n",
              "        [ 24, 163],\n",
              "        [ 24, 163],\n",
              "        [ 24, 163]],\n",
              "\n",
              "       [[  0,   0],\n",
              "        [  0,   0],\n",
              "        [  0,   0],\n",
              "        [ 24, 164],\n",
              "        [ 24, 164],\n",
              "        [ 23, 164],\n",
              "        [ 24, 163],\n",
              "        [ 24, 163],\n",
              "        [ 24, 163],\n",
              "        [ 24, 163],\n",
              "        [ 24, 164]],\n",
              "\n",
              "       [[  0,   0],\n",
              "        [  0,   0],\n",
              "        [ 24, 164],\n",
              "        [ 24, 164],\n",
              "        [ 23, 164],\n",
              "        [ 24, 163],\n",
              "        [ 24, 163],\n",
              "        [ 24, 163],\n",
              "        [ 24, 163],\n",
              "        [ 24, 164],\n",
              "        [ 23, 163]],\n",
              "\n",
              "       [[  0,   0],\n",
              "        [ 24, 164],\n",
              "        [ 24, 164],\n",
              "        [ 23, 164],\n",
              "        [ 24, 163],\n",
              "        [ 24, 163],\n",
              "        [ 24, 163],\n",
              "        [ 24, 163],\n",
              "        [ 24, 164],\n",
              "        [ 23, 163],\n",
              "        [ 24, 163]],\n",
              "\n",
              "       [[ 24, 164],\n",
              "        [ 24, 164],\n",
              "        [ 23, 164],\n",
              "        [ 24, 163],\n",
              "        [ 24, 163],\n",
              "        [ 24, 163],\n",
              "        [ 24, 163],\n",
              "        [ 24, 164],\n",
              "        [ 23, 163],\n",
              "        [ 24, 163],\n",
              "        [ 24, 163]]])"
            ]
          },
          "metadata": {
            "tags": []
          },
          "execution_count": 58
        }
      ]
    },
    {
      "metadata": {
        "id": "DETwCoddRp4S",
        "colab_type": "code",
        "outputId": "cf945be6-2733-4034-c5f5-879d5627e95a",
        "colab": {
          "base_uri": "https://localhost:8080/",
          "height": 34
        }
      },
      "cell_type": "code",
      "source": [
        "y_train.shape"
      ],
      "execution_count": 0,
      "outputs": [
        {
          "output_type": "execute_result",
          "data": {
            "text/plain": [
              "(11, 2)"
            ]
          },
          "metadata": {
            "tags": []
          },
          "execution_count": 31
        }
      ]
    },
    {
      "metadata": {
        "id": "AtgoY-CDTaqV",
        "colab_type": "text"
      },
      "cell_type": "markdown",
      "source": [
        "Build the model:"
      ]
    },
    {
      "metadata": {
        "id": "_syeNCQbTH3h",
        "colab_type": "code",
        "outputId": "10157e32-3517-43b8-cf6f-6c8851793c23",
        "colab": {
          "base_uri": "https://localhost:8080/",
          "height": 104
        }
      },
      "cell_type": "code",
      "source": [
        "from keras.models import Model, Sequential\n",
        "from keras.layers import LSTM, Dense\n",
        "\n",
        "# Build the model\n",
        "model = Sequential()\n",
        "\n",
        "# I arbitrarily picked the output dimensions as 4\n",
        "model.add(LSTM(4, input_dim = input_dim, input_length = input_length))\n",
        "# The max output value is > 1 so relu is used as final activation.\n",
        "model.add(Dense(output_dim, activation='relu'))\n",
        "\n",
        "model.compile(loss='mean_squared_error',\n",
        "              optimizer='sgd',\n",
        "              metrics=['accuracy'])"
      ],
      "execution_count": 0,
      "outputs": [
        {
          "output_type": "stream",
          "text": [
            "/usr/local/lib/python3.6/dist-packages/ipykernel_launcher.py:8: UserWarning: The `input_dim` and `input_length` arguments in recurrent layers are deprecated. Use `input_shape` instead.\n",
            "  \n",
            "/usr/local/lib/python3.6/dist-packages/ipykernel_launcher.py:8: UserWarning: Update your `LSTM` call to the Keras 2 API: `LSTM(4, input_shape=(11, 2))`\n",
            "  \n"
          ],
          "name": "stderr"
        }
      ]
    },
    {
      "metadata": {
        "id": "gN48rynmUBPW",
        "colab_type": "text"
      },
      "cell_type": "markdown",
      "source": [
        "Finally you can train the model and save the training log as history:"
      ]
    },
    {
      "metadata": {
        "id": "9Qw0MgzhT-G5",
        "colab_type": "code",
        "outputId": "71646647-09cc-4242-91cb-a2995858382c",
        "colab": {
          "base_uri": "https://localhost:8080/",
          "height": 171
        }
      },
      "cell_type": "code",
      "source": [
        "# Set batch_size to 7 to show that it doesn't have to be a factor or multiple of your sample size\n",
        "history = model.fit(X_train, y_train,\n",
        "              batch_size=7, nb_epoch=3,\n",
        "              verbose = 1)"
      ],
      "execution_count": 0,
      "outputs": [
        {
          "output_type": "stream",
          "text": [
            "Epoch 1/3\n",
            "11/11 [==============================] - 0s 2ms/step - loss: 1070.3638 - acc: 1.0000\n",
            "Epoch 2/3\n",
            "11/11 [==============================] - 0s 2ms/step - loss: 1004.0063 - acc: 1.0000\n",
            "Epoch 3/3\n",
            "11/11 [==============================] - 0s 2ms/step - loss: 944.0716 - acc: 1.0000\n"
          ],
          "name": "stdout"
        },
        {
          "output_type": "stream",
          "text": [
            "/usr/local/lib/python3.6/dist-packages/ipykernel_launcher.py:3: UserWarning: The `nb_epoch` argument in `fit` has been renamed `epochs`.\n",
            "  This is separate from the ipykernel package so we can avoid doing imports until\n"
          ],
          "name": "stderr"
        }
      ]
    },
    {
      "metadata": {
        "id": "eguC13XEUNdE",
        "colab_type": "text"
      },
      "cell_type": "markdown",
      "source": [
        "That's it. Use model.predict(X) where X is the same format (other than the number of samples) as X_train in order to make predictions from the model."
      ]
    },
    {
      "metadata": {
        "id": "EBAJFgiOUIVp",
        "colab_type": "code",
        "colab": {}
      },
      "cell_type": "code",
      "source": [
        ""
      ],
      "execution_count": 0,
      "outputs": []
    },
    {
      "metadata": {
        "id": "Fyqh4RJrzJCN",
        "colab_type": "text"
      },
      "cell_type": "markdown",
      "source": [
        "# Deep Learning for Time Series Forecasting \n",
        "\n",
        "  - Lesson 01: [Promise of Deep Learning]()\n",
        "  - Lesson 02: How to Transform Data for Time Series\n",
        "  - Lesson 03: MLP for Time Series Forecasting\n",
        "  - Lesson 04: CNN for Time Series Forecasting\n",
        "  - Lesson 05: LSTM for Time Series Forecasting\n",
        "  - Lesson 06: CNN-LSTM for Time Series Forecasting\n",
        "  - Lesson 07: Encoder-Decoder LSTM Multi-step Forecasting"
      ]
    },
    {
      "metadata": {
        "id": "Qf7dw2KeZ_jz",
        "colab_type": "text"
      },
      "cell_type": "markdown",
      "source": [
        "## [Lesson 01: Promise of Deep Learning](https://machinelearningmastery.com/promise-recurrent-neural-networks-time-series-forecasting/)\n",
        "\n",
        "  - Unlike the simpler problems of classification and regression, time series problems add the complexity of order or temporal dependence between observations.\n",
        "  \n",
        "  ### Neural Networks for Time Series\n",
        "  \n",
        "  - Robust to Noise. Neural networks are robust to noise in input data and in the mapping function and can even support learning and prediction in the presence of missing values.\n",
        "\n",
        "  - Nonlinear. Neural networks do not make strong assumptions about the mapping function and readily learn linear and nonlinear relationships.\n",
        "  \n",
        "  - Multivariate Inputs. An arbitrary number of input features can be specified, providing direct support for multivariate forecasting.\n",
        "Multi-Step Forecasts. An arbitrary number of output values can be specified, providing direct support for multi-step and even multivariate forecasting.\n",
        "\n",
        "  ### Recurrent Neural Networks for Time Series\n",
        "  -  Learned Temporal Dependence. The context of observations over time is learned. In addition to the general benefits of using neural networks for time series forecasting, recurrent neural networks can also learn the temporal dependence from the data.\n",
        "  \n",
        "  ### Summary\n",
        "  \n",
        "  - Traditional time series forecasting methods focus on univariate data with linear relationships and fixed and manually-diagnosed temporal dependence.\n",
        "  - Neural networks add the capability to learn possibly noisy and nonlinear relationships with arbitrarily defined but fixed numbers of inputs and outputs supporting multivariate and multi-step forecasting.\n",
        "  - Recurrent neural networks add the explicit handling of ordered observations and the promise of learning temporal dependence from context.\n",
        "  "
      ]
    },
    {
      "metadata": {
        "id": "syshntIXaJXp",
        "colab_type": "text"
      },
      "cell_type": "markdown",
      "source": [
        "## Lesson 02: How to Transform Data for Time Series\n",
        "\n",
        "  - Given a sequence of numbers for a time series dataset, we can restructure the data to look like a supervised learning problem. We can do this by using previous time steps as input variables and use the next time step as the output variable.\n",
        "  \n",
        "\n",
        "  \n",
        "More Information\n",
        "Time Series Forecasting as Supervised Learning\n",
        "How to Convert a Time Series to a Supervised Learning Problem in Python\n",
        "How to Prepare Univariate Time Series Data for Long Short-Term Memory Networks"
      ]
    },
    {
      "metadata": {
        "id": "KBZNbSO0dcdK",
        "colab_type": "code",
        "colab": {}
      },
      "cell_type": "code",
      "source": [
        "import pandas as pd\n",
        "data = pd.read_csv(\"https://raw.githubusercontent.com/jbrownlee/Datasets/master/daily-total-female-births.csv\")\n",
        "X_ans=[]\n",
        "Y_ans=[]\n",
        "for i in range (len(data[\"Births\"])-2):\n",
        "    X=list(data[\"Births\"])[i:i+3]\n",
        "    Y=list(data[\"Births\"])[i+1]\n",
        "    X_ans.append(X)\n",
        "    Y_ans.append(Y)\n",
        "    in_=pd.DataFrame([ str(x) for x in X_ans ],columns=['input'])\n",
        "    out=pd.DataFrame([ str(x) for x in Y_ans ],columns=['output'])\n",
        "ans_1=pd.concat([in_,out],axis=1)"
      ],
      "execution_count": 0,
      "outputs": []
    },
    {
      "metadata": {
        "id": "y_CIqoUmkCG3",
        "colab_type": "code",
        "colab": {}
      },
      "cell_type": "code",
      "source": [
        "def window_transform(dataset, window=2):\n",
        "\tdataX, dataY = [], []\n",
        "\tfor i in range(len(dataset)-window):\n",
        "\t\tprint(dataset[i:(i+window)], dataset[(i+window)])\n",
        "\t\tdataX.append(dataset[i:(i+window)])\n",
        "\t\tdataY.append(dataset[(i+window)])\n",
        "\treturn np.array(dataX), np.array(dataY)\n",
        "\n",
        "#data1 = pd.read_csv(\"https://raw.githubusercontent.com/jbrownlee/Datasets/master/daily-total-female-births.csv\")\n",
        "#window_transform(data1)"
      ],
      "execution_count": 0,
      "outputs": []
    },
    {
      "metadata": {
        "id": "CYFarow1dqYY",
        "colab_type": "code",
        "outputId": "7641f2de-648a-4c2b-9422-62d92a69b54d",
        "colab": {
          "base_uri": "https://localhost:8080/",
          "height": 1882
        }
      },
      "cell_type": "code",
      "source": [
        "ans_1"
      ],
      "execution_count": 0,
      "outputs": [
        {
          "output_type": "execute_result",
          "data": {
            "text/html": [
              "<div>\n",
              "<style scoped>\n",
              "    .dataframe tbody tr th:only-of-type {\n",
              "        vertical-align: middle;\n",
              "    }\n",
              "\n",
              "    .dataframe tbody tr th {\n",
              "        vertical-align: top;\n",
              "    }\n",
              "\n",
              "    .dataframe thead th {\n",
              "        text-align: right;\n",
              "    }\n",
              "</style>\n",
              "<table border=\"1\" class=\"dataframe\">\n",
              "  <thead>\n",
              "    <tr style=\"text-align: right;\">\n",
              "      <th></th>\n",
              "      <th>input</th>\n",
              "      <th>output</th>\n",
              "    </tr>\n",
              "  </thead>\n",
              "  <tbody>\n",
              "    <tr>\n",
              "      <th>0</th>\n",
              "      <td>[35, 32, 30]</td>\n",
              "      <td>32</td>\n",
              "    </tr>\n",
              "    <tr>\n",
              "      <th>1</th>\n",
              "      <td>[32, 30, 31]</td>\n",
              "      <td>30</td>\n",
              "    </tr>\n",
              "    <tr>\n",
              "      <th>2</th>\n",
              "      <td>[30, 31, 44]</td>\n",
              "      <td>31</td>\n",
              "    </tr>\n",
              "    <tr>\n",
              "      <th>3</th>\n",
              "      <td>[31, 44, 29]</td>\n",
              "      <td>44</td>\n",
              "    </tr>\n",
              "    <tr>\n",
              "      <th>4</th>\n",
              "      <td>[44, 29, 45]</td>\n",
              "      <td>29</td>\n",
              "    </tr>\n",
              "    <tr>\n",
              "      <th>5</th>\n",
              "      <td>[29, 45, 43]</td>\n",
              "      <td>45</td>\n",
              "    </tr>\n",
              "    <tr>\n",
              "      <th>6</th>\n",
              "      <td>[45, 43, 38]</td>\n",
              "      <td>43</td>\n",
              "    </tr>\n",
              "    <tr>\n",
              "      <th>7</th>\n",
              "      <td>[43, 38, 27]</td>\n",
              "      <td>38</td>\n",
              "    </tr>\n",
              "    <tr>\n",
              "      <th>8</th>\n",
              "      <td>[38, 27, 38]</td>\n",
              "      <td>27</td>\n",
              "    </tr>\n",
              "    <tr>\n",
              "      <th>9</th>\n",
              "      <td>[27, 38, 33]</td>\n",
              "      <td>38</td>\n",
              "    </tr>\n",
              "    <tr>\n",
              "      <th>10</th>\n",
              "      <td>[38, 33, 55]</td>\n",
              "      <td>33</td>\n",
              "    </tr>\n",
              "    <tr>\n",
              "      <th>11</th>\n",
              "      <td>[33, 55, 47]</td>\n",
              "      <td>55</td>\n",
              "    </tr>\n",
              "    <tr>\n",
              "      <th>12</th>\n",
              "      <td>[55, 47, 45]</td>\n",
              "      <td>47</td>\n",
              "    </tr>\n",
              "    <tr>\n",
              "      <th>13</th>\n",
              "      <td>[47, 45, 37]</td>\n",
              "      <td>45</td>\n",
              "    </tr>\n",
              "    <tr>\n",
              "      <th>14</th>\n",
              "      <td>[45, 37, 50]</td>\n",
              "      <td>37</td>\n",
              "    </tr>\n",
              "    <tr>\n",
              "      <th>15</th>\n",
              "      <td>[37, 50, 43]</td>\n",
              "      <td>50</td>\n",
              "    </tr>\n",
              "    <tr>\n",
              "      <th>16</th>\n",
              "      <td>[50, 43, 41]</td>\n",
              "      <td>43</td>\n",
              "    </tr>\n",
              "    <tr>\n",
              "      <th>17</th>\n",
              "      <td>[43, 41, 52]</td>\n",
              "      <td>41</td>\n",
              "    </tr>\n",
              "    <tr>\n",
              "      <th>18</th>\n",
              "      <td>[41, 52, 34]</td>\n",
              "      <td>52</td>\n",
              "    </tr>\n",
              "    <tr>\n",
              "      <th>19</th>\n",
              "      <td>[52, 34, 53]</td>\n",
              "      <td>34</td>\n",
              "    </tr>\n",
              "    <tr>\n",
              "      <th>20</th>\n",
              "      <td>[34, 53, 39]</td>\n",
              "      <td>53</td>\n",
              "    </tr>\n",
              "    <tr>\n",
              "      <th>21</th>\n",
              "      <td>[53, 39, 32]</td>\n",
              "      <td>39</td>\n",
              "    </tr>\n",
              "    <tr>\n",
              "      <th>22</th>\n",
              "      <td>[39, 32, 37]</td>\n",
              "      <td>32</td>\n",
              "    </tr>\n",
              "    <tr>\n",
              "      <th>23</th>\n",
              "      <td>[32, 37, 43]</td>\n",
              "      <td>37</td>\n",
              "    </tr>\n",
              "    <tr>\n",
              "      <th>24</th>\n",
              "      <td>[37, 43, 39]</td>\n",
              "      <td>43</td>\n",
              "    </tr>\n",
              "    <tr>\n",
              "      <th>25</th>\n",
              "      <td>[43, 39, 35]</td>\n",
              "      <td>39</td>\n",
              "    </tr>\n",
              "    <tr>\n",
              "      <th>26</th>\n",
              "      <td>[39, 35, 44]</td>\n",
              "      <td>35</td>\n",
              "    </tr>\n",
              "    <tr>\n",
              "      <th>27</th>\n",
              "      <td>[35, 44, 38]</td>\n",
              "      <td>44</td>\n",
              "    </tr>\n",
              "    <tr>\n",
              "      <th>28</th>\n",
              "      <td>[44, 38, 24]</td>\n",
              "      <td>38</td>\n",
              "    </tr>\n",
              "    <tr>\n",
              "      <th>29</th>\n",
              "      <td>[38, 24, 23]</td>\n",
              "      <td>24</td>\n",
              "    </tr>\n",
              "    <tr>\n",
              "      <th>...</th>\n",
              "      <td>...</td>\n",
              "      <td>...</td>\n",
              "    </tr>\n",
              "    <tr>\n",
              "      <th>333</th>\n",
              "      <td>[52, 45, 32]</td>\n",
              "      <td>45</td>\n",
              "    </tr>\n",
              "    <tr>\n",
              "      <th>334</th>\n",
              "      <td>[45, 32, 46]</td>\n",
              "      <td>32</td>\n",
              "    </tr>\n",
              "    <tr>\n",
              "      <th>335</th>\n",
              "      <td>[32, 46, 41]</td>\n",
              "      <td>46</td>\n",
              "    </tr>\n",
              "    <tr>\n",
              "      <th>336</th>\n",
              "      <td>[46, 41, 34]</td>\n",
              "      <td>41</td>\n",
              "    </tr>\n",
              "    <tr>\n",
              "      <th>337</th>\n",
              "      <td>[41, 34, 33]</td>\n",
              "      <td>34</td>\n",
              "    </tr>\n",
              "    <tr>\n",
              "      <th>338</th>\n",
              "      <td>[34, 33, 36]</td>\n",
              "      <td>33</td>\n",
              "    </tr>\n",
              "    <tr>\n",
              "      <th>339</th>\n",
              "      <td>[33, 36, 49]</td>\n",
              "      <td>36</td>\n",
              "    </tr>\n",
              "    <tr>\n",
              "      <th>340</th>\n",
              "      <td>[36, 49, 43]</td>\n",
              "      <td>49</td>\n",
              "    </tr>\n",
              "    <tr>\n",
              "      <th>341</th>\n",
              "      <td>[49, 43, 43]</td>\n",
              "      <td>43</td>\n",
              "    </tr>\n",
              "    <tr>\n",
              "      <th>342</th>\n",
              "      <td>[43, 43, 34]</td>\n",
              "      <td>43</td>\n",
              "    </tr>\n",
              "    <tr>\n",
              "      <th>343</th>\n",
              "      <td>[43, 34, 39]</td>\n",
              "      <td>34</td>\n",
              "    </tr>\n",
              "    <tr>\n",
              "      <th>344</th>\n",
              "      <td>[34, 39, 35]</td>\n",
              "      <td>39</td>\n",
              "    </tr>\n",
              "    <tr>\n",
              "      <th>345</th>\n",
              "      <td>[39, 35, 52]</td>\n",
              "      <td>35</td>\n",
              "    </tr>\n",
              "    <tr>\n",
              "      <th>346</th>\n",
              "      <td>[35, 52, 47]</td>\n",
              "      <td>52</td>\n",
              "    </tr>\n",
              "    <tr>\n",
              "      <th>347</th>\n",
              "      <td>[52, 47, 52]</td>\n",
              "      <td>47</td>\n",
              "    </tr>\n",
              "    <tr>\n",
              "      <th>348</th>\n",
              "      <td>[47, 52, 39]</td>\n",
              "      <td>52</td>\n",
              "    </tr>\n",
              "    <tr>\n",
              "      <th>349</th>\n",
              "      <td>[52, 39, 40]</td>\n",
              "      <td>39</td>\n",
              "    </tr>\n",
              "    <tr>\n",
              "      <th>350</th>\n",
              "      <td>[39, 40, 42]</td>\n",
              "      <td>40</td>\n",
              "    </tr>\n",
              "    <tr>\n",
              "      <th>351</th>\n",
              "      <td>[40, 42, 42]</td>\n",
              "      <td>42</td>\n",
              "    </tr>\n",
              "    <tr>\n",
              "      <th>352</th>\n",
              "      <td>[42, 42, 53]</td>\n",
              "      <td>42</td>\n",
              "    </tr>\n",
              "    <tr>\n",
              "      <th>353</th>\n",
              "      <td>[42, 53, 39]</td>\n",
              "      <td>53</td>\n",
              "    </tr>\n",
              "    <tr>\n",
              "      <th>354</th>\n",
              "      <td>[53, 39, 40]</td>\n",
              "      <td>39</td>\n",
              "    </tr>\n",
              "    <tr>\n",
              "      <th>355</th>\n",
              "      <td>[39, 40, 38]</td>\n",
              "      <td>40</td>\n",
              "    </tr>\n",
              "    <tr>\n",
              "      <th>356</th>\n",
              "      <td>[40, 38, 44]</td>\n",
              "      <td>38</td>\n",
              "    </tr>\n",
              "    <tr>\n",
              "      <th>357</th>\n",
              "      <td>[38, 44, 34]</td>\n",
              "      <td>44</td>\n",
              "    </tr>\n",
              "    <tr>\n",
              "      <th>358</th>\n",
              "      <td>[44, 34, 37]</td>\n",
              "      <td>34</td>\n",
              "    </tr>\n",
              "    <tr>\n",
              "      <th>359</th>\n",
              "      <td>[34, 37, 52]</td>\n",
              "      <td>37</td>\n",
              "    </tr>\n",
              "    <tr>\n",
              "      <th>360</th>\n",
              "      <td>[37, 52, 48]</td>\n",
              "      <td>52</td>\n",
              "    </tr>\n",
              "    <tr>\n",
              "      <th>361</th>\n",
              "      <td>[52, 48, 55]</td>\n",
              "      <td>48</td>\n",
              "    </tr>\n",
              "    <tr>\n",
              "      <th>362</th>\n",
              "      <td>[48, 55, 50]</td>\n",
              "      <td>55</td>\n",
              "    </tr>\n",
              "  </tbody>\n",
              "</table>\n",
              "<p>363 rows × 2 columns</p>\n",
              "</div>"
            ],
            "text/plain": [
              "            input output\n",
              "0    [35, 32, 30]     32\n",
              "1    [32, 30, 31]     30\n",
              "2    [30, 31, 44]     31\n",
              "3    [31, 44, 29]     44\n",
              "4    [44, 29, 45]     29\n",
              "5    [29, 45, 43]     45\n",
              "6    [45, 43, 38]     43\n",
              "7    [43, 38, 27]     38\n",
              "8    [38, 27, 38]     27\n",
              "9    [27, 38, 33]     38\n",
              "10   [38, 33, 55]     33\n",
              "11   [33, 55, 47]     55\n",
              "12   [55, 47, 45]     47\n",
              "13   [47, 45, 37]     45\n",
              "14   [45, 37, 50]     37\n",
              "15   [37, 50, 43]     50\n",
              "16   [50, 43, 41]     43\n",
              "17   [43, 41, 52]     41\n",
              "18   [41, 52, 34]     52\n",
              "19   [52, 34, 53]     34\n",
              "20   [34, 53, 39]     53\n",
              "21   [53, 39, 32]     39\n",
              "22   [39, 32, 37]     32\n",
              "23   [32, 37, 43]     37\n",
              "24   [37, 43, 39]     43\n",
              "25   [43, 39, 35]     39\n",
              "26   [39, 35, 44]     35\n",
              "27   [35, 44, 38]     44\n",
              "28   [44, 38, 24]     38\n",
              "29   [38, 24, 23]     24\n",
              "..            ...    ...\n",
              "333  [52, 45, 32]     45\n",
              "334  [45, 32, 46]     32\n",
              "335  [32, 46, 41]     46\n",
              "336  [46, 41, 34]     41\n",
              "337  [41, 34, 33]     34\n",
              "338  [34, 33, 36]     33\n",
              "339  [33, 36, 49]     36\n",
              "340  [36, 49, 43]     49\n",
              "341  [49, 43, 43]     43\n",
              "342  [43, 43, 34]     43\n",
              "343  [43, 34, 39]     34\n",
              "344  [34, 39, 35]     39\n",
              "345  [39, 35, 52]     35\n",
              "346  [35, 52, 47]     52\n",
              "347  [52, 47, 52]     47\n",
              "348  [47, 52, 39]     52\n",
              "349  [52, 39, 40]     39\n",
              "350  [39, 40, 42]     40\n",
              "351  [40, 42, 42]     42\n",
              "352  [42, 42, 53]     42\n",
              "353  [42, 53, 39]     53\n",
              "354  [53, 39, 40]     39\n",
              "355  [39, 40, 38]     40\n",
              "356  [40, 38, 44]     38\n",
              "357  [38, 44, 34]     44\n",
              "358  [44, 34, 37]     34\n",
              "359  [34, 37, 52]     37\n",
              "360  [37, 52, 48]     52\n",
              "361  [52, 48, 55]     48\n",
              "362  [48, 55, 50]     55\n",
              "\n",
              "[363 rows x 2 columns]"
            ]
          },
          "metadata": {
            "tags": []
          },
          "execution_count": 57
        }
      ]
    },
    {
      "metadata": {
        "id": "CCX5MwLYf3JJ",
        "colab_type": "text"
      },
      "cell_type": "markdown",
      "source": [
        "### Time Series Forecasting as Supervised Learning\n",
        "\n",
        "  Time series forecasting can be framed as a supervised learning problem.\n",
        "  \n",
        "  - What supervised learning is and how it is the foundation for all predictive modeling machine learning algorithms.\n",
        "  - The sliding window method for framing a time series dataset and how to use it.\n",
        "  - How to use the sliding window for multivariate data and multi-step forecasting.\n",
        "  - summary \n",
        "    - Supervised learning is the most popular way of framing problems for machine learning as a collection of observations with inputs and outputs.\n",
        "    - Sliding window is the way to restructure a time series dataset as a supervised learning problem.\n",
        "    - Multivariate and multi-step forecasting time series can also be framed as supervised learning using the sliding window method."
      ]
    },
    {
      "metadata": {
        "id": "f3x0U0uCgNfZ",
        "colab_type": "text"
      },
      "cell_type": "markdown",
      "source": [
        "#### Supervised Machine Learning\n",
        "  Supervised learning is where you have input variables (X) and an output variable (y) and you use an algorithm to learn the mapping function from the input to the output.\n",
        "  \n",
        "  - Classification: A classification problem is when the output variable is a category, such as “red” and “blue” or “disease” and “no disease.”\n",
        "  - Regression: A regression problem is when the output variable is a real value, such as “dollars” or “weight.” The contrived example above is a regression problem.\n"
      ]
    },
    {
      "metadata": {
        "id": "GYaEQZdrhvtA",
        "colab_type": "text"
      },
      "cell_type": "markdown",
      "source": [
        "#### Sliding Window For Time Series Data\n",
        "Given a sequence of numbers for a time series dataset, we can restructure the data to look like a supervised learning problem. We can do this by using previous time steps as input variables and use the next time step as the output variable.\n",
        "\n",
        "  - The use of prior time steps to predict the next time step is called the sliding window method. \n",
        "  - The number of previous time steps is called the window width or size of the lag.\n",
        "  \n",
        "  - x(t) - > x(t), y(t)=x(t+1)"
      ]
    },
    {
      "metadata": {
        "id": "VzLsrj7Fipm1",
        "colab_type": "text"
      },
      "cell_type": "markdown",
      "source": [
        "#### Sliding Window With Multivariate Time Series Data\n",
        "Multivariate time series analysis considers simultaneously multiple time series. … It is, in general, much more complicated than univariate time series analysis\n",
        "\n",
        "  - Univariate Time Series: These are datasets where only a single variable is observed at each time, such as temperature each hour. The example in the previous section is a univariate time series dataset.\n",
        "  - Multivariate Time Series: These are datasets where two or more variables are observed at each time.\n",
        "  \n",
        " - x1(t), x2(t)->x1(t), x2(t), y(t)=(x1(t+1),x2(t+1))\n"
      ]
    },
    {
      "metadata": {
        "id": "IBz_MFxWkdqY",
        "colab_type": "text"
      },
      "cell_type": "markdown",
      "source": [
        "#### Sliding Window With Multi-Step Forecasting\n",
        "\n",
        "  - One-Step Forecast: This is where the next time step (t+1) is predicted.\n",
        "  - Multi-Step Forecast: This is where two or more future time steps are to be predicted.\n",
        "  - x(t) -> x(t), y1(t)=x(t+1), y2(t)=x(t+2)"
      ]
    },
    {
      "metadata": {
        "id": "1cBoeQKjo9uO",
        "colab_type": "text"
      },
      "cell_type": "markdown",
      "source": [
        "### How to Convert a Time Series to a Supervised Learning Problem in Python\n",
        "\n",
        "  - goal\n",
        "    - How to develop a function to transform a time series dataset into a supervised learning dataset.\n",
        "    - How to transform univariate time series data for machine learning.\n",
        "    - How to transform multivariate time series data for machine learning."
      ]
    },
    {
      "metadata": {
        "id": "zfXN4QaJpyBV",
        "colab_type": "text"
      },
      "cell_type": "markdown",
      "source": [
        "#### Pandas shift() Function\n",
        "\n",
        "A key function to help transform time series data into a supervised learning problem is the Pandas shift() function.\n",
        "\n",
        "Given a DataFrame, the shift() function can be used to create copies of columns that are pushed forward (rows of NaN values added to the front) or pulled back (rows of NaN values added to the end)."
      ]
    },
    {
      "metadata": {
        "id": "6Uc6jPCnrBW0",
        "colab_type": "code",
        "outputId": "aba0d60e-d7ce-4dbe-ee50-a4fc89c99998",
        "colab": {
          "base_uri": "https://localhost:8080/",
          "height": 217
        }
      },
      "cell_type": "code",
      "source": [
        "from pandas import DataFrame\n",
        "df = DataFrame()\n",
        "df['t'] = [x for x in range(10)]\n",
        "df['t-1'] = df['t'].shift(1)\n",
        "df['t+1'] = df['t'].shift(-1)\n",
        "print(df)\n"
      ],
      "execution_count": 0,
      "outputs": [
        {
          "output_type": "stream",
          "text": [
            "   t  t-1  t+1\n",
            "0  0  NaN  1.0\n",
            "1  1  0.0  2.0\n",
            "2  2  1.0  3.0\n",
            "3  3  2.0  4.0\n",
            "4  4  3.0  5.0\n",
            "5  5  4.0  6.0\n",
            "6  6  5.0  7.0\n",
            "7  7  6.0  8.0\n",
            "8  8  7.0  9.0\n",
            "9  9  8.0  NaN\n"
          ],
          "name": "stdout"
        }
      ]
    },
    {
      "metadata": {
        "id": "2BJIYlcjshZz",
        "colab_type": "text"
      },
      "cell_type": "markdown",
      "source": [
        "#### The series_to_supervised() Function\n",
        "\n",
        "series_to_supervised() that takes a univariate or multivariate time series and frames it as a supervised learning dataset.\n",
        "\n",
        "  - The function takes four arguments:\n",
        "\n",
        "    - data: Sequence of observations as a list or 2D NumPy array. Required.\n",
        "    - n_in: Number of lag observations as input (X). Values may be between [1..len(data)] Optional. Defaults to 1.\n",
        "    - n_out: Number of observations as output (y). Values may be between [0..len(data)-1]. Optional. Defaults to 1.\n",
        "    - dropnan: Boolean whether or not to drop rows with NaN values. Optional. Defaults to True.\n",
        "\n",
        "  - The function returns a single value:\n",
        "\n",
        "    - return: Pandas DataFrame of series framed for supervised learning.\n"
      ]
    },
    {
      "metadata": {
        "id": "FEiYTck1ueow",
        "colab_type": "code",
        "colab": {}
      },
      "cell_type": "code",
      "source": [
        "from pandas import DataFrame\n",
        "from pandas import concat\n",
        "\n",
        "def series_to_supervised(data, n_in=1, n_out=1, dropnan=True):\n",
        "\t\"\"\"\n",
        "\tFrame a time series as a supervised learning dataset.\n",
        "\tArguments:\n",
        "\t\tdata: Sequence of observations as a list or NumPy array.\n",
        "\t\tn_in: Number of lag observations as input (X).\n",
        "\t\tn_out: Number of observations as output (y).\n",
        "\t\tdropnan: Boolean whether or not to drop rows with NaN values.\n",
        "\tReturns:\n",
        "\t\tPandas DataFrame of series framed for supervised learning.\n",
        "\t\"\"\"\n",
        "\tn_vars = 1 if type(data) is list else data.shape[1]\n",
        "\tdf = DataFrame(data)\n",
        "\tcols, names = list(), list()\n",
        "\t# input sequence (t-n, ... t-1)\n",
        "\tfor i in range(n_in, 0, -1):\n",
        "\t\tcols.append(df.shift(i))\n",
        "\t\tnames += [('var%d(t-%d)' % (j+1, i)) for j in range(n_vars)]\n",
        "\t# forecast sequence (t, t+1, ... t+n)\n",
        "\tfor i in range(0, n_out):\n",
        "\t\tcols.append(df.shift(-i))\n",
        "\t\tif i == 0:\n",
        "\t\t\tnames += [('var%d(t)' % (j+1)) for j in range(n_vars)]\n",
        "\t\telse:\n",
        "\t\t\tnames += [('var%d(t+%d)' % (j+1, i)) for j in range(n_vars)]\n",
        "\t# put it all together\n",
        "\tagg = concat(cols, axis=1)\n",
        "\tagg.columns = names\n",
        "\t# drop rows with NaN values\n",
        "\tif dropnan:\n",
        "\t\tagg.dropna(inplace=True)\n",
        "\treturn agg"
      ],
      "execution_count": 0,
      "outputs": []
    },
    {
      "metadata": {
        "id": "cX8z70eDu-Qb",
        "colab_type": "code",
        "outputId": "80fb8000-1168-49e1-e687-f9161a289fe7",
        "colab": {
          "base_uri": "https://localhost:8080/",
          "height": 306
        }
      },
      "cell_type": "code",
      "source": [
        "df = DataFrame()\n",
        "df['t'] = [x for x in range(10)]\n",
        "df['t1'] = [x for x in range(10,20)]\n",
        "print(df.shape)\n",
        "series_to_supervised(df,n_in=2,n_out=1)\n"
      ],
      "execution_count": 0,
      "outputs": [
        {
          "output_type": "stream",
          "text": [
            "(10, 2)\n"
          ],
          "name": "stdout"
        },
        {
          "output_type": "execute_result",
          "data": {
            "text/html": [
              "<div>\n",
              "<style scoped>\n",
              "    .dataframe tbody tr th:only-of-type {\n",
              "        vertical-align: middle;\n",
              "    }\n",
              "\n",
              "    .dataframe tbody tr th {\n",
              "        vertical-align: top;\n",
              "    }\n",
              "\n",
              "    .dataframe thead th {\n",
              "        text-align: right;\n",
              "    }\n",
              "</style>\n",
              "<table border=\"1\" class=\"dataframe\">\n",
              "  <thead>\n",
              "    <tr style=\"text-align: right;\">\n",
              "      <th></th>\n",
              "      <th>var1(t-2)</th>\n",
              "      <th>var2(t-2)</th>\n",
              "      <th>var1(t-1)</th>\n",
              "      <th>var2(t-1)</th>\n",
              "      <th>var1(t)</th>\n",
              "      <th>var2(t)</th>\n",
              "    </tr>\n",
              "  </thead>\n",
              "  <tbody>\n",
              "    <tr>\n",
              "      <th>2</th>\n",
              "      <td>0.0</td>\n",
              "      <td>10.0</td>\n",
              "      <td>1.0</td>\n",
              "      <td>11.0</td>\n",
              "      <td>2</td>\n",
              "      <td>12</td>\n",
              "    </tr>\n",
              "    <tr>\n",
              "      <th>3</th>\n",
              "      <td>1.0</td>\n",
              "      <td>11.0</td>\n",
              "      <td>2.0</td>\n",
              "      <td>12.0</td>\n",
              "      <td>3</td>\n",
              "      <td>13</td>\n",
              "    </tr>\n",
              "    <tr>\n",
              "      <th>4</th>\n",
              "      <td>2.0</td>\n",
              "      <td>12.0</td>\n",
              "      <td>3.0</td>\n",
              "      <td>13.0</td>\n",
              "      <td>4</td>\n",
              "      <td>14</td>\n",
              "    </tr>\n",
              "    <tr>\n",
              "      <th>5</th>\n",
              "      <td>3.0</td>\n",
              "      <td>13.0</td>\n",
              "      <td>4.0</td>\n",
              "      <td>14.0</td>\n",
              "      <td>5</td>\n",
              "      <td>15</td>\n",
              "    </tr>\n",
              "    <tr>\n",
              "      <th>6</th>\n",
              "      <td>4.0</td>\n",
              "      <td>14.0</td>\n",
              "      <td>5.0</td>\n",
              "      <td>15.0</td>\n",
              "      <td>6</td>\n",
              "      <td>16</td>\n",
              "    </tr>\n",
              "    <tr>\n",
              "      <th>7</th>\n",
              "      <td>5.0</td>\n",
              "      <td>15.0</td>\n",
              "      <td>6.0</td>\n",
              "      <td>16.0</td>\n",
              "      <td>7</td>\n",
              "      <td>17</td>\n",
              "    </tr>\n",
              "    <tr>\n",
              "      <th>8</th>\n",
              "      <td>6.0</td>\n",
              "      <td>16.0</td>\n",
              "      <td>7.0</td>\n",
              "      <td>17.0</td>\n",
              "      <td>8</td>\n",
              "      <td>18</td>\n",
              "    </tr>\n",
              "    <tr>\n",
              "      <th>9</th>\n",
              "      <td>7.0</td>\n",
              "      <td>17.0</td>\n",
              "      <td>8.0</td>\n",
              "      <td>18.0</td>\n",
              "      <td>9</td>\n",
              "      <td>19</td>\n",
              "    </tr>\n",
              "  </tbody>\n",
              "</table>\n",
              "</div>"
            ],
            "text/plain": [
              "   var1(t-2)  var2(t-2)  var1(t-1)  var2(t-1)  var1(t)  var2(t)\n",
              "2        0.0       10.0        1.0       11.0        2       12\n",
              "3        1.0       11.0        2.0       12.0        3       13\n",
              "4        2.0       12.0        3.0       13.0        4       14\n",
              "5        3.0       13.0        4.0       14.0        5       15\n",
              "6        4.0       14.0        5.0       15.0        6       16\n",
              "7        5.0       15.0        6.0       16.0        7       17\n",
              "8        6.0       16.0        7.0       17.0        8       18\n",
              "9        7.0       17.0        8.0       18.0        9       19"
            ]
          },
          "metadata": {
            "tags": []
          },
          "execution_count": 13
        }
      ]
    },
    {
      "metadata": {
        "id": "47c5NwFjwwUy",
        "colab_type": "text"
      },
      "cell_type": "markdown",
      "source": [
        "#### One-Step Univariate Forecasting\n",
        "  - one-step forecasting: use lagged observations (e.g. t-1) as input variables to forecast the current time step (t)."
      ]
    },
    {
      "metadata": {
        "id": "hK-WWDCixMeH",
        "colab_type": "code",
        "outputId": "98d5067c-7499-4f12-fe7d-e58ab4614062",
        "colab": {
          "base_uri": "https://localhost:8080/",
          "height": 345
        }
      },
      "cell_type": "code",
      "source": [
        "from pandas import DataFrame\n",
        "from pandas import concat\n",
        "\n",
        "def series_to_supervised(data, n_in=1, n_out=1, dropnan=True):\n",
        "\t\"\"\"\n",
        "\tFrame a time series as a supervised learning dataset.\n",
        "\tArguments:\n",
        "\t\tdata: Sequence of observations as a list or NumPy array.\n",
        "\t\tn_in: Number of lag observations as input (X).\n",
        "\t\tn_out: Number of observations as output (y).\n",
        "\t\tdropnan: Boolean whether or not to drop rows with NaN values.\n",
        "\tReturns:\n",
        "\t\tPandas DataFrame of series framed for supervised learning.\n",
        "\t\"\"\"\n",
        "\tn_vars = 1 if type(data) is list else data.shape[1]\n",
        "\tdf = DataFrame(data)\n",
        "\tcols, names = list(), list()\n",
        "\t# input sequence (t-n, ... t-1)\n",
        "\tfor i in range(n_in, 0, -1):\n",
        "\t\tcols.append(df.shift(i))\n",
        "\t\tnames += [('var%d(t-%d)' % (j+1, i)) for j in range(n_vars)]\n",
        "\t# forecast sequence (t, t+1, ... t+n)\n",
        "\tfor i in range(0, n_out):\n",
        "\t\tcols.append(df.shift(-i))\n",
        "\t\tif i == 0:\n",
        "\t\t\tnames += [('var%d(t)' % (j+1)) for j in range(n_vars)]\n",
        "\t\telse:\n",
        "\t\t\tnames += [('var%d(t+%d)' % (j+1, i)) for j in range(n_vars)]\n",
        "\t# put it all together\n",
        "\tagg = concat(cols, axis=1)\n",
        "\tagg.columns = names\n",
        "\t# drop rows with NaN values\n",
        "\tif dropnan:\n",
        "\t\tagg.dropna(inplace=True)\n",
        "\treturn agg\n",
        "\n",
        "\n",
        "values = [x for x in range(10)]\n",
        "data = series_to_supervised(values)\n",
        "print(data)\n",
        "\t\n",
        "data1 = series_to_supervised(values, 3)\n",
        "print(data1)"
      ],
      "execution_count": 0,
      "outputs": [
        {
          "output_type": "stream",
          "text": [
            "   var1(t-1)  var1(t)\n",
            "1        0.0        1\n",
            "2        1.0        2\n",
            "3        2.0        3\n",
            "4        3.0        4\n",
            "5        4.0        5\n",
            "6        5.0        6\n",
            "7        6.0        7\n",
            "8        7.0        8\n",
            "9        8.0        9\n",
            "   var1(t-3)  var1(t-2)  var1(t-1)  var1(t)\n",
            "3        0.0        1.0        2.0        3\n",
            "4        1.0        2.0        3.0        4\n",
            "5        2.0        3.0        4.0        5\n",
            "6        3.0        4.0        5.0        6\n",
            "7        4.0        5.0        6.0        7\n",
            "8        5.0        6.0        7.0        8\n",
            "9        6.0        7.0        8.0        9\n"
          ],
          "name": "stdout"
        }
      ]
    },
    {
      "metadata": {
        "id": "m2o6wRPPxjAC",
        "colab_type": "text"
      },
      "cell_type": "markdown",
      "source": [
        "#### Multi-Step or Sequence Forecasting\n",
        "sequence forecasting or multi-step forecasting: using past observations to forecast a sequence of future observations."
      ]
    },
    {
      "metadata": {
        "id": "mQTb4efhxsgd",
        "colab_type": "code",
        "outputId": "9e054b2e-cda2-4c7f-eaba-2b2ef45d598a",
        "colab": {
          "base_uri": "https://localhost:8080/",
          "height": 163
        }
      },
      "cell_type": "code",
      "source": [
        "data = series_to_supervised(values, 2, 2)\n",
        "print(data)"
      ],
      "execution_count": 0,
      "outputs": [
        {
          "output_type": "stream",
          "text": [
            "   var1(t-2)  var1(t-1)  var1(t)  var1(t+1)\n",
            "2        0.0        1.0        2        3.0\n",
            "3        1.0        2.0        3        4.0\n",
            "4        2.0        3.0        4        5.0\n",
            "5        3.0        4.0        5        6.0\n",
            "6        4.0        5.0        6        7.0\n",
            "7        5.0        6.0        7        8.0\n",
            "8        6.0        7.0        8        9.0\n"
          ],
          "name": "stdout"
        }
      ]
    },
    {
      "metadata": {
        "id": "siAWZGmNxvv3",
        "colab_type": "text"
      },
      "cell_type": "markdown",
      "source": [
        "#### Multivariate Forecasting\n",
        "\n",
        "we may have observations of multiple different measures and an interest in forecasting one or more of them."
      ]
    },
    {
      "metadata": {
        "id": "-3ABrBnCx4Pc",
        "colab_type": "code",
        "outputId": "7969672f-c2d2-4de1-91dd-231a3c5b8302",
        "colab": {
          "base_uri": "https://localhost:8080/",
          "height": 181
        }
      },
      "cell_type": "code",
      "source": [
        "raw = DataFrame()\n",
        "raw['ob1'] = [x for x in range(10)]\n",
        "raw['ob2'] = [x for x in range(50, 60)]\n",
        "values = raw.values\n",
        "data = series_to_supervised(values, 1, 2)\n",
        "print(data)"
      ],
      "execution_count": 0,
      "outputs": [
        {
          "output_type": "stream",
          "text": [
            "   var1(t-1)  var2(t-1)  var1(t)  var2(t)  var1(t+1)  var2(t+1)\n",
            "1        0.0       50.0        1       51        2.0       52.0\n",
            "2        1.0       51.0        2       52        3.0       53.0\n",
            "3        2.0       52.0        3       53        4.0       54.0\n",
            "4        3.0       53.0        4       54        5.0       55.0\n",
            "5        4.0       54.0        5       55        6.0       56.0\n",
            "6        5.0       55.0        6       56        7.0       57.0\n",
            "7        6.0       56.0        7       57        8.0       58.0\n",
            "8        7.0       57.0        8       58        9.0       59.0\n"
          ],
          "name": "stdout"
        }
      ]
    },
    {
      "metadata": {
        "id": "PSx0rlOR02_R",
        "colab_type": "text"
      },
      "cell_type": "markdown",
      "source": [
        "### How to Prepare Univariate Time Series Data for Long Short-Term Memory Networks\n",
        "\n",
        "  - Load data\n",
        "  - Drop time\n",
        "  - Split into Samples: LSTMs need to process samples where each sample is a single time series. (LSTMs work better with 200-to-400 time steps )\n",
        "  - Reshape Subsequences: The LSTM needs data with the format of [samples, time steps and features].\n",
        "  "
      ]
    },
    {
      "metadata": {
        "id": "nOnSGIC51KSZ",
        "colab_type": "code",
        "outputId": "e53a5403-0a1d-427b-d081-b7f7e927de05",
        "colab": {
          "base_uri": "https://localhost:8080/",
          "height": 126
        }
      },
      "cell_type": "code",
      "source": [
        "from numpy import array\n",
        "\n",
        "# load...\n",
        "data = list()\n",
        "n = 5000\n",
        "for i in range(n):\n",
        "\tdata.append([i+1, (i+1)*10])\n",
        "data = array(data)\n",
        "print(data[:5, :])\n",
        "print(data.shape)"
      ],
      "execution_count": 0,
      "outputs": [
        {
          "output_type": "stream",
          "text": [
            "[[ 1 10]\n",
            " [ 2 20]\n",
            " [ 3 30]\n",
            " [ 4 40]\n",
            " [ 5 50]]\n",
            "(5000, 2)\n"
          ],
          "name": "stdout"
        }
      ]
    },
    {
      "metadata": {
        "id": "ofVIFxPW1Omo",
        "colab_type": "code",
        "outputId": "ed23648c-4122-46b9-eca1-332ec29eab50",
        "colab": {
          "base_uri": "https://localhost:8080/",
          "height": 54
        }
      },
      "cell_type": "code",
      "source": [
        "# drop time\n",
        "data = data[:, 1]\n",
        "print(data.shape)\n",
        "data"
      ],
      "execution_count": 0,
      "outputs": [
        {
          "output_type": "stream",
          "text": [
            "(5000,)\n"
          ],
          "name": "stdout"
        },
        {
          "output_type": "execute_result",
          "data": {
            "text/plain": [
              "array([   10,    20,    30, ..., 49980, 49990, 50000])"
            ]
          },
          "metadata": {
            "tags": []
          },
          "execution_count": 31
        }
      ]
    },
    {
      "metadata": {
        "id": "ANmgyAxa2Jyj",
        "colab_type": "code",
        "outputId": "3be2407b-41e9-4d42-ef91-77a35852e450",
        "colab": {
          "base_uri": "https://localhost:8080/",
          "height": 54
        }
      },
      "cell_type": "code",
      "source": [
        "# split into samples (e.g. 5000/200 = 25)\n",
        "samples = list()\n",
        "length = 200\n",
        "# step over the 5,000 in jumps of 200\n",
        "for i in range(0,n,length):\n",
        "\t# grab from i to i + 200\n",
        "\tsample = data[i:i+length]\n",
        "\tsamples.append(sample)\n",
        "print(len(samples))\n",
        "print(len(samples[1]))"
      ],
      "execution_count": 0,
      "outputs": [
        {
          "output_type": "stream",
          "text": [
            "25\n",
            "200\n"
          ],
          "name": "stdout"
        }
      ]
    },
    {
      "metadata": {
        "id": "jGP9DNrI53Y1",
        "colab_type": "code",
        "outputId": "72fb5cf4-1bb6-428d-d966-7b9e6f7e85a6",
        "colab": {
          "base_uri": "https://localhost:8080/",
          "height": 35
        }
      },
      "cell_type": "code",
      "source": [
        "# convert list of arrays into 2d array\n",
        "data = array(samples)\n",
        "print(data.shape)"
      ],
      "execution_count": 0,
      "outputs": [
        {
          "output_type": "stream",
          "text": [
            "(25, 200)\n"
          ],
          "name": "stdout"
        }
      ]
    },
    {
      "metadata": {
        "id": "DIASHK8y58xk",
        "colab_type": "code",
        "outputId": "777f89df-aa03-4b04-dbd3-248c8b8b8d93",
        "colab": {
          "base_uri": "https://localhost:8080/",
          "height": 35
        }
      },
      "cell_type": "code",
      "source": [
        "# reshape into [samples, timesteps, features]\n",
        "# expect [25, 200, 1]\n",
        "data = data.reshape((len(samples), length, 1))\n",
        "print(data.shape)"
      ],
      "execution_count": 0,
      "outputs": [
        {
          "output_type": "stream",
          "text": [
            "(25, 200, 1)\n"
          ],
          "name": "stdout"
        }
      ]
    },
    {
      "metadata": {
        "id": "mUKhNMSn7E5b",
        "colab_type": "text"
      },
      "cell_type": "markdown",
      "source": [
        "### How to Load and Explore Time Series Data in Python\n",
        "\n",
        "  - How to load your time series dataset from a CSV file using Pandas.\n",
        "    - A Series is a one-dimensional array with a time label for each row.\n",
        "    - the read_csv() function\n",
        "      - header=0: We must specify the header information at row 0.\n",
        "      - parse_dates=[0]: We give the function a hint that data in the first column contains dates that need to be parsed. This argument takes a list, so we provide it a list of one element, which is the index of the first column.\n",
        "      - index_col=0: We hint that the first column contains the index information for the time series.\n",
        "      - squeeze=True: We hint that we only have one data column and that we are interested in a Series and not a DataFrame.\n",
        "  - How to peek at the loaded data and calculate summary statistics.\n",
        "    - the head() function to peek at the first 5 records or specify the first n number of records to review.\n",
        "    -   tail() function to get the last n records of the dataset.\n",
        "    - The describe() function creates a 7 number summary of the loaded time series including mean, standard deviation, median, minimum, and maximum of the observations.\n",
        "  - How to plot and review your time series data.\n",
        "    - the plot() function"
      ]
    },
    {
      "metadata": {
        "id": "9Ly0LZZZ7Yyg",
        "colab_type": "code",
        "colab": {}
      },
      "cell_type": "code",
      "source": [
        "# Load birth data\n",
        "from pandas import Series\n",
        "series = Series.from_csv('daily-total-female-births-in-cal.csv', header=0)\n",
        "print(series.head())"
      ],
      "execution_count": 0,
      "outputs": []
    },
    {
      "metadata": {
        "id": "Isv0Akio74kB",
        "colab_type": "code",
        "colab": {}
      },
      "cell_type": "code",
      "source": [
        "# Load birth data using read_csv\n",
        "from pandas import read_csv\n",
        "series = read_csv('daily-total-female-births-in-cal.csv', header=0, parse_dates=[0], index_col=0, squeeze=True)\n",
        "print(type(series))\n",
        "print(series.head())"
      ],
      "execution_count": 0,
      "outputs": []
    },
    {
      "metadata": {
        "id": "uJAU3alG9xvV",
        "colab_type": "code",
        "colab": {}
      },
      "cell_type": "code",
      "source": [
        "from pandas import Series\n",
        "series = Series.from_csv('daily-total-female-births-in-cal.csv', header=0)\n",
        "print(series.size)"
      ],
      "execution_count": 0,
      "outputs": []
    },
    {
      "metadata": {
        "id": "z4OEfzim-BjH",
        "colab_type": "code",
        "colab": {}
      },
      "cell_type": "code",
      "source": [
        "# Querying By Time\n",
        "from pandas import Series\n",
        "series = Series.from_csv('daily-total-female-births-in-cal.csv', header=0)\n",
        "print(series['1959-01'])"
      ],
      "execution_count": 0,
      "outputs": []
    },
    {
      "metadata": {
        "id": "92tMZ2jo-Ql1",
        "colab_type": "code",
        "colab": {}
      },
      "cell_type": "code",
      "source": [
        "from pandas import Series\n",
        "series = Series.from_csv('daily-total-female-births-in-cal.csv', header=0)\n",
        "print(series.describe())"
      ],
      "execution_count": 0,
      "outputs": []
    },
    {
      "metadata": {
        "id": "hqbD-LpS-hTV",
        "colab_type": "code",
        "colab": {}
      },
      "cell_type": "code",
      "source": [
        "from pandas import Series\n",
        "from matplotlib import pyplot\n",
        "series = Series.from_csv('daily-total-female-births-in-cal.csv', header=0)\n",
        "pyplot.plot(series)\n",
        "pyplot.show()"
      ],
      "execution_count": 0,
      "outputs": []
    },
    {
      "metadata": {
        "id": "lybe6T98-xPG",
        "colab_type": "text"
      },
      "cell_type": "markdown",
      "source": [
        "### [How To Load Machine Learning Data in Python](https://machinelearningmastery.com/load-machine-learning-data-python/)"
      ]
    },
    {
      "metadata": {
        "id": "7ttBjxe5-6qf",
        "colab_type": "text"
      },
      "cell_type": "markdown",
      "source": [
        "### [How to Handle Missing Timesteps in Sequence Prediction Problems with Python](https://machinelearningmastery.com/handle-missing-timesteps-sequence-prediction-problems-python/)\n"
      ]
    },
    {
      "metadata": {
        "id": "_nFPJ18G_Jep",
        "colab_type": "text"
      },
      "cell_type": "markdown",
      "source": [
        "### [How to Handle Missing Data with Python](https://machinelearningmastery.com/handle-missing-data-python/)"
      ]
    },
    {
      "metadata": {
        "id": "iVKahu0I_SlD",
        "colab_type": "text"
      },
      "cell_type": "markdown",
      "source": [
        "### [How To Resample and Interpolate Your Time Series Data With Python](https://machinelearningmastery.com/resample-interpolate-time-series-data-python/)"
      ]
    },
    {
      "metadata": {
        "id": "Vn-CcJ-L_jGt",
        "colab_type": "text"
      },
      "cell_type": "markdown",
      "source": [
        "### [How to Handle Very Long Sequences with Long Short-Term Memory Recurrent Neural Networks](https://machinelearningmastery.com/handle-long-sequences-long-short-term-memory-recurrent-neural-networks/)"
      ]
    },
    {
      "metadata": {
        "id": "-9lUsZ_I_qma",
        "colab_type": "text"
      },
      "cell_type": "markdown",
      "source": [
        "### [How to Prepare Sequence Prediction for Truncated Backpropagation Through Time in Keras](https://machinelearningmastery.com/truncated-backpropagation-through-time-in-keras/)"
      ]
    },
    {
      "metadata": {
        "id": "3rlaoYKedDBI",
        "colab_type": "text"
      },
      "cell_type": "markdown",
      "source": [
        "## Lesson 03: MLP for Time Series Forecasting\n",
        "\n",
        "  - develop a Multilayer Perceptron model or MLP for univariate time series forecasting.\n",
        "  \n",
        "  - We will define the number of input time steps as 3 via the input_dim argument on the first hidden layer. (e will frame the problem to have 3 inputs and 1 output, for example: [10, 20, 30] as input and [40] as output.) In this case we will use the efficient Adam version of stochastic gradient descent and optimizes the mean squared error (‘mse‘) loss function.\n",
        "  \n",
        "  - More Information\n",
        "Crash Course On Multi-Layer Perceptron Neural Networks\n",
        "Time Series Prediction With Deep Learning in Keras\n",
        "Exploratory Configuration of a Multilayer Perceptron Network for Time Series Forecasting"
      ]
    },
    {
      "metadata": {
        "id": "JbZZXPeMjHuO",
        "colab_type": "code",
        "outputId": "ac547d51-999e-42cf-856b-77d87f70007f",
        "colab": {
          "base_uri": "https://localhost:8080/",
          "height": 34
        }
      },
      "cell_type": "code",
      "source": [
        "# univariate mlp example\n",
        "from numpy import array\n",
        "from keras.models import Sequential\n",
        "from keras.layers import Dense\n",
        "# define dataset\n",
        "X = array([[10, 20, 30], [20, 30, 40], [30, 40, 50], [40, 50, 60]])\n",
        "y = array([40, 50, 60, 70])\n",
        "# define model\n",
        "model = Sequential()\n",
        "model.add(Dense(100, activation='relu', input_dim=3))\n",
        "model.add(Dense(1))\n",
        "model.compile(optimizer='adam', loss='mse')\n",
        "# fit model\n",
        "model.fit(X, y, epochs=2000, verbose=0)\n",
        "# demonstrate prediction\n",
        "x_input = array([50, 60, 70])\n",
        "x_input = x_input.reshape((1, 3))\n",
        "yhat = model.predict(x_input, verbose=0)\n",
        "print(yhat)"
      ],
      "execution_count": 0,
      "outputs": [
        {
          "output_type": "stream",
          "text": [
            "[[81.55059]]\n"
          ],
          "name": "stdout"
        }
      ]
    },
    {
      "metadata": {
        "id": "WekgDW5rjL5R",
        "colab_type": "code",
        "outputId": "15dc7d5b-82c4-4093-8119-1c4d292c5414",
        "colab": {
          "base_uri": "https://localhost:8080/",
          "height": 34
        }
      },
      "cell_type": "code",
      "source": [
        "array([50, 60, 70]).shape"
      ],
      "execution_count": 0,
      "outputs": [
        {
          "output_type": "execute_result",
          "data": {
            "text/plain": [
              "(3,)"
            ]
          },
          "metadata": {
            "tags": []
          },
          "execution_count": 60
        }
      ]
    },
    {
      "metadata": {
        "id": "Txh-whfyjRBP",
        "colab_type": "code",
        "outputId": "e3b88f53-1b43-4a81-ad0a-16f62f5a6027",
        "colab": {
          "base_uri": "https://localhost:8080/",
          "height": 34
        }
      },
      "cell_type": "code",
      "source": [
        "x_input.shape"
      ],
      "execution_count": 0,
      "outputs": [
        {
          "output_type": "execute_result",
          "data": {
            "text/plain": [
              "(1, 3)"
            ]
          },
          "metadata": {
            "tags": []
          },
          "execution_count": 63
        }
      ]
    },
    {
      "metadata": {
        "id": "r6UOTm8SBoH8",
        "colab_type": "text"
      },
      "cell_type": "markdown",
      "source": [
        "### [Crash Course On Multi-Layer Perceptron Neural Networks](https://machinelearningmastery.com/neural-networks-crash-course/)"
      ]
    },
    {
      "metadata": {
        "id": "mOK62Z5KB1Wb",
        "colab_type": "text"
      },
      "cell_type": "markdown",
      "source": [
        "### [Time Series Prediction With Deep Learning in Keras](https://machinelearningmastery.com/time-series-prediction-with-deep-learning-in-python-with-keras/)"
      ]
    },
    {
      "metadata": {
        "id": "vXFAOyIwq4-W",
        "colab_type": "text"
      },
      "cell_type": "markdown",
      "source": [
        "## Lesson 04: CNN for Time Series Forecasting\n",
        "\n",
        "  - develop a Convolutional Neural Network model or CNN for univariate time series forecasting.\n",
        "  \n",
        "  - An important difference from the MLP model is that the CNN model expects three-dimensional input with the shape [samples, timesteps, features]. We will define the data in the form [samples, timesteps] and reshape it accordingly.\n",
        "  \n",
        "  - We will define the number of input time steps as 3 and the number of features as 1 via the input_shape argument on the first hidden layer.\n",
        "\n",
        "  - We will use one convolutional hidden layer followed by a max pooling layer. The filter maps are then flattened before being interpreted by a Dense layer and outputting a prediction. The model uses the efficient Adam version of stochastic gradient descent and optimizes the mean squared error (‘mse‘) loss function.\n",
        "  \n",
        "  - More Information\n",
        "Crash Course in Convolutional Neural Networks for Machine Learning"
      ]
    },
    {
      "metadata": {
        "id": "doLcjl-1jV4Y",
        "colab_type": "code",
        "outputId": "a362293d-abaa-4899-8e57-5917c00f0d74",
        "colab": {
          "base_uri": "https://localhost:8080/",
          "height": 183
        }
      },
      "cell_type": "code",
      "source": [
        "# univariate cnn example\n",
        "from numpy import array\n",
        "from keras.models import Sequential\n",
        "from keras.layers import Dense\n",
        "from keras.layers import Flatten\n",
        "from keras.layers.convolutional import Conv1D\n",
        "from keras.layers.convolutional import MaxPooling1D\n",
        "# define dataset\n",
        "X = array([[10, 20, 30], [20, 30, 40], [30, 40, 50], [40, 50, 60]])\n",
        "y = array([40, 50, 60, 70])\n",
        "# reshape from [samples, timesteps] into [samples, timesteps, features]\n",
        "X = X.reshape((X.shape[0], X.shape[1], 1))\n",
        "# define model\n",
        "model = Sequential()\n",
        "model.add(Conv1D(filters=64, kernel_size=2, activation='relu', input_shape=(3, 1)))\n",
        "model.add(MaxPooling1D(pool_size=2))\n",
        "model.add(Flatten())\n",
        "model.add(Dense(50, activation='relu'))\n",
        "model.add(Dense(1))\n",
        "model.compile(optimizer='adam', loss='mse')\n",
        "# fit model\n",
        "model.fit(X, y, epochs=1000, verbose=0)\n",
        "# demonstrate prediction\n",
        "x_input = array([50, 60, 70])\n",
        "x_input = x_input.reshape((1, 3, 1))\n",
        "yhat = model.predict(x_input, verbose=0)\n",
        "print(yhat)"
      ],
      "execution_count": 0,
      "outputs": [
        {
          "output_type": "stream",
          "text": [
            "Using TensorFlow backend.\n"
          ],
          "name": "stderr"
        },
        {
          "output_type": "stream",
          "text": [
            "WARNING:tensorflow:From /usr/local/lib/python3.6/dist-packages/tensorflow/python/framework/op_def_library.py:263: colocate_with (from tensorflow.python.framework.ops) is deprecated and will be removed in a future version.\n",
            "Instructions for updating:\n",
            "Colocations handled automatically by placer.\n",
            "WARNING:tensorflow:From /usr/local/lib/python3.6/dist-packages/tensorflow/python/ops/math_ops.py:3066: to_int32 (from tensorflow.python.ops.math_ops) is deprecated and will be removed in a future version.\n",
            "Instructions for updating:\n",
            "Use tf.cast instead.\n",
            "[[81.96897]]\n"
          ],
          "name": "stdout"
        }
      ]
    },
    {
      "metadata": {
        "id": "s8DJsJrxEs9U",
        "colab_type": "text"
      },
      "cell_type": "markdown",
      "source": [
        "### [https://machinelearningmastery.com/crash-course-convolutional-neural-networks/](https://machinelearningmastery.com/crash-course-convolutional-neural-networks/)"
      ]
    },
    {
      "metadata": {
        "id": "QiSR5ZKXtMrW",
        "colab_type": "text"
      },
      "cell_type": "markdown",
      "source": [
        "## Lesson 05: LSTM for Time Series Forecasting\n",
        "\n",
        "  - develop a Long Short-Term Memory Neural Network model or LSTM for univariate time series forecasting.\n",
        "  \n",
        "  - An important difference from the MLP model, and like the CNN model, is that the LSTM model expects three-dimensional input with the shape [samples, timesteps, features]. We will define the data in the form [samples, timesteps] and reshape it accordingly.\n",
        "  \n",
        "  - We will define the number of input time steps as 3 and the number of features as 1 via the input_shape argument on the first hidden layer.\n",
        "  \n",
        "  - We will use one LSTM layer to process each input sub-sequence of 3 time steps, followed by a Dense layer to interpret the summary of the input sequence. The model uses the efficient Adam version of stochastic gradient descent and optimizes the mean squared error (‘mse‘) loss function.\n",
        "  \n",
        "  - More Information\n",
        "A Gentle Introduction to Long Short-Term Memory Networks by the Experts\n",
        "Crash Course in Recurrent Neural Networks for Deep Learning"
      ]
    },
    {
      "metadata": {
        "id": "ADEnZdW1tgUT",
        "colab_type": "code",
        "outputId": "f7b25720-ed14-4610-d953-782226ffec75",
        "colab": {
          "base_uri": "https://localhost:8080/",
          "height": 35
        }
      },
      "cell_type": "code",
      "source": [
        "# univariate lstm example\n",
        "from numpy import array\n",
        "from keras.models import Sequential\n",
        "from keras.layers import LSTM\n",
        "from keras.layers import Dense\n",
        "# define dataset\n",
        "X = array([[10, 20, 30], [20, 30, 40], [30, 40, 50], [40, 50, 60]])\n",
        "y = array([40, 50, 60, 70])\n",
        "# reshape from [samples, timesteps] into [samples, timesteps, features]\n",
        "X = X.reshape((X.shape[0], X.shape[1], 1))\n",
        "# define model\n",
        "model = Sequential()\n",
        "model.add(LSTM(50, activation='relu', input_shape=(3, 1)))\n",
        "model.add(Dense(1))\n",
        "model.compile(optimizer='adam', loss='mse')\n",
        "# fit model\n",
        "model.fit(X, y, epochs=1000, verbose=0)\n",
        "# demonstrate prediction\n",
        "x_input = array([50, 60, 70])\n",
        "x_input = x_input.reshape((1, 3, 1))\n",
        "yhat = model.predict(x_input, verbose=0)\n",
        "print(yhat)"
      ],
      "execution_count": 0,
      "outputs": [
        {
          "output_type": "stream",
          "text": [
            "[[83.627106]]\n"
          ],
          "name": "stdout"
        }
      ]
    },
    {
      "metadata": {
        "id": "lMuNbg6iGkSF",
        "colab_type": "text"
      },
      "cell_type": "markdown",
      "source": [
        "### [A Gentle Introduction to Long Short-Term Memory Networks by the Experts](https://machinelearningmastery.com/gentle-introduction-long-short-term-memory-networks-experts/)"
      ]
    },
    {
      "metadata": {
        "id": "UG32HMKvGqbG",
        "colab_type": "text"
      },
      "cell_type": "markdown",
      "source": [
        "### [Crash Course in Recurrent Neural Networks for Deep Learning](https://machinelearningmastery.com/crash-course-recurrent-neural-networks-deep-learning/)"
      ]
    },
    {
      "metadata": {
        "id": "F5MJVZsgtMRB",
        "colab_type": "text"
      },
      "cell_type": "markdown",
      "source": [
        "## Lesson 06: CNN-LSTM for Time Series Forecasting\n",
        "  - develop a hybrid CNN-LSTM model for univariate time series forecasting.\n",
        "  \n",
        "  - The benefit of this model is that the model can support very long input sequences that can be read as blocks or subsequences by the CNN model, then pieced together by the LSTM model.\n",
        "  \n",
        "  - When using a hybrid CNN-LSTM model, we will further divide each sample into further subsequences. The CNN model will interpret each sub-sequence and the LSTM will piece together the interpretations from the subsequences. As such, we will split each sample into 2 subsequences of 2 times per subsequence.\n",
        "  \n",
        "  - The CNN will be defined to expect 2 time steps per subsequence with one feature. The entire CNN model is then wrapped in TimeDistributed wrapper layers so that it can be applied to each subsequence in the sample. The results are then interpreted by the LSTM layer before the model outputs a prediction.\n",
        "  \n",
        "  - The model uses the efficient Adam version of stochastic gradient descent and optimizes the mean squared error (‘mse’) loss function.\n",
        "  \n",
        "  - More Information\n",
        "CNN Long Short-Term Memory Networks\n",
        "How to Use the TimeDistributed Layer for Long Short-Term Memory Networks in Python"
      ]
    },
    {
      "metadata": {
        "id": "1_nZz77SugSL",
        "colab_type": "code",
        "outputId": "0077e927-b8e3-4b0f-c2f0-3669ff1cd0b1",
        "colab": {
          "base_uri": "https://localhost:8080/",
          "height": 35
        }
      },
      "cell_type": "code",
      "source": [
        "# univariate cnn-lstm example\n",
        "from numpy import array\n",
        "from keras.models import Sequential\n",
        "from keras.layers import LSTM\n",
        "from keras.layers import Dense\n",
        "from keras.layers import Flatten\n",
        "from keras.layers import TimeDistributed\n",
        "from keras.layers.convolutional import Conv1D\n",
        "from keras.layers.convolutional import MaxPooling1D\n",
        "# define dataset\n",
        "X = array([[10, 20, 30, 40], [20, 30, 40, 50], [30, 40, 50, 60], [40, 50, 60, 70]])\n",
        "y = array([50, 60, 70, 80])\n",
        "# reshape from [samples, timesteps] into [samples, subsequences, timesteps, features]\n",
        "X = X.reshape((X.shape[0], 2, 2, 1))\n",
        "# define model\n",
        "model = Sequential()\n",
        "model.add(TimeDistributed(Conv1D(filters=64, kernel_size=1, activation='relu'), input_shape=(None, 2, 1)))\n",
        "# input (sample, timesteps, features) output (sample, timesteps, fiters)\n",
        "# filters: the dimensionality of the output space (i.e. the number of output filters in the convolution)\n",
        "model.add(TimeDistributed(MaxPooling1D(pool_size=2)))\n",
        "model.add(TimeDistributed(Flatten()))\n",
        "model.add(LSTM(50, activation='relu'))\n",
        "model.add(Dense(1))\n",
        "model.compile(optimizer='adam', loss='mse')\n",
        "# fit model\n",
        "model.fit(X, y, epochs=500, verbose=0)\n",
        "# demonstrate prediction\n",
        "x_input = array([50, 60, 70, 80])\n",
        "x_input = x_input.reshape((1, 2, 2, 1))\n",
        "yhat = model.predict(x_input, verbose=0)\n",
        "print(yhat)"
      ],
      "execution_count": 0,
      "outputs": [
        {
          "output_type": "stream",
          "text": [
            "[[92.38901]]\n"
          ],
          "name": "stdout"
        }
      ]
    },
    {
      "metadata": {
        "id": "ZkH3l6G3TNae",
        "colab_type": "text"
      },
      "cell_type": "markdown",
      "source": [
        "  - Conv1D\n",
        "    - keras.layers.Conv1D(filters, kernel_size, strides=1, padding='valid', data_format='channels_last', dilation_rate=1, activation=None, use_bias=True, kernel_initializer='glorot_uniform', bias_initializer='zeros', kernel_regularizer=None, bias_regularizer=None, activity_regularizer=None, kernel_constraint=None, bias_constraint=None)\n",
        "    - 1D convolution layer (e.g. temporal convolution).\n",
        "    - When using this layer as the first layer in a model, provide an input_shape argument (tuple of integers or None, does not include the batch axis), e.g. input_shape=(10, 128) for time series sequences of 10 time steps with 128 features per step in data_format=\"channels_last\", or (None, 128) for variable-length sequences with 128 features per step.\n",
        "    \n",
        "    - Input shape: 3D tensor with shape: (batch, steps, channels)\n",
        "    - Output shape: 3D tensor with shape: (batch, new_steps, filters) steps value might have changed due to padding or strides.\n",
        "    \n",
        "  - Conv2D\n",
        "    - keras.layers.Conv2D(filters, kernel_size, strides=(1, 1), padding='valid', data_format=None, dilation_rate=(1, 1), activation=None, use_bias=True, kernel_initializer='glorot_uniform', bias_initializer='zeros', kernel_regularizer=None, bias_regularizer=None, activity_regularizer=None, kernel_constraint=None, bias_constraint=None)\n",
        "    - 2D convolution layer (e.g. spatial convolution over images).\n",
        "    - When using this layer as the first layer in a model, provide the keyword argument input_shape (tuple of integers, does not include the batch axis), e.g. input_shape=(128, 128, 3) for 128x128 RGB pictures in data_format=\"channels_last\".\n",
        "    - Input shape: 4D tensor with shape: (batch, channels, rows, cols) if data_format is \"channels_first\" or 4D tensor with shape: (batch, rows, cols, channels) if data_format is \"channels_last\".\n",
        "    - Output shape: 4D tensor with shape: (batch, filters, new_rows, new_cols) if data_format is \"channels_first\" or 4D tensor with shape: (batch, new_rows, new_cols, filters) if data_format is \"channels_last\". rows and cols values might have changed due to padding.\n",
        "   "
      ]
    },
    {
      "metadata": {
        "id": "FqXFxIV2ujgL",
        "colab_type": "text"
      },
      "cell_type": "markdown",
      "source": [
        "## Lesson 07: Encoder-Decoder LSTM Multi-step Forecasting\n",
        "  - develop an Encoder-Decoder LSTM Network model for multi-step time series forecasting.\n",
        "  \n",
        "  - We can define a simple univariate problem as a sequence of integers, fit the model on this sequence and have the model predict the next two values in the sequence. We will frame the problem to have 3 inputs and 2 outputs, for example: [10, 20, 30] as input and [40, 50] as output.\n",
        "\n",
        "  - The LSTM model expects three-dimensional input with the shape [samples, timesteps, features]. We will define the data in the form [samples, timesteps] and reshape it accordingly. The output must also be shaped this way when using the Encoder-Decoder model.\n",
        "\n",
        "  - We will define the number of input time steps as 3 and the number of features as 1 via the input_shape argument on the first hidden layer.\n",
        "\n",
        "  - We will define an LSTM encoder to read and encode the input sequences of 3 time steps. The encoded sequence will be repeated 2 times by the model for the two output time steps required by the model using a RepeatVector layer. These will be fed to a decoder LSTM layer before using a Dense output layer wrapped in a TimeDistributed layer that will produce one output for each step in the output sequence.\n",
        "\n",
        "  - The model uses the efficient Adam version of stochastic gradient descent and optimizes the mean squared error (‘mse‘) loss function.\n",
        "  \n",
        "  - More Information\n",
        "Encoder-Decoder Long Short-Term Memory Networks\n",
        "4 Strategies for Multi-Step Time Series Forecasting\n",
        "Multi-step Time Series Forecasting with Long Short-Term Memory Networks in Python"
      ]
    },
    {
      "metadata": {
        "id": "9ruNGkWxUb64",
        "colab_type": "code",
        "outputId": "8f3987a2-630f-4734-aca2-a89d401c6bcc",
        "colab": {
          "base_uri": "https://localhost:8080/",
          "height": 190
        }
      },
      "cell_type": "code",
      "source": [
        "# multi-step encoder-decoder lstm example\n",
        "from numpy import array\n",
        "from keras.models import Sequential\n",
        "from keras.layers import LSTM\n",
        "from keras.layers import Dense\n",
        "from keras.layers import RepeatVector\n",
        "from keras.layers import TimeDistributed\n",
        "# define dataset\n",
        "X = array([[10, 20, 30], [20, 30, 40], [30, 40, 50], [40, 50, 60]])\n",
        "y = array([[40,50],[50,60],[60,70],[70,80]])\n",
        "# reshape from [samples, timesteps] into [samples, timesteps, features]\n",
        "X = X.reshape((X.shape[0], X.shape[1], 1))\n",
        "y = y.reshape((y.shape[0], y.shape[1], 1))\n",
        "# define model\n",
        "model = Sequential()\n",
        "model.add(LSTM(100, activation='relu', input_shape=(3, 1)))\n",
        "model.add(RepeatVector(2))\n",
        "model.add(LSTM(100, activation='relu', return_sequences=True))\n",
        "model.add(TimeDistributed(Dense(1)))\n",
        "model.compile(optimizer='adam', loss='mse')\n",
        "# fit model\n",
        "model.fit(X, y, epochs=100, verbose=0)\n",
        "# demonstrate prediction\n",
        "x_input = array([50, 60, 70])\n",
        "x_input = x_input.reshape((1, 3, 1))\n",
        "yhat = model.predict(x_input, verbose=0)\n",
        "print(yhat)"
      ],
      "execution_count": 0,
      "outputs": [
        {
          "output_type": "stream",
          "text": [
            "Using TensorFlow backend.\n"
          ],
          "name": "stderr"
        },
        {
          "output_type": "stream",
          "text": [
            "WARNING:tensorflow:From /usr/local/lib/python3.6/dist-packages/tensorflow/python/framework/op_def_library.py:263: colocate_with (from tensorflow.python.framework.ops) is deprecated and will be removed in a future version.\n",
            "Instructions for updating:\n",
            "Colocations handled automatically by placer.\n",
            "WARNING:tensorflow:From /usr/local/lib/python3.6/dist-packages/tensorflow/python/ops/math_ops.py:3066: to_int32 (from tensorflow.python.ops.math_ops) is deprecated and will be removed in a future version.\n",
            "Instructions for updating:\n",
            "Use tf.cast instead.\n",
            "[[[80.51463]\n",
            "  [92.3284 ]]]\n"
          ],
          "name": "stdout"
        }
      ]
    },
    {
      "metadata": {
        "id": "VUPCE4TPz7LR",
        "colab_type": "text"
      },
      "cell_type": "markdown",
      "source": [
        "### Encoder-Decoder Long Short-Term Memory Networks\n",
        "The Encoder-Decoder LSTM is a recurrent neural network designed to address sequence-to-sequence problems, sometimes called seq2seq. For example, text translation and learning to execute programs are examples of seq2seq problems.\n",
        "\n",
        "  - The challenge of sequence-to-sequence prediction.\n",
        "    - One modeling concern that makes these problems challenging is that the length of the input and output sequences may vary. Given that there are multiple input time steps and multiple output time steps, this form of problem is referred to as many-to-many type sequence prediction problem.\n",
        "  - The Encoder-Decoder architecture and the limitation in LSTMs that it was designed to address.\n",
        "    - RNN Encoder-Decoder, consists of two recurrent neural networks (RNN) that act as an encoder and a decoder pair. The encoder maps a variable-length source sequence to a fixed-length vector, and the decoder maps the vector representation back to a variable-length target sequence.\n",
        "  - How to implement the Encoder-Decoder LSTM model architecture in Python with Keras.\n"
      ]
    },
    {
      "metadata": {
        "id": "cclvBuDP_Lz1",
        "colab_type": "text"
      },
      "cell_type": "markdown",
      "source": [
        "####  Encoder-Decoder LSTM Architecture\n",
        "  - One approach to seq2seq prediction problems that has proven very effective is called the Encoder-Decoder LSTM.\n",
        "\n",
        "  - This architecture is comprised of two models: one for reading the input sequence and encoding it into a fixed-length vector, and a second for decoding the fixed-length vector and outputting the predicted sequence. The use of the models in concert gives the architecture its name of Encoder-Decoder LSTM designed specifically for seq2seq problems.\n",
        "\n",
        "  - The innovation of this architecture is the use of a fixed-sized internal representation in the heart of the model that input sequences are read to and output sequences are read from. For this reason, the method may be referred to as sequence embedding.\n",
        "\n",
        "  - This approach has also been used with image inputs where a Convolutional Neural Network is used as a feature extractor on input images, which is then read by a decoder LSTM.\n",
        "\n"
      ]
    },
    {
      "metadata": {
        "id": "1qCrNCrIAaru",
        "colab_type": "text"
      },
      "cell_type": "markdown",
      "source": [
        "#### Implement Encoder-Decoder LSTMs in Keras\n",
        "  - the model as being comprised of two key parts: the encoder and the decode\n",
        "  - First, the input sequence is shown to the network one encoded character at a time. We need an encoding level to learn the relationship between the steps in the input sequence and develop an internal representation of these relationships.\n",
        "  - One or more LSTM layers can be used to implement the encoder model. The output of this model is a fixed-size vector that represents the internal representation of the input sequence. The number of memory cells in this layer defines the length of this fixed-sized vector.\n",
        "   \n",
        "  - The decoder must transform the learned internal representation of the input sequence into the correct output sequence.\n",
        "  - As with the Vanilla LSTM, a Dense layer is used as the output for the network. The same weights can be used to output each time step in the output sequence by wrapping the Dense layer in a TimeDistributed wrapper.\n",
        "  - the encoder will produce a 2-dimensional matrix of outputs, where the length is defined by the number of memory cells in the layer. The decoder is an LSTM layer that expects a 3D input of [samples, time steps, features] in order to produce a decoded sequence of some different length defined by the problem.\n",
        "  - The RepeatVector layer can be used like an adapter to fit the encoder and decoder parts of the network together. We can configure the RepeatVector to repeat the fixed length vector one time for each time step in the output sequence.\n",
        "    - Input shape: 2D tensor of shape (num_samples, features).\n",
        "    - Output shape: 3D tensor of shape (num_samples, n, features).\n",
        "  \n",
        "  - To summarize, the RepeatVector is used as an adapter to fit the fixed-sized 2D output of the encoder to the differing length and 3D input expected by the decoder. The TimeDistributed wrapper allows the same output layer to be reused for each element in the output sequence.\n",
        "  "
      ]
    },
    {
      "metadata": {
        "id": "CkBoUXvuBFYq",
        "colab_type": "code",
        "colab": {}
      },
      "cell_type": "code",
      "source": [
        "# encoder\n",
        "# The number of memory cells in this layer defines the length of this fixed-sized vector.\n",
        "model = Sequential()\n",
        "model.add(LSTM(..., input_shape=(...)))\n",
        "#  the RepeatVector is used as an adapter to fit the fixed-sized 2D output of the encoder to the differing length and 3D input expected by the decoder\n",
        "model.add(RepeatVector(...))\n",
        "# decoder\n",
        "model.add(LSTM(..., return_sequences=True))\n",
        "model.add(TimeDistributed(Dense(...)))\n",
        "# get the output from the Dense at each time step that the wrapper receives as input."
      ],
      "execution_count": 0,
      "outputs": []
    },
    {
      "metadata": {
        "id": "MNAOGaVxvGHT",
        "colab_type": "text"
      },
      "cell_type": "markdown",
      "source": [
        "## Summary\n",
        "\n",
        "  - The promise of deep learning neural networks for time series forecasting problems.\n",
        "  - How to transform a time series dataset into a supervised learning problem.\n",
        "  - How to develop a Multilayer Perceptron model for a univariate time series forecasting problem.\n",
        "  - How to develop a Convolutional Neural Network model for a univariate time series forecasting problem.\n",
        "  - How to develop a Long Short-Term Memory network model for a univariate time series forecasting problem.\n",
        "  - How to develop a Hybrid CNN-LSTM model for a univariate time series forecasting problem.\n",
        "  - How to develop an Encoder-Decoder LSTM model for a multi-step time series forecasting problem."
      ]
    },
    {
      "metadata": {
        "id": "atz8vPFOvVWe",
        "colab_type": "text"
      },
      "cell_type": "markdown",
      "source": [
        "# Play with the other data set\n",
        "\n",
        "the dataset from here: [daily-total-female-births.csv](https://raw.githubusercontent.com/jbrownlee/Datasets/master/daily-total-female-births.csv)"
      ]
    },
    {
      "metadata": {
        "id": "t68G9EtQmR7U",
        "colab_type": "code",
        "colab": {
          "base_uri": "https://localhost:8080/",
          "height": 35
        },
        "outputId": "a676c16d-ae50-42ae-e939-5998aa0ac2a5"
      },
      "cell_type": "code",
      "source": [
        "# import libraries\n",
        "from keras.models import Sequential\n",
        "from keras.layers import Dense\n",
        "import matplotlib as plt\n",
        "from matplotlib import pyplot\n",
        "import seaborn as sns\n",
        "sns.set_style('whitegrid')\n",
        "sns.set_palette(\"bright\", 10)\n",
        "from numpy import array\n",
        "import numpy as np\n",
        "import pandas as pd\n",
        "from sklearn.metrics import mean_squared_error as mse"
      ],
      "execution_count": 1,
      "outputs": [
        {
          "output_type": "stream",
          "text": [
            "Using TensorFlow backend.\n"
          ],
          "name": "stderr"
        }
      ]
    },
    {
      "metadata": {
        "id": "zBjqLphcmXp2",
        "colab_type": "code",
        "colab": {
          "base_uri": "https://localhost:8080/",
          "height": 490
        },
        "outputId": "c8ee5fee-76df-4cfb-9625-1dfe878f92b8"
      },
      "cell_type": "code",
      "source": [
        "# Load data\n",
        "url = 'https://raw.githubusercontent.com/jbrownlee/Datasets/master/daily-total-female-births.csv'\n",
        "df = pd.read_csv(url)\n",
        "# Verify\n",
        "print(len(df))\n",
        "print(df.head())\n",
        "df.hist();\n"
      ],
      "execution_count": 5,
      "outputs": [
        {
          "output_type": "stream",
          "text": [
            "365\n",
            "         Date  Births\n",
            "0  1959-01-01      35\n",
            "1  1959-01-02      32\n",
            "2  1959-01-03      30\n",
            "3  1959-01-04      31\n",
            "4  1959-01-05      44\n"
          ],
          "name": "stdout"
        },
        {
          "output_type": "display_data",
          "data": {
            "image/png": "[encoded data removed]",
            "text/plain": [
              "<Figure size 576x396 with 1 Axes>"
            ]
          },
          "metadata": {
            "tags": []
          }
        }
      ]
    },
    {
      "metadata": {
        "id": "XaFG7lF3m5vE",
        "colab_type": "code",
        "colab": {
          "base_uri": "https://localhost:8080/",
          "height": 35
        },
        "outputId": "6f84a024-f6a4-493d-ea72-e8e5c76541f2"
      },
      "cell_type": "code",
      "source": [
        " \n",
        "# You do not need the date. This is sequential, each and every day. Numbers will be integer\n",
        " \n",
        "births = df['Births'].tolist()\n",
        "# Verify\n",
        "print(births[:5])"
      ],
      "execution_count": 6,
      "outputs": [
        {
          "output_type": "stream",
          "text": [
            "[35, 32, 30, 31, 44]\n"
          ],
          "name": "stdout"
        }
      ]
    },
    {
      "metadata": {
        "id": "g6HAe9RQnBwe",
        "colab_type": "code",
        "colab": {
          "base_uri": "https://localhost:8080/",
          "height": 453
        },
        "outputId": "2f304626-91de-4734-acb5-cc187120e6a2"
      },
      "cell_type": "code",
      "source": [
        "# Transform to windowed array\n",
        "# Will return n elements PLUS the dependent variable for a total of n+1 elements.\n",
        "# This a list of lists that will be turned into a numpy matrix. It is a sliding window.\n",
        "window_size = 3\n",
        "array = []\n",
        "[array.append(births[index:index+window_size+1]) for index in range(len(births)-(window_size))]\n",
        "array = np.array(array)\n",
        "# Verify\n",
        "print(array)\n",
        "print('array length =', array.shape)\n",
        "print(df.head())\n",
        "df.tail()"
      ],
      "execution_count": 7,
      "outputs": [
        {
          "output_type": "stream",
          "text": [
            "[[35 32 30 31]\n",
            " [32 30 31 44]\n",
            " [30 31 44 29]\n",
            " ...\n",
            " [34 37 52 48]\n",
            " [37 52 48 55]\n",
            " [52 48 55 50]]\n",
            "array length = (362, 4)\n",
            "         Date  Births\n",
            "0  1959-01-01      35\n",
            "1  1959-01-02      32\n",
            "2  1959-01-03      30\n",
            "3  1959-01-04      31\n",
            "4  1959-01-05      44\n"
          ],
          "name": "stdout"
        },
        {
          "output_type": "execute_result",
          "data": {
            "text/html": [
              "<div>\n",
              "<style scoped>\n",
              "    .dataframe tbody tr th:only-of-type {\n",
              "        vertical-align: middle;\n",
              "    }\n",
              "\n",
              "    .dataframe tbody tr th {\n",
              "        vertical-align: top;\n",
              "    }\n",
              "\n",
              "    .dataframe thead th {\n",
              "        text-align: right;\n",
              "    }\n",
              "</style>\n",
              "<table border=\"1\" class=\"dataframe\">\n",
              "  <thead>\n",
              "    <tr style=\"text-align: right;\">\n",
              "      <th></th>\n",
              "      <th>Date</th>\n",
              "      <th>Births</th>\n",
              "    </tr>\n",
              "  </thead>\n",
              "  <tbody>\n",
              "    <tr>\n",
              "      <th>360</th>\n",
              "      <td>1959-12-27</td>\n",
              "      <td>37</td>\n",
              "    </tr>\n",
              "    <tr>\n",
              "      <th>361</th>\n",
              "      <td>1959-12-28</td>\n",
              "      <td>52</td>\n",
              "    </tr>\n",
              "    <tr>\n",
              "      <th>362</th>\n",
              "      <td>1959-12-29</td>\n",
              "      <td>48</td>\n",
              "    </tr>\n",
              "    <tr>\n",
              "      <th>363</th>\n",
              "      <td>1959-12-30</td>\n",
              "      <td>55</td>\n",
              "    </tr>\n",
              "    <tr>\n",
              "      <th>364</th>\n",
              "      <td>1959-12-31</td>\n",
              "      <td>50</td>\n",
              "    </tr>\n",
              "  </tbody>\n",
              "</table>\n",
              "</div>"
            ],
            "text/plain": [
              "           Date  Births\n",
              "360  1959-12-27      37\n",
              "361  1959-12-28      52\n",
              "362  1959-12-29      48\n",
              "363  1959-12-30      55\n",
              "364  1959-12-31      50"
            ]
          },
          "metadata": {
            "tags": []
          },
          "execution_count": 7
        }
      ]
    },
    {
      "metadata": {
        "id": "b2TKqYh7oa9K",
        "colab_type": "code",
        "colab": {
          "base_uri": "https://localhost:8080/",
          "height": 381
        },
        "outputId": "50979f54-0507-4665-9223-f631f8b1b8b3"
      },
      "cell_type": "code",
      "source": [
        "# We can not use model_selection.train_test_split BECAUSE we need to keep the date order intact. \n",
        "# Since this model uses a random seed it gets rid of the date order.\n",
        "# Just split up the sets simply.\n",
        "test_size = .7\n",
        "length = array.shape[0]\n",
        "nof_rows = int(test_size * length)\n",
        "X_train = array[:nof_rows, :window_size]\n",
        "X_validation = array[nof_rows:, :window_size]\n",
        "Y_train = array[:nof_rows, -1]\n",
        "Y_validation = array[nof_rows:, -1]\n",
        "# Verify\n",
        "print('X_train set first 5 rows are \\n', X_train[:5])\n",
        "print('X_train shape is', X_train.shape)\n",
        "print('Y_train set first 5 items are \\n', Y_train[:5])\n",
        "print('Y_train shape is', Y_train.shape)\n",
        "print('X_validation set first 5 rows are \\n', X_validation[:5])\n",
        "print('X_validation shape is', X_validation.shape)\n",
        "print('Y_validation set first 5 rows are \\n', Y_validation[:5])\n",
        "print('Y_validation shape is', Y_validation.shape)"
      ],
      "execution_count": 8,
      "outputs": [
        {
          "output_type": "stream",
          "text": [
            "X_train set first 5 rows are \n",
            " [[35 32 30]\n",
            " [32 30 31]\n",
            " [30 31 44]\n",
            " [31 44 29]\n",
            " [44 29 45]]\n",
            "X_train shape is (253, 3)\n",
            "Y_train set first 5 items are \n",
            " [31 44 29 45 43]\n",
            "Y_train shape is (253,)\n",
            "X_validation set first 5 rows are \n",
            " [[42 53 42]\n",
            " [53 42 34]\n",
            " [42 34 40]\n",
            " [34 40 56]\n",
            " [40 56 44]]\n",
            "X_validation shape is (109, 3)\n",
            "Y_validation set first 5 rows are \n",
            " [34 40 56 44 53]\n",
            "Y_validation shape is (109,)\n"
          ],
          "name": "stdout"
        }
      ]
    },
    {
      "metadata": {
        "id": "kMLYU4uMpEFa",
        "colab_type": "code",
        "colab": {
          "base_uri": "https://localhost:8080/",
          "height": 92
        },
        "outputId": "19bbcccb-5ee8-4a93-a9c9-e763c79f01a0"
      },
      "cell_type": "code",
      "source": [
        "# Create model\n",
        "model = Sequential()\n",
        "model.add(Dense(100, input_dim=window_size, activation='relu'))\n",
        "model.add(Dense(1))\n",
        "model.compile(optimizer='adam', loss='mse')"
      ],
      "execution_count": 9,
      "outputs": [
        {
          "output_type": "stream",
          "text": [
            "WARNING:tensorflow:From /usr/local/lib/python3.6/dist-packages/tensorflow/python/framework/op_def_library.py:263: colocate_with (from tensorflow.python.framework.ops) is deprecated and will be removed in a future version.\n",
            "Instructions for updating:\n",
            "Colocations handled automatically by placer.\n"
          ],
          "name": "stdout"
        }
      ]
    },
    {
      "metadata": {
        "id": "Le94wWwGpfRy",
        "colab_type": "code",
        "colab": {
          "base_uri": "https://localhost:8080/",
          "height": 92
        },
        "outputId": "5ef9ba1f-ede7-492b-cfc2-1ca20f3e3d2a"
      },
      "cell_type": "code",
      "source": [
        "# Fit model\n",
        "model.fit(X_train, Y_train, epochs=500, verbose=0);"
      ],
      "execution_count": 10,
      "outputs": [
        {
          "output_type": "stream",
          "text": [
            "WARNING:tensorflow:From /usr/local/lib/python3.6/dist-packages/tensorflow/python/ops/math_ops.py:3066: to_int32 (from tensorflow.python.ops.math_ops) is deprecated and will be removed in a future version.\n",
            "Instructions for updating:\n",
            "Use tf.cast instead.\n"
          ],
          "name": "stdout"
        }
      ]
    },
    {
      "metadata": {
        "id": "3z8PSFtEpoPX",
        "colab_type": "code",
        "colab": {
          "base_uri": "https://localhost:8080/",
          "height": 90
        },
        "outputId": "60a323bb-bdaf-414a-e906-c2560412d95f"
      },
      "cell_type": "code",
      "source": [
        "# Prediction on training set vs actual training dependent variable\n",
        "rows = X_train.shape[0]\n",
        "x_input = X_train.reshape(rows, window_size)\n",
        "training_predictions = model.predict(x_input, verbose=0)\n",
        "# Verify\n",
        "print(training_predictions[:3])\n",
        "print(Y_train[:3])"
      ],
      "execution_count": 12,
      "outputs": [
        {
          "output_type": "stream",
          "text": [
            "[[34.297314]\n",
            " [33.220436]\n",
            " [36.78745 ]]\n",
            "[31 44 29]\n"
          ],
          "name": "stdout"
        }
      ]
    },
    {
      "metadata": {
        "id": "VSTw49brpikK",
        "colab_type": "code",
        "colab": {
          "base_uri": "https://localhost:8080/",
          "height": 198
        },
        "outputId": "180bdea4-87fb-4012-98f1-5abd0b4e6fc2"
      },
      "cell_type": "code",
      "source": [
        "# Create dataframe for plotting and analysis\n",
        "dftc = pd.DataFrame(training_predictions, Y_train).reset_index()\n",
        "dftc.head()"
      ],
      "execution_count": 19,
      "outputs": [
        {
          "output_type": "execute_result",
          "data": {
            "text/html": [
              "<div>\n",
              "<style scoped>\n",
              "    .dataframe tbody tr th:only-of-type {\n",
              "        vertical-align: middle;\n",
              "    }\n",
              "\n",
              "    .dataframe tbody tr th {\n",
              "        vertical-align: top;\n",
              "    }\n",
              "\n",
              "    .dataframe thead th {\n",
              "        text-align: right;\n",
              "    }\n",
              "</style>\n",
              "<table border=\"1\" class=\"dataframe\">\n",
              "  <thead>\n",
              "    <tr style=\"text-align: right;\">\n",
              "      <th></th>\n",
              "      <th>index</th>\n",
              "      <th>0</th>\n",
              "    </tr>\n",
              "  </thead>\n",
              "  <tbody>\n",
              "    <tr>\n",
              "      <th>0</th>\n",
              "      <td>31</td>\n",
              "      <td>34.297314</td>\n",
              "    </tr>\n",
              "    <tr>\n",
              "      <th>1</th>\n",
              "      <td>44</td>\n",
              "      <td>33.220436</td>\n",
              "    </tr>\n",
              "    <tr>\n",
              "      <th>2</th>\n",
              "      <td>29</td>\n",
              "      <td>36.787449</td>\n",
              "    </tr>\n",
              "    <tr>\n",
              "      <th>3</th>\n",
              "      <td>45</td>\n",
              "      <td>34.020874</td>\n",
              "    </tr>\n",
              "    <tr>\n",
              "      <th>4</th>\n",
              "      <td>43</td>\n",
              "      <td>38.698242</td>\n",
              "    </tr>\n",
              "  </tbody>\n",
              "</table>\n",
              "</div>"
            ],
            "text/plain": [
              "   index          0\n",
              "0     31  34.297314\n",
              "1     44  33.220436\n",
              "2     29  36.787449\n",
              "3     45  34.020874\n",
              "4     43  38.698242"
            ]
          },
          "metadata": {
            "tags": []
          },
          "execution_count": 19
        }
      ]
    },
    {
      "metadata": {
        "id": "mZRb_WXhrH5Z",
        "colab_type": "code",
        "colab": {
          "base_uri": "https://localhost:8080/",
          "height": 235
        },
        "outputId": "cf39ce56-6d37-48f9-b166-e1ca72778ab0"
      },
      "cell_type": "code",
      "source": [
        "# It called the training_actual_births 'index' and the training_predictions '0'. Fix column names.\n",
        "dftc.columns = ['training_actual_births', 'training_predictions']\n",
        "# Find absolute error and percent\n",
        "dftc['delta_error'] = (dftc['training_predictions'] - dftc['training_actual_births']).abs()\n",
        "dftc['percent_error'] = (dftc['delta_error'] / dftc['training_actual_births']) * 100\n",
        "t_mean = dftc['percent_error'].mean()\n",
        "# Verify\n",
        "print(len(dftc))\n",
        "print(t_mean)\n",
        "dftc.head(5)"
      ],
      "execution_count": 20,
      "outputs": [
        {
          "output_type": "stream",
          "text": [
            "253\n",
            "15.178864768164114\n"
          ],
          "name": "stdout"
        },
        {
          "output_type": "execute_result",
          "data": {
            "text/html": [
              "<div>\n",
              "<style scoped>\n",
              "    .dataframe tbody tr th:only-of-type {\n",
              "        vertical-align: middle;\n",
              "    }\n",
              "\n",
              "    .dataframe tbody tr th {\n",
              "        vertical-align: top;\n",
              "    }\n",
              "\n",
              "    .dataframe thead th {\n",
              "        text-align: right;\n",
              "    }\n",
              "</style>\n",
              "<table border=\"1\" class=\"dataframe\">\n",
              "  <thead>\n",
              "    <tr style=\"text-align: right;\">\n",
              "      <th></th>\n",
              "      <th>training_actual_births</th>\n",
              "      <th>training_predictions</th>\n",
              "      <th>delta_error</th>\n",
              "      <th>percent_error</th>\n",
              "    </tr>\n",
              "  </thead>\n",
              "  <tbody>\n",
              "    <tr>\n",
              "      <th>0</th>\n",
              "      <td>31</td>\n",
              "      <td>34.297314</td>\n",
              "      <td>3.297314</td>\n",
              "      <td>10.636496</td>\n",
              "    </tr>\n",
              "    <tr>\n",
              "      <th>1</th>\n",
              "      <td>44</td>\n",
              "      <td>33.220436</td>\n",
              "      <td>10.779564</td>\n",
              "      <td>24.499009</td>\n",
              "    </tr>\n",
              "    <tr>\n",
              "      <th>2</th>\n",
              "      <td>29</td>\n",
              "      <td>36.787449</td>\n",
              "      <td>7.787449</td>\n",
              "      <td>26.853272</td>\n",
              "    </tr>\n",
              "    <tr>\n",
              "      <th>3</th>\n",
              "      <td>45</td>\n",
              "      <td>34.020874</td>\n",
              "      <td>10.979126</td>\n",
              "      <td>24.398058</td>\n",
              "    </tr>\n",
              "    <tr>\n",
              "      <th>4</th>\n",
              "      <td>43</td>\n",
              "      <td>38.698242</td>\n",
              "      <td>4.301758</td>\n",
              "      <td>10.004088</td>\n",
              "    </tr>\n",
              "  </tbody>\n",
              "</table>\n",
              "</div>"
            ],
            "text/plain": [
              "   training_actual_births  training_predictions  delta_error  percent_error\n",
              "0                      31             34.297314     3.297314      10.636496\n",
              "1                      44             33.220436    10.779564      24.499009\n",
              "2                      29             36.787449     7.787449      26.853272\n",
              "3                      45             34.020874    10.979126      24.398058\n",
              "4                      43             38.698242     4.301758      10.004088"
            ]
          },
          "metadata": {
            "tags": []
          },
          "execution_count": 20
        }
      ]
    },
    {
      "metadata": {
        "id": "8pT_6BrFrot4",
        "colab_type": "code",
        "colab": {
          "base_uri": "https://localhost:8080/",
          "height": 288
        },
        "outputId": "0f9f1903-b98a-42c3-8298-d98cb919005b"
      },
      "cell_type": "code",
      "source": [
        "# plot, blue is actual, red is predicted\n",
        "pyplot.figure(figsize=(16, 4))\n",
        "pyplot.plot(dftc['training_actual_births'])\n",
        "pyplot.plot(dftc['training_predictions'], color='red')\n",
        "pyplot.show()"
      ],
      "execution_count": 21,
      "outputs": [
        {
          "output_type": "display_data",
          "data": {
            "image/png": "[encoded data removed]",
            "text/plain": [
              "<Figure size 1152x288 with 1 Axes>"
            ]
          },
          "metadata": {
            "tags": []
          }
        }
      ]
    },
    {
      "metadata": {
        "id": "UpbCjM9LrtZU",
        "colab_type": "code",
        "colab": {
          "base_uri": "https://localhost:8080/",
          "height": 90
        },
        "outputId": "8a3120a0-b8de-4713-ebf3-7ac6d9376f61"
      },
      "cell_type": "code",
      "source": [
        "# Prediction on validaton set vs actual validation dependent variable\n",
        "rows = X_validation.shape[0]\n",
        "x_input = X_validation.reshape(rows, window_size)\n",
        "validation_predictions = model.predict(x_input, verbose=0)\n",
        "# Verify\n",
        "print(validation_predictions[:3])\n",
        "print(Y_validation[:3])\n",
        " "
      ],
      "execution_count": 22,
      "outputs": [
        {
          "output_type": "stream",
          "text": [
            "[[46.61556 ]\n",
            " [42.579063]\n",
            " [39.114754]]\n",
            "[34 40 56]\n"
          ],
          "name": "stdout"
        }
      ]
    },
    {
      "metadata": {
        "id": "slZGFB6lszNY",
        "colab_type": "code",
        "colab": {
          "base_uri": "https://localhost:8080/",
          "height": 198
        },
        "outputId": "84f22586-9663-4f6f-f0fd-7211f3a0ab30"
      },
      "cell_type": "code",
      "source": [
        "# Create dataframe for plotting and analysis\n",
        "dfvc = pd.DataFrame(validation_predictions, Y_validation).reset_index()\n",
        "dfvc.head()"
      ],
      "execution_count": 23,
      "outputs": [
        {
          "output_type": "execute_result",
          "data": {
            "text/html": [
              "<div>\n",
              "<style scoped>\n",
              "    .dataframe tbody tr th:only-of-type {\n",
              "        vertical-align: middle;\n",
              "    }\n",
              "\n",
              "    .dataframe tbody tr th {\n",
              "        vertical-align: top;\n",
              "    }\n",
              "\n",
              "    .dataframe thead th {\n",
              "        text-align: right;\n",
              "    }\n",
              "</style>\n",
              "<table border=\"1\" class=\"dataframe\">\n",
              "  <thead>\n",
              "    <tr style=\"text-align: right;\">\n",
              "      <th></th>\n",
              "      <th>index</th>\n",
              "      <th>0</th>\n",
              "    </tr>\n",
              "  </thead>\n",
              "  <tbody>\n",
              "    <tr>\n",
              "      <th>0</th>\n",
              "      <td>34</td>\n",
              "      <td>46.615559</td>\n",
              "    </tr>\n",
              "    <tr>\n",
              "      <th>1</th>\n",
              "      <td>40</td>\n",
              "      <td>42.579063</td>\n",
              "    </tr>\n",
              "    <tr>\n",
              "      <th>2</th>\n",
              "      <td>56</td>\n",
              "      <td>39.114754</td>\n",
              "    </tr>\n",
              "    <tr>\n",
              "      <th>3</th>\n",
              "      <td>44</td>\n",
              "      <td>44.287727</td>\n",
              "    </tr>\n",
              "    <tr>\n",
              "      <th>4</th>\n",
              "      <td>53</td>\n",
              "      <td>47.603264</td>\n",
              "    </tr>\n",
              "  </tbody>\n",
              "</table>\n",
              "</div>"
            ],
            "text/plain": [
              "   index          0\n",
              "0     34  46.615559\n",
              "1     40  42.579063\n",
              "2     56  39.114754\n",
              "3     44  44.287727\n",
              "4     53  47.603264"
            ]
          },
          "metadata": {
            "tags": []
          },
          "execution_count": 23
        }
      ]
    },
    {
      "metadata": {
        "id": "9zV1i8PMs3Ow",
        "colab_type": "code",
        "colab": {
          "base_uri": "https://localhost:8080/",
          "height": 235
        },
        "outputId": "20135ec9-fd93-46ba-bbe8-383b0a8b2a7e"
      },
      "cell_type": "code",
      "source": [
        "# It called the training_actual_births 'index' and the training_predictions '0'. Fix column names.\n",
        "dfvc.columns = ['validation_actual_births', 'validation_predictions']\n",
        "# Find absolute error and percent\n",
        "dfvc['delta_error'] = (dfvc['validation_predictions'] - dfvc['validation_actual_births']).abs()\n",
        "dfvc['percent_error'] = (dfvc['delta_error'] / dfvc['validation_actual_births']) * 100\n",
        "v_mean = dfvc['percent_error'].mean()\n",
        "print(v_mean)\n",
        "print(len(dfvc))\n",
        "dfvc.head(5)"
      ],
      "execution_count": 24,
      "outputs": [
        {
          "output_type": "stream",
          "text": [
            "13.221568427089426\n",
            "109\n"
          ],
          "name": "stdout"
        },
        {
          "output_type": "execute_result",
          "data": {
            "text/html": [
              "<div>\n",
              "<style scoped>\n",
              "    .dataframe tbody tr th:only-of-type {\n",
              "        vertical-align: middle;\n",
              "    }\n",
              "\n",
              "    .dataframe tbody tr th {\n",
              "        vertical-align: top;\n",
              "    }\n",
              "\n",
              "    .dataframe thead th {\n",
              "        text-align: right;\n",
              "    }\n",
              "</style>\n",
              "<table border=\"1\" class=\"dataframe\">\n",
              "  <thead>\n",
              "    <tr style=\"text-align: right;\">\n",
              "      <th></th>\n",
              "      <th>validation_actual_births</th>\n",
              "      <th>validation_predictions</th>\n",
              "      <th>delta_error</th>\n",
              "      <th>percent_error</th>\n",
              "    </tr>\n",
              "  </thead>\n",
              "  <tbody>\n",
              "    <tr>\n",
              "      <th>0</th>\n",
              "      <td>34</td>\n",
              "      <td>46.615559</td>\n",
              "      <td>12.615559</td>\n",
              "      <td>37.104584</td>\n",
              "    </tr>\n",
              "    <tr>\n",
              "      <th>1</th>\n",
              "      <td>40</td>\n",
              "      <td>42.579063</td>\n",
              "      <td>2.579063</td>\n",
              "      <td>6.447659</td>\n",
              "    </tr>\n",
              "    <tr>\n",
              "      <th>2</th>\n",
              "      <td>56</td>\n",
              "      <td>39.114754</td>\n",
              "      <td>16.885246</td>\n",
              "      <td>30.152225</td>\n",
              "    </tr>\n",
              "    <tr>\n",
              "      <th>3</th>\n",
              "      <td>44</td>\n",
              "      <td>44.287727</td>\n",
              "      <td>0.287727</td>\n",
              "      <td>0.653926</td>\n",
              "    </tr>\n",
              "    <tr>\n",
              "      <th>4</th>\n",
              "      <td>53</td>\n",
              "      <td>47.603264</td>\n",
              "      <td>5.396736</td>\n",
              "      <td>10.182521</td>\n",
              "    </tr>\n",
              "  </tbody>\n",
              "</table>\n",
              "</div>"
            ],
            "text/plain": [
              "   validation_actual_births  validation_predictions  delta_error  \\\n",
              "0                        34               46.615559    12.615559   \n",
              "1                        40               42.579063     2.579063   \n",
              "2                        56               39.114754    16.885246   \n",
              "3                        44               44.287727     0.287727   \n",
              "4                        53               47.603264     5.396736   \n",
              "\n",
              "   percent_error  \n",
              "0      37.104584  \n",
              "1       6.447659  \n",
              "2      30.152225  \n",
              "3       0.653926  \n",
              "4      10.182521  "
            ]
          },
          "metadata": {
            "tags": []
          },
          "execution_count": 24
        }
      ]
    },
    {
      "metadata": {
        "id": "ZizMZ6EetDdD",
        "colab_type": "code",
        "colab": {
          "base_uri": "https://localhost:8080/",
          "height": 285
        },
        "outputId": "86b315bd-2a57-4018-af63-01323c98673d"
      },
      "cell_type": "code",
      "source": [
        "# plot, blue is actual, red is predicted\n",
        "pyplot.figure(figsize=(16, 4))\n",
        "pyplot.plot(dfvc['validation_actual_births'])\n",
        "pyplot.plot(dfvc['validation_predictions'], color='red')\n",
        "pyplot.show()"
      ],
      "execution_count": 25,
      "outputs": [
        {
          "output_type": "display_data",
          "data": {
            "image/png": "[encoded data removed]",
            "text/plain": [
              "<Figure size 1152x288 with 1 Axes>"
            ]
          },
          "metadata": {
            "tags": []
          }
        }
      ]
    },
    {
      "metadata": {
        "id": "yZQvjmxVtID_",
        "colab_type": "code",
        "colab": {
          "base_uri": "https://localhost:8080/",
          "height": 90
        },
        "outputId": "0f891a17-d23e-4e33-c56f-b7882ca551d6"
      },
      "cell_type": "code",
      "source": [
        "# Print the Mean Average Error and the Root Mean Square Error\n",
        "root_mean_square_error = np.sqrt(mse(dfvc['validation_actual_births'], dfvc['validation_predictions'])) \n",
        "print('There was a', round(t_mean, 2), '% mean average error for the training set.')\n",
        "print('There was a', round(v_mean, 2), '% mean average error for the validation set.')\n",
        "print('There was a', round(dfvc['delta_error'].mean(), 2), 'mean average error for the validation set.')\n",
        "print('There was a', round(root_mean_square_error, 2), 'root mean square error for the validation set.')\n",
        " "
      ],
      "execution_count": 26,
      "outputs": [
        {
          "output_type": "stream",
          "text": [
            "There was a 15.18 % mean average error for the training set.\n",
            "There was a 13.22 % mean average error for the validation set.\n",
            "There was a 5.84 mean average error for the validation set.\n",
            "There was a 7.11 root mean square error for the validation set.\n"
          ],
          "name": "stdout"
        }
      ]
    },
    {
      "metadata": {
        "id": "0sLOF8YNlasN",
        "colab_type": "code",
        "colab": {}
      },
      "cell_type": "code",
      "source": [
        ""
      ],
      "execution_count": 0,
      "outputs": []
    }
  ]
}
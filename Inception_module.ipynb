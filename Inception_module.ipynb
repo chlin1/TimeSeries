{
  "nbformat": 4,
  "nbformat_minor": 0,
  "metadata": {
    "colab": {
      "name": "Inception module.ipynb",
      "version": "0.3.2",
      "provenance": [],
      "collapsed_sections": [
        "F7-uv3YBmal9"
      ],
      "toc_visible": true,
      "include_colab_link": true
    },
    "kernelspec": {
      "name": "python3",
      "display_name": "Python 3"
    }
  },
  "cells": [
    {
      "cell_type": "markdown",
      "metadata": {
        "id": "view-in-github",
        "colab_type": "text"
      },
      "source": [
        "<a href=\"https://colab.research.google.com/github/chlin1/TimeSeries/blob/master/Inception_module.ipynb\" target=\"_parent\"><img src=\"https://colab.research.google.com/assets/colab-badge.svg\" alt=\"Open In Colab\"/></a>"
      ]
    },
    {
      "metadata": {
        "id": "ysjU_vu6jFvP",
        "colab_type": "text"
      },
      "cell_type": "markdown",
      "source": [
        "# [Inception module](http://marubon-ds.blogspot.com/2018/06/how-to-write-inception-module.html?m=1)\n",
        "\n"
      ]
    },
    {
      "metadata": {
        "id": "OlFJF6vujDVI",
        "colab_type": "code",
        "colab": {
          "base_uri": "https://localhost:8080/",
          "height": 54
        },
        "outputId": "6002dd03-8712-49b8-f974-5ff8b97a3c5b"
      },
      "cell_type": "code",
      "source": [
        "from keras.datasets import mnist\n",
        "from keras.utils import to_categorical\n",
        "\n",
        "(x_train, y_train), (x_test, y_test) = mnist.load_data()\n",
        "\n",
        "x_train = x_train.reshape((60000, 28, 28, 1))[0:2000]\n",
        "y_train = to_categorical(y_train, 10)[0:2000]"
      ],
      "execution_count": 3,
      "outputs": [
        {
          "output_type": "stream",
          "text": [
            "Downloading data from https://s3.amazonaws.com/img-datasets/mnist.npz\n",
            "11493376/11490434 [==============================] - 0s 0us/step\n"
          ],
          "name": "stdout"
        }
      ]
    },
    {
      "metadata": {
        "id": "CIMpt2vlkBjq",
        "colab_type": "text"
      },
      "cell_type": "markdown",
      "source": [
        "## The naive_inception\n",
        "The naive_inception() expresses naive version of Inception module. Three types of kernels are used and concatenated."
      ]
    },
    {
      "metadata": {
        "id": "MNu7Zor4kJnh",
        "colab_type": "code",
        "colab": {}
      },
      "cell_type": "code",
      "source": [
        "import keras\n",
        "from keras.layers import Dense, Input, Conv2D, Flatten, concatenate\n",
        "from keras.models import Model\n",
        "\n",
        "def naive_inception(inputs):\n",
        "\n",
        "    towerOne = Conv2D(6, (1,1), activation='relu', border_mode='same')(inputs)\n",
        "    towerTwo = Conv2D(6, (3,3), activation='relu', border_mode='same')(inputs)\n",
        "    towerThree = Conv2D(6, (5,5), activation='relu', border_mode='same')(inputs)\n",
        "    x = concatenate([towerOne, towerTwo, towerThree], axis=3)\n",
        "    return x"
      ],
      "execution_count": 0,
      "outputs": []
    },
    {
      "metadata": {
        "id": "NCskTFyakS2s",
        "colab_type": "text"
      },
      "cell_type": "markdown",
      "source": [
        "## Inception module with dimension reduction"
      ]
    },
    {
      "metadata": {
        "id": "i-skU6a5kO8Q",
        "colab_type": "code",
        "colab": {}
      },
      "cell_type": "code",
      "source": [
        "def dimension_reduction_inception(inputs):\n",
        "    tower_one = MaxPooling2D((3,3), strides=(1,1), padding='same')(inputs)\n",
        "    tower_one = Conv2D(6, (1,1), activation='relu', border_mode='same')(tower_one)\n",
        "\n",
        "    tower_two = Conv2D(6, (1,1), activation='relu', border_mode='same')(inputs)\n",
        "    tower_two = Conv2D(6, (3,3), activation='relu', border_mode='same')(tower_two)\n",
        "\n",
        "    tower_three = Conv2D(6, (1,1), activation='relu', border_mode='same')(inputs)\n",
        "    tower_three = Conv2D(6, (5,5), activation='relu', border_mode='same')(tower_three)\n",
        "    x = concatenate([towerOne, towerTwo, towerThree], axis=3)\n",
        "    return x"
      ],
      "execution_count": 0,
      "outputs": []
    },
    {
      "metadata": {
        "id": "F7-uv3YBmal9",
        "colab_type": "text"
      },
      "cell_type": "markdown",
      "source": [
        "## MNIST with the naive_inception"
      ]
    },
    {
      "metadata": {
        "id": "BpHwcQuTmb8C",
        "colab_type": "code",
        "colab": {
          "base_uri": "https://localhost:8080/",
          "height": 2146
        },
        "outputId": "1f80ce89-1983-470c-809c-e1a33f94b118"
      },
      "cell_type": "code",
      "source": [
        "def naive_model(x_train):\n",
        "\n",
        "    inputs = Input(x_train.shape[1:])\n",
        "\n",
        "    x = naive_inception(inputs)\n",
        "    x = Flatten()(x)\n",
        "    x = Dense(64, activation='relu')(x)\n",
        "    predictions = Dense(10, activation='softmax')(x)\n",
        "\n",
        "    model = Model(input=inputs, output=predictions)\n",
        "\n",
        "    model.compile(loss=keras.losses.categorical_crossentropy,\n",
        "                 optimizer=keras.optimizers.SGD(lr=0.0001),\n",
        "                 metrics=['accuracy'])\n",
        "    return model\n",
        "\n",
        "modelA = naive_model(x_train)\n",
        "modelA.fit(x_train, y_train, epochs=50, shuffle=True,  validation_split=0.1)"
      ],
      "execution_count": 6,
      "outputs": [
        {
          "output_type": "stream",
          "text": [
            "WARNING:tensorflow:From /usr/local/lib/python3.6/dist-packages/tensorflow/python/framework/op_def_library.py:263: colocate_with (from tensorflow.python.framework.ops) is deprecated and will be removed in a future version.\n",
            "Instructions for updating:\n",
            "Colocations handled automatically by placer.\n",
            "WARNING:tensorflow:From /usr/local/lib/python3.6/dist-packages/tensorflow/python/ops/math_ops.py:3066: to_int32 (from tensorflow.python.ops.math_ops) is deprecated and will be removed in a future version.\n",
            "Instructions for updating:\n",
            "Use tf.cast instead.\n"
          ],
          "name": "stdout"
        },
        {
          "output_type": "stream",
          "text": [
            "/usr/local/lib/python3.6/dist-packages/ipykernel_launcher.py:7: UserWarning: Update your `Conv2D` call to the Keras 2 API: `Conv2D(6, (1, 1), activation=\"relu\", padding=\"same\")`\n",
            "  import sys\n",
            "/usr/local/lib/python3.6/dist-packages/ipykernel_launcher.py:8: UserWarning: Update your `Conv2D` call to the Keras 2 API: `Conv2D(6, (3, 3), activation=\"relu\", padding=\"same\")`\n",
            "  \n",
            "/usr/local/lib/python3.6/dist-packages/ipykernel_launcher.py:9: UserWarning: Update your `Conv2D` call to the Keras 2 API: `Conv2D(6, (5, 5), activation=\"relu\", padding=\"same\")`\n",
            "  if __name__ == '__main__':\n",
            "/usr/local/lib/python3.6/dist-packages/ipykernel_launcher.py:10: UserWarning: Update your `Model` call to the Keras 2 API: `Model(inputs=Tensor(\"in..., outputs=Tensor(\"de...)`\n",
            "  # Remove the CWD from sys.path while we load stuff.\n"
          ],
          "name": "stderr"
        },
        {
          "output_type": "stream",
          "text": [
            "Train on 1800 samples, validate on 200 samples\n",
            "Epoch 1/50\n",
            "1800/1800 [==============================] - 3s 1ms/step - loss: 9.7523 - acc: 0.3617 - val_loss: 7.7163 - val_acc: 0.4850\n",
            "Epoch 2/50\n",
            "1800/1800 [==============================] - 2s 1ms/step - loss: 7.5235 - acc: 0.5061 - val_loss: 6.6882 - val_acc: 0.5600\n",
            "Epoch 3/50\n",
            "1800/1800 [==============================] - 2s 1ms/step - loss: 6.5948 - acc: 0.5650 - val_loss: 5.7328 - val_acc: 0.6100\n",
            "Epoch 4/50\n",
            "1800/1800 [==============================] - 2s 1ms/step - loss: 5.8731 - acc: 0.6083 - val_loss: 6.7353 - val_acc: 0.5250\n",
            "Epoch 5/50\n",
            "1800/1800 [==============================] - 2s 1ms/step - loss: 5.3580 - acc: 0.6400 - val_loss: 4.7710 - val_acc: 0.6550\n",
            "Epoch 6/50\n",
            "1800/1800 [==============================] - 2s 1ms/step - loss: 4.6331 - acc: 0.6872 - val_loss: 4.0941 - val_acc: 0.7050\n",
            "Epoch 7/50\n",
            "1800/1800 [==============================] - 2s 1ms/step - loss: 4.2060 - acc: 0.7139 - val_loss: 3.4604 - val_acc: 0.7550\n",
            "Epoch 8/50\n",
            "1800/1800 [==============================] - 2s 1ms/step - loss: 3.7764 - acc: 0.7450 - val_loss: 2.5488 - val_acc: 0.7850\n",
            "Epoch 9/50\n",
            "1800/1800 [==============================] - 2s 1ms/step - loss: 2.8760 - acc: 0.7850 - val_loss: 2.1704 - val_acc: 0.8250\n",
            "Epoch 10/50\n",
            "1800/1800 [==============================] - 2s 1ms/step - loss: 2.2118 - acc: 0.8389 - val_loss: 1.8199 - val_acc: 0.8500\n",
            "Epoch 11/50\n",
            "1800/1800 [==============================] - 2s 1ms/step - loss: 2.1165 - acc: 0.8472 - val_loss: 2.5689 - val_acc: 0.7850\n",
            "Epoch 12/50\n",
            "1800/1800 [==============================] - 2s 1ms/step - loss: 2.0101 - acc: 0.8578 - val_loss: 1.7595 - val_acc: 0.8700\n",
            "Epoch 13/50\n",
            "1800/1800 [==============================] - 2s 1ms/step - loss: 1.8695 - acc: 0.8733 - val_loss: 1.6662 - val_acc: 0.8600\n",
            "Epoch 14/50\n",
            "1800/1800 [==============================] - 2s 1ms/step - loss: 1.8140 - acc: 0.8800 - val_loss: 1.7074 - val_acc: 0.8750\n",
            "Epoch 15/50\n",
            "1800/1800 [==============================] - 2s 1ms/step - loss: 1.7830 - acc: 0.8839 - val_loss: 1.7209 - val_acc: 0.8700\n",
            "Epoch 16/50\n",
            "1800/1800 [==============================] - 2s 1ms/step - loss: 1.7597 - acc: 0.8894 - val_loss: 1.7425 - val_acc: 0.8650\n",
            "Epoch 17/50\n",
            "1800/1800 [==============================] - 2s 1ms/step - loss: 1.7630 - acc: 0.8883 - val_loss: 1.7218 - val_acc: 0.8700\n",
            "Epoch 18/50\n",
            "1800/1800 [==============================] - 2s 1ms/step - loss: 1.7495 - acc: 0.8911 - val_loss: 1.7097 - val_acc: 0.8650\n",
            "Epoch 19/50\n",
            "1800/1800 [==============================] - 2s 1ms/step - loss: 1.7478 - acc: 0.8911 - val_loss: 1.7406 - val_acc: 0.8700\n",
            "Epoch 20/50\n",
            "1800/1800 [==============================] - 2s 1ms/step - loss: 1.7464 - acc: 0.8917 - val_loss: 1.7398 - val_acc: 0.8700\n",
            "Epoch 21/50\n",
            "1800/1800 [==============================] - 2s 1ms/step - loss: 1.7463 - acc: 0.8917 - val_loss: 1.7394 - val_acc: 0.8700\n",
            "Epoch 22/50\n",
            "1800/1800 [==============================] - 2s 1ms/step - loss: 1.7463 - acc: 0.8917 - val_loss: 1.7394 - val_acc: 0.8700\n",
            "Epoch 23/50\n",
            "1800/1800 [==============================] - 2s 1ms/step - loss: 1.7463 - acc: 0.8917 - val_loss: 1.7393 - val_acc: 0.8700\n",
            "Epoch 24/50\n",
            "1800/1800 [==============================] - 2s 1ms/step - loss: 1.7463 - acc: 0.8917 - val_loss: 1.7393 - val_acc: 0.8700\n",
            "Epoch 25/50\n",
            "1800/1800 [==============================] - 2s 1ms/step - loss: 1.7463 - acc: 0.8917 - val_loss: 1.7394 - val_acc: 0.8700\n",
            "Epoch 26/50\n",
            "1800/1800 [==============================] - 2s 1ms/step - loss: 1.7463 - acc: 0.8917 - val_loss: 1.7395 - val_acc: 0.8700\n",
            "Epoch 27/50\n",
            "1800/1800 [==============================] - 2s 1ms/step - loss: 1.7463 - acc: 0.8917 - val_loss: 1.7395 - val_acc: 0.8700\n",
            "Epoch 28/50\n",
            "1800/1800 [==============================] - 2s 1ms/step - loss: 1.7462 - acc: 0.8917 - val_loss: 1.7402 - val_acc: 0.8700\n",
            "Epoch 29/50\n",
            "1800/1800 [==============================] - 2s 1ms/step - loss: 1.7462 - acc: 0.8917 - val_loss: 1.7401 - val_acc: 0.8700\n",
            "Epoch 30/50\n",
            "1800/1800 [==============================] - 2s 1ms/step - loss: 1.7462 - acc: 0.8917 - val_loss: 1.7401 - val_acc: 0.8700\n",
            "Epoch 31/50\n",
            "1800/1800 [==============================] - 2s 1ms/step - loss: 1.7462 - acc: 0.8917 - val_loss: 1.7402 - val_acc: 0.8700\n",
            "Epoch 32/50\n",
            "1800/1800 [==============================] - 2s 1ms/step - loss: 1.7462 - acc: 0.8917 - val_loss: 1.7402 - val_acc: 0.8700\n",
            "Epoch 33/50\n",
            "1800/1800 [==============================] - 2s 1ms/step - loss: 1.7462 - acc: 0.8917 - val_loss: 1.7402 - val_acc: 0.8750\n",
            "Epoch 34/50\n",
            "1800/1800 [==============================] - 2s 1ms/step - loss: 1.7462 - acc: 0.8917 - val_loss: 1.7401 - val_acc: 0.8750\n",
            "Epoch 35/50\n",
            "1800/1800 [==============================] - 2s 1ms/step - loss: 1.7462 - acc: 0.8917 - val_loss: 1.7400 - val_acc: 0.8750\n",
            "Epoch 36/50\n",
            "1800/1800 [==============================] - 2s 1ms/step - loss: 1.7462 - acc: 0.8917 - val_loss: 1.7400 - val_acc: 0.8750\n",
            "Epoch 37/50\n",
            "1800/1800 [==============================] - 2s 1ms/step - loss: 1.7462 - acc: 0.8917 - val_loss: 1.7399 - val_acc: 0.8750\n",
            "Epoch 38/50\n",
            "1800/1800 [==============================] - 2s 1ms/step - loss: 1.7462 - acc: 0.8917 - val_loss: 1.7398 - val_acc: 0.8750\n",
            "Epoch 39/50\n",
            "1800/1800 [==============================] - 2s 1ms/step - loss: 1.7462 - acc: 0.8917 - val_loss: 1.7397 - val_acc: 0.8750\n",
            "Epoch 40/50\n",
            "1800/1800 [==============================] - 2s 1ms/step - loss: 1.7462 - acc: 0.8917 - val_loss: 1.7397 - val_acc: 0.8750\n",
            "Epoch 41/50\n",
            "1800/1800 [==============================] - 2s 1ms/step - loss: 1.7462 - acc: 0.8917 - val_loss: 1.7396 - val_acc: 0.8750\n",
            "Epoch 42/50\n",
            "1800/1800 [==============================] - 2s 1ms/step - loss: 1.7462 - acc: 0.8917 - val_loss: 1.7392 - val_acc: 0.8750\n",
            "Epoch 43/50\n",
            "1800/1800 [==============================] - 2s 1ms/step - loss: 1.7462 - acc: 0.8917 - val_loss: 1.7393 - val_acc: 0.8750\n",
            "Epoch 44/50\n",
            "1800/1800 [==============================] - 2s 1ms/step - loss: 1.7462 - acc: 0.8917 - val_loss: 1.7392 - val_acc: 0.8750\n",
            "Epoch 45/50\n",
            "1800/1800 [==============================] - 2s 1ms/step - loss: 1.7462 - acc: 0.8917 - val_loss: 1.7392 - val_acc: 0.8750\n",
            "Epoch 46/50\n",
            "1800/1800 [==============================] - 2s 1ms/step - loss: 1.7462 - acc: 0.8917 - val_loss: 1.7392 - val_acc: 0.8750\n",
            "Epoch 47/50\n",
            "1800/1800 [==============================] - 2s 1ms/step - loss: 1.7462 - acc: 0.8917 - val_loss: 1.7392 - val_acc: 0.8750\n",
            "Epoch 48/50\n",
            "1800/1800 [==============================] - 2s 1ms/step - loss: 1.7462 - acc: 0.8917 - val_loss: 1.7387 - val_acc: 0.8750\n",
            "Epoch 49/50\n",
            "1800/1800 [==============================] - 2s 1ms/step - loss: 1.7462 - acc: 0.8917 - val_loss: 1.7387 - val_acc: 0.8750\n",
            "Epoch 50/50\n",
            "1800/1800 [==============================] - 2s 1ms/step - loss: 1.7462 - acc: 0.8917 - val_loss: 1.7387 - val_acc: 0.8750\n"
          ],
          "name": "stdout"
        },
        {
          "output_type": "execute_result",
          "data": {
            "text/plain": [
              "<keras.callbacks.History at 0x7ff98def5f98>"
            ]
          },
          "metadata": {
            "tags": []
          },
          "execution_count": 6
        }
      ]
    },
    {
      "metadata": {
        "id": "79cVqv3Cm3Eq",
        "colab_type": "code",
        "colab": {
          "base_uri": "https://localhost:8080/",
          "height": 279
        },
        "outputId": "8f5542fc-c3bf-41b8-f4b7-20425568d7fa"
      },
      "cell_type": "code",
      "source": [
        "%matplotlib inline\n",
        "import matplotlib.pyplot as plt\n",
        "def show_history(history):\n",
        "    plt.plot(history.history['acc'])\n",
        "    plt.plot(history.history['val_acc'])\n",
        "    plt.ylabel('accuracy')\n",
        "    plt.xlabel('epoch')\n",
        "    plt.legend(['train_accuracy', 'test_accuracy'], loc='best')\n",
        "    plt.show()\n",
        "\n",
        "show_history(modelA.history)"
      ],
      "execution_count": 7,
      "outputs": [
        {
          "output_type": "display_data",
          "data": {
            "image/png": "[encoded data removed]",
            "text/plain": [
              "<Figure size 432x288 with 1 Axes>"
            ]
          },
          "metadata": {
            "tags": []
          }
        }
      ]
    },
    {
      "metadata": {
        "id": "a9NV9eAfm_PC",
        "colab_type": "text"
      },
      "cell_type": "markdown",
      "source": [
        "## MNIST with Inception module with dimension reduction"
      ]
    },
    {
      "metadata": {
        "id": "T8Z7e3qrm6up",
        "colab_type": "code",
        "colab": {
          "base_uri": "https://localhost:8080/",
          "height": 2037
        },
        "outputId": "5e13e1ff-e4c0-435e-ee1e-374434d3eec3"
      },
      "cell_type": "code",
      "source": [
        "def dimension_reduction_model(x_train):\n",
        "\n",
        "    inputs = Input(x_train.shape[1:])\n",
        "\n",
        "    x = dimension_reduction_inception(inputs)\n",
        "    x = Flatten()(x)\n",
        "    x = Dense(64, activation='relu')(x)\n",
        "    predictions = Dense(10, activation='softmax')(x)\n",
        "\n",
        "    model = Model(input=inputs, output=predictions)\n",
        "\n",
        "    model.compile(loss=keras.losses.categorical_crossentropy,\n",
        "                 optimizer=keras.optimizers.SGD(lr=0.0001),\n",
        "                 metrics=['accuracy'])\n",
        "    return model\n",
        "\n",
        "modelB = naive_model(x_train)\n",
        "modelB.fit(x_train, y_train, epochs=50, shuffle=True,  validation_split=0.1)"
      ],
      "execution_count": 8,
      "outputs": [
        {
          "output_type": "stream",
          "text": [
            "/usr/local/lib/python3.6/dist-packages/ipykernel_launcher.py:7: UserWarning: Update your `Conv2D` call to the Keras 2 API: `Conv2D(6, (1, 1), activation=\"relu\", padding=\"same\")`\n",
            "  import sys\n",
            "/usr/local/lib/python3.6/dist-packages/ipykernel_launcher.py:8: UserWarning: Update your `Conv2D` call to the Keras 2 API: `Conv2D(6, (3, 3), activation=\"relu\", padding=\"same\")`\n",
            "  \n",
            "/usr/local/lib/python3.6/dist-packages/ipykernel_launcher.py:9: UserWarning: Update your `Conv2D` call to the Keras 2 API: `Conv2D(6, (5, 5), activation=\"relu\", padding=\"same\")`\n",
            "  if __name__ == '__main__':\n",
            "/usr/local/lib/python3.6/dist-packages/ipykernel_launcher.py:10: UserWarning: Update your `Model` call to the Keras 2 API: `Model(inputs=Tensor(\"in..., outputs=Tensor(\"de...)`\n",
            "  # Remove the CWD from sys.path while we load stuff.\n"
          ],
          "name": "stderr"
        },
        {
          "output_type": "stream",
          "text": [
            "Train on 1800 samples, validate on 200 samples\n",
            "Epoch 1/50\n",
            "1800/1800 [==============================] - 3s 1ms/step - loss: 10.6672 - acc: 0.3106 - val_loss: 7.8847 - val_acc: 0.4900\n",
            "Epoch 2/50\n",
            "1800/1800 [==============================] - 2s 1ms/step - loss: 6.1247 - acc: 0.5817 - val_loss: 5.6498 - val_acc: 0.6200\n",
            "Epoch 3/50\n",
            "1800/1800 [==============================] - 2s 1ms/step - loss: 4.6057 - acc: 0.6817 - val_loss: 5.9498 - val_acc: 0.5950\n",
            "Epoch 4/50\n",
            "1800/1800 [==============================] - 2s 1ms/step - loss: 3.6929 - acc: 0.7339 - val_loss: 3.9952 - val_acc: 0.7250\n",
            "Epoch 5/50\n",
            "1800/1800 [==============================] - 2s 1ms/step - loss: 2.5967 - acc: 0.8111 - val_loss: 2.6788 - val_acc: 0.7950\n",
            "Epoch 6/50\n",
            "1800/1800 [==============================] - 2s 1ms/step - loss: 2.1172 - acc: 0.8428 - val_loss: 2.5586 - val_acc: 0.8150\n",
            "Epoch 7/50\n",
            "1800/1800 [==============================] - 2s 1ms/step - loss: 1.8404 - acc: 0.8650 - val_loss: 2.9808 - val_acc: 0.7700\n",
            "Epoch 8/50\n",
            "1800/1800 [==============================] - 2s 1ms/step - loss: 1.6006 - acc: 0.8772 - val_loss: 1.9701 - val_acc: 0.8400\n",
            "Epoch 9/50\n",
            "1800/1800 [==============================] - 2s 1ms/step - loss: 1.3692 - acc: 0.9011 - val_loss: 3.1639 - val_acc: 0.7500\n",
            "Epoch 10/50\n",
            "1800/1800 [==============================] - 2s 1ms/step - loss: 1.3031 - acc: 0.9033 - val_loss: 4.4316 - val_acc: 0.6650\n",
            "Epoch 11/50\n",
            "1800/1800 [==============================] - 2s 1ms/step - loss: 1.4295 - acc: 0.8967 - val_loss: 1.7810 - val_acc: 0.8500\n",
            "Epoch 12/50\n",
            "1800/1800 [==============================] - 2s 1ms/step - loss: 0.9649 - acc: 0.9256 - val_loss: 1.8340 - val_acc: 0.8600\n",
            "Epoch 13/50\n",
            "1800/1800 [==============================] - 2s 1ms/step - loss: 0.9268 - acc: 0.9306 - val_loss: 1.4453 - val_acc: 0.8800\n",
            "Epoch 14/50\n",
            "1800/1800 [==============================] - 2s 1ms/step - loss: 0.8546 - acc: 0.9389 - val_loss: 1.3598 - val_acc: 0.9050\n",
            "Epoch 15/50\n",
            "1800/1800 [==============================] - 2s 1ms/step - loss: 0.8794 - acc: 0.9350 - val_loss: 1.6866 - val_acc: 0.8750\n",
            "Epoch 16/50\n",
            "1800/1800 [==============================] - 2s 1ms/step - loss: 0.8518 - acc: 0.9339 - val_loss: 1.5876 - val_acc: 0.8800\n",
            "Epoch 17/50\n",
            "1800/1800 [==============================] - 2s 1ms/step - loss: 0.7838 - acc: 0.9444 - val_loss: 1.5310 - val_acc: 0.8750\n",
            "Epoch 18/50\n",
            "1800/1800 [==============================] - 2s 1ms/step - loss: 0.7969 - acc: 0.9417 - val_loss: 1.2519 - val_acc: 0.8950\n",
            "Epoch 19/50\n",
            "1800/1800 [==============================] - 2s 1ms/step - loss: 0.6695 - acc: 0.9494 - val_loss: 1.3758 - val_acc: 0.8850\n",
            "Epoch 20/50\n",
            "1800/1800 [==============================] - 2s 1ms/step - loss: 0.6423 - acc: 0.9561 - val_loss: 1.3507 - val_acc: 0.9000\n",
            "Epoch 21/50\n",
            "1800/1800 [==============================] - 2s 1ms/step - loss: 0.6121 - acc: 0.9583 - val_loss: 1.4568 - val_acc: 0.8850\n",
            "Epoch 22/50\n",
            "1800/1800 [==============================] - 2s 1ms/step - loss: 0.6579 - acc: 0.9533 - val_loss: 1.2972 - val_acc: 0.8850\n",
            "Epoch 23/50\n",
            "1800/1800 [==============================] - 2s 1ms/step - loss: 0.5486 - acc: 0.9606 - val_loss: 1.3847 - val_acc: 0.9000\n",
            "Epoch 24/50\n",
            "1800/1800 [==============================] - 2s 1ms/step - loss: 0.5254 - acc: 0.9656 - val_loss: 1.3145 - val_acc: 0.8900\n",
            "Epoch 25/50\n",
            "1800/1800 [==============================] - 2s 1ms/step - loss: 0.5143 - acc: 0.9672 - val_loss: 1.3612 - val_acc: 0.8950\n",
            "Epoch 26/50\n",
            "1800/1800 [==============================] - 2s 1ms/step - loss: 0.5199 - acc: 0.9667 - val_loss: 1.3352 - val_acc: 0.9000\n",
            "Epoch 27/50\n",
            "1800/1800 [==============================] - 2s 1ms/step - loss: 0.5104 - acc: 0.9683 - val_loss: 1.3360 - val_acc: 0.9000\n",
            "Epoch 28/50\n",
            "1800/1800 [==============================] - 2s 1ms/step - loss: 0.5104 - acc: 0.9683 - val_loss: 1.3363 - val_acc: 0.9000\n",
            "Epoch 29/50\n",
            "1800/1800 [==============================] - 2s 1ms/step - loss: 0.5104 - acc: 0.9683 - val_loss: 1.3364 - val_acc: 0.9000\n",
            "Epoch 30/50\n",
            "1800/1800 [==============================] - 2s 1ms/step - loss: 0.5104 - acc: 0.9683 - val_loss: 1.3364 - val_acc: 0.9000\n",
            "Epoch 31/50\n",
            "1800/1800 [==============================] - 2s 1ms/step - loss: 0.5104 - acc: 0.9683 - val_loss: 1.3364 - val_acc: 0.9000\n",
            "Epoch 32/50\n",
            "1800/1800 [==============================] - 2s 1ms/step - loss: 0.5104 - acc: 0.9683 - val_loss: 1.3363 - val_acc: 0.9000\n",
            "Epoch 33/50\n",
            "1800/1800 [==============================] - 2s 1ms/step - loss: 0.5104 - acc: 0.9683 - val_loss: 1.3361 - val_acc: 0.9000\n",
            "Epoch 34/50\n",
            "1800/1800 [==============================] - 2s 1ms/step - loss: 0.5104 - acc: 0.9683 - val_loss: 1.3360 - val_acc: 0.9000\n",
            "Epoch 35/50\n",
            "1800/1800 [==============================] - 2s 1ms/step - loss: 0.5104 - acc: 0.9683 - val_loss: 1.3359 - val_acc: 0.9000\n",
            "Epoch 36/50\n",
            "1800/1800 [==============================] - 2s 1ms/step - loss: 0.5104 - acc: 0.9683 - val_loss: 1.3357 - val_acc: 0.9000\n",
            "Epoch 37/50\n",
            "1800/1800 [==============================] - 2s 1ms/step - loss: 0.5104 - acc: 0.9683 - val_loss: 1.3354 - val_acc: 0.9000\n",
            "Epoch 38/50\n",
            "1800/1800 [==============================] - 2s 1ms/step - loss: 0.5104 - acc: 0.9683 - val_loss: 1.3353 - val_acc: 0.9000\n",
            "Epoch 39/50\n",
            "1800/1800 [==============================] - 2s 1ms/step - loss: 0.5104 - acc: 0.9683 - val_loss: 1.3351 - val_acc: 0.9000\n",
            "Epoch 40/50\n",
            "1800/1800 [==============================] - 2s 1ms/step - loss: 0.5104 - acc: 0.9683 - val_loss: 1.3350 - val_acc: 0.9000\n",
            "Epoch 41/50\n",
            "1800/1800 [==============================] - 2s 1ms/step - loss: 0.5104 - acc: 0.9683 - val_loss: 1.3348 - val_acc: 0.9000\n",
            "Epoch 42/50\n",
            "1800/1800 [==============================] - 2s 1ms/step - loss: 0.5104 - acc: 0.9683 - val_loss: 1.3348 - val_acc: 0.9000\n",
            "Epoch 43/50\n",
            "1800/1800 [==============================] - 2s 1ms/step - loss: 0.5104 - acc: 0.9683 - val_loss: 1.3347 - val_acc: 0.9000\n",
            "Epoch 44/50\n",
            "1800/1800 [==============================] - 2s 1ms/step - loss: 0.5104 - acc: 0.9683 - val_loss: 1.3346 - val_acc: 0.9000\n",
            "Epoch 45/50\n",
            "1800/1800 [==============================] - 2s 1ms/step - loss: 0.5104 - acc: 0.9683 - val_loss: 1.3345 - val_acc: 0.9000\n",
            "Epoch 46/50\n",
            "1800/1800 [==============================] - 2s 1ms/step - loss: 0.5104 - acc: 0.9683 - val_loss: 1.3344 - val_acc: 0.9000\n",
            "Epoch 47/50\n",
            "1800/1800 [==============================] - 2s 1ms/step - loss: 0.5104 - acc: 0.9683 - val_loss: 1.3343 - val_acc: 0.9000\n",
            "Epoch 48/50\n",
            "1800/1800 [==============================] - 2s 1ms/step - loss: 0.5104 - acc: 0.9683 - val_loss: 1.3342 - val_acc: 0.9000\n",
            "Epoch 49/50\n",
            "1800/1800 [==============================] - 2s 1ms/step - loss: 0.5104 - acc: 0.9683 - val_loss: 1.3342 - val_acc: 0.9000\n",
            "Epoch 50/50\n",
            "1800/1800 [==============================] - 2s 1ms/step - loss: 0.5104 - acc: 0.9683 - val_loss: 1.3341 - val_acc: 0.9000\n"
          ],
          "name": "stdout"
        },
        {
          "output_type": "execute_result",
          "data": {
            "text/plain": [
              "<keras.callbacks.History at 0x7ff986a09ef0>"
            ]
          },
          "metadata": {
            "tags": []
          },
          "execution_count": 8
        }
      ]
    },
    {
      "metadata": {
        "id": "RxaDUk_nnHyu",
        "colab_type": "code",
        "colab": {
          "base_uri": "https://localhost:8080/",
          "height": 279
        },
        "outputId": "f8836f92-eee4-403f-d65f-17d60fbe941a"
      },
      "cell_type": "code",
      "source": [
        "%matplotlib inline\n",
        "import matplotlib.pyplot as plt\n",
        "def show_history(history):\n",
        "    plt.plot(history.history['acc'])\n",
        "    plt.plot(history.history['val_acc'])\n",
        "    plt.ylabel('accuracy')\n",
        "    plt.xlabel('epoch')\n",
        "    plt.legend(['train_accuracy', 'test_accuracy'], loc='best')\n",
        "    plt.show()\n",
        "\n",
        "show_history(modelA.history)"
      ],
      "execution_count": 9,
      "outputs": [
        {
          "output_type": "display_data",
          "data": {
            "image/png": "[encoded data removed]",
            "text/plain": [
              "<Figure size 432x288 with 1 Axes>"
            ]
          },
          "metadata": {
            "tags": []
          }
        }
      ]
    },
    {
      "metadata": {
        "id": "spQ1HN5jt5-O",
        "colab_type": "text"
      },
      "cell_type": "markdown",
      "source": [
        "## Inception module"
      ]
    },
    {
      "metadata": {
        "id": "9B_bBpn3t7Je",
        "colab_type": "code",
        "colab": {}
      },
      "cell_type": "code",
      "source": [
        "from keras.layers import Conv2D, MaxPooling2D, Input\n",
        "\n",
        "input_img = Input(shape=(256, 256, 3))\n",
        "\n",
        "tower_1 = Conv2D(64, (1, 1), padding='same', activation='relu')(input_img)\n",
        "tower_1 = Conv2D(64, (3, 3), padding='same', activation='relu')(tower_1)\n",
        "\n",
        "tower_2 = Conv2D(64, (1, 1), padding='same', activation='relu')(input_img)\n",
        "tower_2 = Conv2D(64, (5, 5), padding='same', activation='relu')(tower_2)\n",
        "\n",
        "tower_3 = MaxPooling2D((3, 3), strides=(1, 1), padding='same')(input_img)\n",
        "tower_3 = Conv2D(64, (1, 1), padding='same', activation='relu')(tower_3)\n",
        "\n",
        "output = keras.layers.concatenate([tower_1, tower_2, tower_3], axis=1)"
      ],
      "execution_count": 0,
      "outputs": []
    },
    {
      "metadata": {
        "id": "gfkch96Kr-p_",
        "colab_type": "text"
      },
      "cell_type": "markdown",
      "source": [
        "## cifar10"
      ]
    },
    {
      "metadata": {
        "id": "lsZioXKjsOye",
        "colab_type": "text"
      },
      "cell_type": "markdown",
      "source": [
        "Each image is represented as 32x32 pixels each for red, blue and green channels. Each pixel has a value between 0–255. Next, we normalize the values to 0–1."
      ]
    },
    {
      "metadata": {
        "id": "cLY48R7YnLgl",
        "colab_type": "code",
        "colab": {
          "base_uri": "https://localhost:8080/",
          "height": 2355
        },
        "outputId": "9a43f3fc-94af-4821-ce85-6b6c6e770499"
      },
      "cell_type": "code",
      "source": [
        "from keras.datasets import cifar10\n",
        "(X_train, y_train), (X_test, y_test) = cifar10.load_data()\n",
        "\n",
        "X_train = X_train.astype('float32')\n",
        "X_test = X_test.astype('float32')\n",
        "X_train = X_train / 255.0\n",
        "X_test = X_test / 255.0\n",
        "\n"
      ],
      "execution_count": 11,
      "outputs": [
        {
          "output_type": "stream",
          "text": [
            "Downloading data from https://www.cs.toronto.edu/~kriz/cifar-10-python.tar.gz\n"
          ],
          "name": "stdout"
        },
        {
          "output_type": "error",
          "ename": "Exception",
          "evalue": "ignored",
          "traceback": [
            "\u001b[0;31m---------------------------------------------------------------------------\u001b[0m",
            "\u001b[0;31mTimeoutError\u001b[0m                              Traceback (most recent call last)",
            "\u001b[0;32m/usr/lib/python3.6/urllib/request.py\u001b[0m in \u001b[0;36mdo_open\u001b[0;34m(self, http_class, req, **http_conn_args)\u001b[0m\n\u001b[1;32m   1317\u001b[0m                 h.request(req.get_method(), req.selector, req.data, headers,\n\u001b[0;32m-> 1318\u001b[0;31m                           encode_chunked=req.has_header('Transfer-encoding'))\n\u001b[0m\u001b[1;32m   1319\u001b[0m             \u001b[0;32mexcept\u001b[0m \u001b[0mOSError\u001b[0m \u001b[0;32mas\u001b[0m \u001b[0merr\u001b[0m\u001b[0;34m:\u001b[0m \u001b[0;31m# timeout error\u001b[0m\u001b[0;34m\u001b[0m\u001b[0;34m\u001b[0m\u001b[0m\n",
            "\u001b[0;32m/usr/lib/python3.6/http/client.py\u001b[0m in \u001b[0;36mrequest\u001b[0;34m(self, method, url, body, headers, encode_chunked)\u001b[0m\n\u001b[1;32m   1238\u001b[0m         \u001b[0;34m\"\"\"Send a complete request to the server.\"\"\"\u001b[0m\u001b[0;34m\u001b[0m\u001b[0;34m\u001b[0m\u001b[0m\n\u001b[0;32m-> 1239\u001b[0;31m         \u001b[0mself\u001b[0m\u001b[0;34m.\u001b[0m\u001b[0m_send_request\u001b[0m\u001b[0;34m(\u001b[0m\u001b[0mmethod\u001b[0m\u001b[0;34m,\u001b[0m \u001b[0murl\u001b[0m\u001b[0;34m,\u001b[0m \u001b[0mbody\u001b[0m\u001b[0;34m,\u001b[0m \u001b[0mheaders\u001b[0m\u001b[0;34m,\u001b[0m \u001b[0mencode_chunked\u001b[0m\u001b[0;34m)\u001b[0m\u001b[0;34m\u001b[0m\u001b[0;34m\u001b[0m\u001b[0m\n\u001b[0m\u001b[1;32m   1240\u001b[0m \u001b[0;34m\u001b[0m\u001b[0m\n",
            "\u001b[0;32m/usr/lib/python3.6/http/client.py\u001b[0m in \u001b[0;36m_send_request\u001b[0;34m(self, method, url, body, headers, encode_chunked)\u001b[0m\n\u001b[1;32m   1284\u001b[0m             \u001b[0mbody\u001b[0m \u001b[0;34m=\u001b[0m \u001b[0m_encode\u001b[0m\u001b[0;34m(\u001b[0m\u001b[0mbody\u001b[0m\u001b[0;34m,\u001b[0m \u001b[0;34m'body'\u001b[0m\u001b[0;34m)\u001b[0m\u001b[0;34m\u001b[0m\u001b[0;34m\u001b[0m\u001b[0m\n\u001b[0;32m-> 1285\u001b[0;31m         \u001b[0mself\u001b[0m\u001b[0;34m.\u001b[0m\u001b[0mendheaders\u001b[0m\u001b[0;34m(\u001b[0m\u001b[0mbody\u001b[0m\u001b[0;34m,\u001b[0m \u001b[0mencode_chunked\u001b[0m\u001b[0;34m=\u001b[0m\u001b[0mencode_chunked\u001b[0m\u001b[0;34m)\u001b[0m\u001b[0;34m\u001b[0m\u001b[0;34m\u001b[0m\u001b[0m\n\u001b[0m\u001b[1;32m   1286\u001b[0m \u001b[0;34m\u001b[0m\u001b[0m\n",
            "\u001b[0;32m/usr/lib/python3.6/http/client.py\u001b[0m in \u001b[0;36mendheaders\u001b[0;34m(self, message_body, encode_chunked)\u001b[0m\n\u001b[1;32m   1233\u001b[0m             \u001b[0;32mraise\u001b[0m \u001b[0mCannotSendHeader\u001b[0m\u001b[0;34m(\u001b[0m\u001b[0;34m)\u001b[0m\u001b[0;34m\u001b[0m\u001b[0;34m\u001b[0m\u001b[0m\n\u001b[0;32m-> 1234\u001b[0;31m         \u001b[0mself\u001b[0m\u001b[0;34m.\u001b[0m\u001b[0m_send_output\u001b[0m\u001b[0;34m(\u001b[0m\u001b[0mmessage_body\u001b[0m\u001b[0;34m,\u001b[0m \u001b[0mencode_chunked\u001b[0m\u001b[0;34m=\u001b[0m\u001b[0mencode_chunked\u001b[0m\u001b[0;34m)\u001b[0m\u001b[0;34m\u001b[0m\u001b[0;34m\u001b[0m\u001b[0m\n\u001b[0m\u001b[1;32m   1235\u001b[0m \u001b[0;34m\u001b[0m\u001b[0m\n",
            "\u001b[0;32m/usr/lib/python3.6/http/client.py\u001b[0m in \u001b[0;36m_send_output\u001b[0;34m(self, message_body, encode_chunked)\u001b[0m\n\u001b[1;32m   1025\u001b[0m         \u001b[0;32mdel\u001b[0m \u001b[0mself\u001b[0m\u001b[0;34m.\u001b[0m\u001b[0m_buffer\u001b[0m\u001b[0;34m[\u001b[0m\u001b[0;34m:\u001b[0m\u001b[0;34m]\u001b[0m\u001b[0;34m\u001b[0m\u001b[0;34m\u001b[0m\u001b[0m\n\u001b[0;32m-> 1026\u001b[0;31m         \u001b[0mself\u001b[0m\u001b[0;34m.\u001b[0m\u001b[0msend\u001b[0m\u001b[0;34m(\u001b[0m\u001b[0mmsg\u001b[0m\u001b[0;34m)\u001b[0m\u001b[0;34m\u001b[0m\u001b[0;34m\u001b[0m\u001b[0m\n\u001b[0m\u001b[1;32m   1027\u001b[0m \u001b[0;34m\u001b[0m\u001b[0m\n",
            "\u001b[0;32m/usr/lib/python3.6/http/client.py\u001b[0m in \u001b[0;36msend\u001b[0;34m(self, data)\u001b[0m\n\u001b[1;32m    963\u001b[0m             \u001b[0;32mif\u001b[0m \u001b[0mself\u001b[0m\u001b[0;34m.\u001b[0m\u001b[0mauto_open\u001b[0m\u001b[0;34m:\u001b[0m\u001b[0;34m\u001b[0m\u001b[0;34m\u001b[0m\u001b[0m\n\u001b[0;32m--> 964\u001b[0;31m                 \u001b[0mself\u001b[0m\u001b[0;34m.\u001b[0m\u001b[0mconnect\u001b[0m\u001b[0;34m(\u001b[0m\u001b[0;34m)\u001b[0m\u001b[0;34m\u001b[0m\u001b[0;34m\u001b[0m\u001b[0m\n\u001b[0m\u001b[1;32m    965\u001b[0m             \u001b[0;32melse\u001b[0m\u001b[0;34m:\u001b[0m\u001b[0;34m\u001b[0m\u001b[0;34m\u001b[0m\u001b[0m\n",
            "\u001b[0;32m/usr/lib/python3.6/http/client.py\u001b[0m in \u001b[0;36mconnect\u001b[0;34m(self)\u001b[0m\n\u001b[1;32m   1391\u001b[0m \u001b[0;34m\u001b[0m\u001b[0m\n\u001b[0;32m-> 1392\u001b[0;31m             \u001b[0msuper\u001b[0m\u001b[0;34m(\u001b[0m\u001b[0;34m)\u001b[0m\u001b[0;34m.\u001b[0m\u001b[0mconnect\u001b[0m\u001b[0;34m(\u001b[0m\u001b[0;34m)\u001b[0m\u001b[0;34m\u001b[0m\u001b[0;34m\u001b[0m\u001b[0m\n\u001b[0m\u001b[1;32m   1393\u001b[0m \u001b[0;34m\u001b[0m\u001b[0m\n",
            "\u001b[0;32m/usr/lib/python3.6/http/client.py\u001b[0m in \u001b[0;36mconnect\u001b[0;34m(self)\u001b[0m\n\u001b[1;32m    935\u001b[0m         self.sock = self._create_connection(\n\u001b[0;32m--> 936\u001b[0;31m             (self.host,self.port), self.timeout, self.source_address)\n\u001b[0m\u001b[1;32m    937\u001b[0m         \u001b[0mself\u001b[0m\u001b[0;34m.\u001b[0m\u001b[0msock\u001b[0m\u001b[0;34m.\u001b[0m\u001b[0msetsockopt\u001b[0m\u001b[0;34m(\u001b[0m\u001b[0msocket\u001b[0m\u001b[0;34m.\u001b[0m\u001b[0mIPPROTO_TCP\u001b[0m\u001b[0;34m,\u001b[0m \u001b[0msocket\u001b[0m\u001b[0;34m.\u001b[0m\u001b[0mTCP_NODELAY\u001b[0m\u001b[0;34m,\u001b[0m \u001b[0;36m1\u001b[0m\u001b[0;34m)\u001b[0m\u001b[0;34m\u001b[0m\u001b[0;34m\u001b[0m\u001b[0m\n",
            "\u001b[0;32m/usr/lib/python3.6/socket.py\u001b[0m in \u001b[0;36mcreate_connection\u001b[0;34m(address, timeout, source_address)\u001b[0m\n\u001b[1;32m    723\u001b[0m     \u001b[0;32mif\u001b[0m \u001b[0merr\u001b[0m \u001b[0;32mis\u001b[0m \u001b[0;32mnot\u001b[0m \u001b[0;32mNone\u001b[0m\u001b[0;34m:\u001b[0m\u001b[0;34m\u001b[0m\u001b[0;34m\u001b[0m\u001b[0m\n\u001b[0;32m--> 724\u001b[0;31m         \u001b[0;32mraise\u001b[0m \u001b[0merr\u001b[0m\u001b[0;34m\u001b[0m\u001b[0;34m\u001b[0m\u001b[0m\n\u001b[0m\u001b[1;32m    725\u001b[0m     \u001b[0;32melse\u001b[0m\u001b[0;34m:\u001b[0m\u001b[0;34m\u001b[0m\u001b[0;34m\u001b[0m\u001b[0m\n",
            "\u001b[0;32m/usr/lib/python3.6/socket.py\u001b[0m in \u001b[0;36mcreate_connection\u001b[0;34m(address, timeout, source_address)\u001b[0m\n\u001b[1;32m    712\u001b[0m                 \u001b[0msock\u001b[0m\u001b[0;34m.\u001b[0m\u001b[0mbind\u001b[0m\u001b[0;34m(\u001b[0m\u001b[0msource_address\u001b[0m\u001b[0;34m)\u001b[0m\u001b[0;34m\u001b[0m\u001b[0;34m\u001b[0m\u001b[0m\n\u001b[0;32m--> 713\u001b[0;31m             \u001b[0msock\u001b[0m\u001b[0;34m.\u001b[0m\u001b[0mconnect\u001b[0m\u001b[0;34m(\u001b[0m\u001b[0msa\u001b[0m\u001b[0;34m)\u001b[0m\u001b[0;34m\u001b[0m\u001b[0;34m\u001b[0m\u001b[0m\n\u001b[0m\u001b[1;32m    714\u001b[0m             \u001b[0;31m# Break explicitly a reference cycle\u001b[0m\u001b[0;34m\u001b[0m\u001b[0;34m\u001b[0m\u001b[0;34m\u001b[0m\u001b[0m\n",
            "\u001b[0;31mTimeoutError\u001b[0m: [Errno 110] Connection timed out",
            "\nDuring handling of the above exception, another exception occurred:\n",
            "\u001b[0;31mURLError\u001b[0m                                  Traceback (most recent call last)",
            "\u001b[0;32m/usr/local/lib/python3.6/dist-packages/keras/utils/data_utils.py\u001b[0m in \u001b[0;36mget_file\u001b[0;34m(fname, origin, untar, md5_hash, file_hash, cache_subdir, hash_algorithm, extract, archive_format, cache_dir)\u001b[0m\n\u001b[1;32m    221\u001b[0m             \u001b[0;32mtry\u001b[0m\u001b[0;34m:\u001b[0m\u001b[0;34m\u001b[0m\u001b[0;34m\u001b[0m\u001b[0m\n\u001b[0;32m--> 222\u001b[0;31m                 \u001b[0murlretrieve\u001b[0m\u001b[0;34m(\u001b[0m\u001b[0morigin\u001b[0m\u001b[0;34m,\u001b[0m \u001b[0mfpath\u001b[0m\u001b[0;34m,\u001b[0m \u001b[0mdl_progress\u001b[0m\u001b[0;34m)\u001b[0m\u001b[0;34m\u001b[0m\u001b[0;34m\u001b[0m\u001b[0m\n\u001b[0m\u001b[1;32m    223\u001b[0m             \u001b[0;32mexcept\u001b[0m \u001b[0mHTTPError\u001b[0m \u001b[0;32mas\u001b[0m \u001b[0me\u001b[0m\u001b[0;34m:\u001b[0m\u001b[0;34m\u001b[0m\u001b[0;34m\u001b[0m\u001b[0m\n",
            "\u001b[0;32m/usr/lib/python3.6/urllib/request.py\u001b[0m in \u001b[0;36murlretrieve\u001b[0;34m(url, filename, reporthook, data)\u001b[0m\n\u001b[1;32m    247\u001b[0m \u001b[0;34m\u001b[0m\u001b[0m\n\u001b[0;32m--> 248\u001b[0;31m     \u001b[0;32mwith\u001b[0m \u001b[0mcontextlib\u001b[0m\u001b[0;34m.\u001b[0m\u001b[0mclosing\u001b[0m\u001b[0;34m(\u001b[0m\u001b[0murlopen\u001b[0m\u001b[0;34m(\u001b[0m\u001b[0murl\u001b[0m\u001b[0;34m,\u001b[0m \u001b[0mdata\u001b[0m\u001b[0;34m)\u001b[0m\u001b[0;34m)\u001b[0m \u001b[0;32mas\u001b[0m \u001b[0mfp\u001b[0m\u001b[0;34m:\u001b[0m\u001b[0;34m\u001b[0m\u001b[0;34m\u001b[0m\u001b[0m\n\u001b[0m\u001b[1;32m    249\u001b[0m         \u001b[0mheaders\u001b[0m \u001b[0;34m=\u001b[0m \u001b[0mfp\u001b[0m\u001b[0;34m.\u001b[0m\u001b[0minfo\u001b[0m\u001b[0;34m(\u001b[0m\u001b[0;34m)\u001b[0m\u001b[0;34m\u001b[0m\u001b[0;34m\u001b[0m\u001b[0m\n",
            "\u001b[0;32m/usr/lib/python3.6/urllib/request.py\u001b[0m in \u001b[0;36murlopen\u001b[0;34m(url, data, timeout, cafile, capath, cadefault, context)\u001b[0m\n\u001b[1;32m    222\u001b[0m         \u001b[0mopener\u001b[0m \u001b[0;34m=\u001b[0m \u001b[0m_opener\u001b[0m\u001b[0;34m\u001b[0m\u001b[0;34m\u001b[0m\u001b[0m\n\u001b[0;32m--> 223\u001b[0;31m     \u001b[0;32mreturn\u001b[0m \u001b[0mopener\u001b[0m\u001b[0;34m.\u001b[0m\u001b[0mopen\u001b[0m\u001b[0;34m(\u001b[0m\u001b[0murl\u001b[0m\u001b[0;34m,\u001b[0m \u001b[0mdata\u001b[0m\u001b[0;34m,\u001b[0m \u001b[0mtimeout\u001b[0m\u001b[0;34m)\u001b[0m\u001b[0;34m\u001b[0m\u001b[0;34m\u001b[0m\u001b[0m\n\u001b[0m\u001b[1;32m    224\u001b[0m \u001b[0;34m\u001b[0m\u001b[0m\n",
            "\u001b[0;32m/usr/lib/python3.6/urllib/request.py\u001b[0m in \u001b[0;36mopen\u001b[0;34m(self, fullurl, data, timeout)\u001b[0m\n\u001b[1;32m    525\u001b[0m \u001b[0;34m\u001b[0m\u001b[0m\n\u001b[0;32m--> 526\u001b[0;31m         \u001b[0mresponse\u001b[0m \u001b[0;34m=\u001b[0m \u001b[0mself\u001b[0m\u001b[0;34m.\u001b[0m\u001b[0m_open\u001b[0m\u001b[0;34m(\u001b[0m\u001b[0mreq\u001b[0m\u001b[0;34m,\u001b[0m \u001b[0mdata\u001b[0m\u001b[0;34m)\u001b[0m\u001b[0;34m\u001b[0m\u001b[0;34m\u001b[0m\u001b[0m\n\u001b[0m\u001b[1;32m    527\u001b[0m \u001b[0;34m\u001b[0m\u001b[0m\n",
            "\u001b[0;32m/usr/lib/python3.6/urllib/request.py\u001b[0m in \u001b[0;36m_open\u001b[0;34m(self, req, data)\u001b[0m\n\u001b[1;32m    543\u001b[0m         result = self._call_chain(self.handle_open, protocol, protocol +\n\u001b[0;32m--> 544\u001b[0;31m                                   '_open', req)\n\u001b[0m\u001b[1;32m    545\u001b[0m         \u001b[0;32mif\u001b[0m \u001b[0mresult\u001b[0m\u001b[0;34m:\u001b[0m\u001b[0;34m\u001b[0m\u001b[0;34m\u001b[0m\u001b[0m\n",
            "\u001b[0;32m/usr/lib/python3.6/urllib/request.py\u001b[0m in \u001b[0;36m_call_chain\u001b[0;34m(self, chain, kind, meth_name, *args)\u001b[0m\n\u001b[1;32m    503\u001b[0m             \u001b[0mfunc\u001b[0m \u001b[0;34m=\u001b[0m \u001b[0mgetattr\u001b[0m\u001b[0;34m(\u001b[0m\u001b[0mhandler\u001b[0m\u001b[0;34m,\u001b[0m \u001b[0mmeth_name\u001b[0m\u001b[0;34m)\u001b[0m\u001b[0;34m\u001b[0m\u001b[0;34m\u001b[0m\u001b[0m\n\u001b[0;32m--> 504\u001b[0;31m             \u001b[0mresult\u001b[0m \u001b[0;34m=\u001b[0m \u001b[0mfunc\u001b[0m\u001b[0;34m(\u001b[0m\u001b[0;34m*\u001b[0m\u001b[0margs\u001b[0m\u001b[0;34m)\u001b[0m\u001b[0;34m\u001b[0m\u001b[0;34m\u001b[0m\u001b[0m\n\u001b[0m\u001b[1;32m    505\u001b[0m             \u001b[0;32mif\u001b[0m \u001b[0mresult\u001b[0m \u001b[0;32mis\u001b[0m \u001b[0;32mnot\u001b[0m \u001b[0;32mNone\u001b[0m\u001b[0;34m:\u001b[0m\u001b[0;34m\u001b[0m\u001b[0;34m\u001b[0m\u001b[0m\n",
            "\u001b[0;32m/usr/lib/python3.6/urllib/request.py\u001b[0m in \u001b[0;36mhttps_open\u001b[0;34m(self, req)\u001b[0m\n\u001b[1;32m   1360\u001b[0m             return self.do_open(http.client.HTTPSConnection, req,\n\u001b[0;32m-> 1361\u001b[0;31m                 context=self._context, check_hostname=self._check_hostname)\n\u001b[0m\u001b[1;32m   1362\u001b[0m \u001b[0;34m\u001b[0m\u001b[0m\n",
            "\u001b[0;32m/usr/lib/python3.6/urllib/request.py\u001b[0m in \u001b[0;36mdo_open\u001b[0;34m(self, http_class, req, **http_conn_args)\u001b[0m\n\u001b[1;32m   1319\u001b[0m             \u001b[0;32mexcept\u001b[0m \u001b[0mOSError\u001b[0m \u001b[0;32mas\u001b[0m \u001b[0merr\u001b[0m\u001b[0;34m:\u001b[0m \u001b[0;31m# timeout error\u001b[0m\u001b[0;34m\u001b[0m\u001b[0;34m\u001b[0m\u001b[0m\n\u001b[0;32m-> 1320\u001b[0;31m                 \u001b[0;32mraise\u001b[0m \u001b[0mURLError\u001b[0m\u001b[0;34m(\u001b[0m\u001b[0merr\u001b[0m\u001b[0;34m)\u001b[0m\u001b[0;34m\u001b[0m\u001b[0;34m\u001b[0m\u001b[0m\n\u001b[0m\u001b[1;32m   1321\u001b[0m             \u001b[0mr\u001b[0m \u001b[0;34m=\u001b[0m \u001b[0mh\u001b[0m\u001b[0;34m.\u001b[0m\u001b[0mgetresponse\u001b[0m\u001b[0;34m(\u001b[0m\u001b[0;34m)\u001b[0m\u001b[0;34m\u001b[0m\u001b[0;34m\u001b[0m\u001b[0m\n",
            "\u001b[0;31mURLError\u001b[0m: <urlopen error [Errno 110] Connection timed out>",
            "\nDuring handling of the above exception, another exception occurred:\n",
            "\u001b[0;31mException\u001b[0m                                 Traceback (most recent call last)",
            "\u001b[0;32m<ipython-input-11-6357724f15a0>\u001b[0m in \u001b[0;36m<module>\u001b[0;34m()\u001b[0m\n\u001b[1;32m      1\u001b[0m \u001b[0;32mfrom\u001b[0m \u001b[0mkeras\u001b[0m\u001b[0;34m.\u001b[0m\u001b[0mdatasets\u001b[0m \u001b[0;32mimport\u001b[0m \u001b[0mcifar10\u001b[0m\u001b[0;34m\u001b[0m\u001b[0;34m\u001b[0m\u001b[0m\n\u001b[0;32m----> 2\u001b[0;31m \u001b[0;34m(\u001b[0m\u001b[0mX_train\u001b[0m\u001b[0;34m,\u001b[0m \u001b[0my_train\u001b[0m\u001b[0;34m)\u001b[0m\u001b[0;34m,\u001b[0m \u001b[0;34m(\u001b[0m\u001b[0mX_test\u001b[0m\u001b[0;34m,\u001b[0m \u001b[0my_test\u001b[0m\u001b[0;34m)\u001b[0m \u001b[0;34m=\u001b[0m \u001b[0mcifar10\u001b[0m\u001b[0;34m.\u001b[0m\u001b[0mload_data\u001b[0m\u001b[0;34m(\u001b[0m\u001b[0;34m)\u001b[0m\u001b[0;34m\u001b[0m\u001b[0;34m\u001b[0m\u001b[0m\n\u001b[0m\u001b[1;32m      3\u001b[0m \u001b[0;34m\u001b[0m\u001b[0m\n\u001b[1;32m      4\u001b[0m \u001b[0mX_train\u001b[0m \u001b[0;34m=\u001b[0m \u001b[0mX_train\u001b[0m\u001b[0;34m.\u001b[0m\u001b[0mastype\u001b[0m\u001b[0;34m(\u001b[0m\u001b[0;34m'float32'\u001b[0m\u001b[0;34m)\u001b[0m\u001b[0;34m\u001b[0m\u001b[0;34m\u001b[0m\u001b[0m\n\u001b[1;32m      5\u001b[0m \u001b[0mX_test\u001b[0m \u001b[0;34m=\u001b[0m \u001b[0mX_test\u001b[0m\u001b[0;34m.\u001b[0m\u001b[0mastype\u001b[0m\u001b[0;34m(\u001b[0m\u001b[0;34m'float32'\u001b[0m\u001b[0;34m)\u001b[0m\u001b[0;34m\u001b[0m\u001b[0;34m\u001b[0m\u001b[0m\n",
            "\u001b[0;32m/usr/local/lib/python3.6/dist-packages/keras/datasets/cifar10.py\u001b[0m in \u001b[0;36mload_data\u001b[0;34m()\u001b[0m\n\u001b[1;32m     20\u001b[0m     \u001b[0mdirname\u001b[0m \u001b[0;34m=\u001b[0m \u001b[0;34m'cifar-10-batches-py'\u001b[0m\u001b[0;34m\u001b[0m\u001b[0;34m\u001b[0m\u001b[0m\n\u001b[1;32m     21\u001b[0m     \u001b[0morigin\u001b[0m \u001b[0;34m=\u001b[0m \u001b[0;34m'https://www.cs.toronto.edu/~kriz/cifar-10-python.tar.gz'\u001b[0m\u001b[0;34m\u001b[0m\u001b[0;34m\u001b[0m\u001b[0m\n\u001b[0;32m---> 22\u001b[0;31m     \u001b[0mpath\u001b[0m \u001b[0;34m=\u001b[0m \u001b[0mget_file\u001b[0m\u001b[0;34m(\u001b[0m\u001b[0mdirname\u001b[0m\u001b[0;34m,\u001b[0m \u001b[0morigin\u001b[0m\u001b[0;34m=\u001b[0m\u001b[0morigin\u001b[0m\u001b[0;34m,\u001b[0m \u001b[0muntar\u001b[0m\u001b[0;34m=\u001b[0m\u001b[0;32mTrue\u001b[0m\u001b[0;34m)\u001b[0m\u001b[0;34m\u001b[0m\u001b[0;34m\u001b[0m\u001b[0m\n\u001b[0m\u001b[1;32m     23\u001b[0m \u001b[0;34m\u001b[0m\u001b[0m\n\u001b[1;32m     24\u001b[0m     \u001b[0mnum_train_samples\u001b[0m \u001b[0;34m=\u001b[0m \u001b[0;36m50000\u001b[0m\u001b[0;34m\u001b[0m\u001b[0;34m\u001b[0m\u001b[0m\n",
            "\u001b[0;32m/usr/local/lib/python3.6/dist-packages/keras/utils/data_utils.py\u001b[0m in \u001b[0;36mget_file\u001b[0;34m(fname, origin, untar, md5_hash, file_hash, cache_subdir, hash_algorithm, extract, archive_format, cache_dir)\u001b[0m\n\u001b[1;32m    224\u001b[0m                 \u001b[0;32mraise\u001b[0m \u001b[0mException\u001b[0m\u001b[0;34m(\u001b[0m\u001b[0merror_msg\u001b[0m\u001b[0;34m.\u001b[0m\u001b[0mformat\u001b[0m\u001b[0;34m(\u001b[0m\u001b[0morigin\u001b[0m\u001b[0;34m,\u001b[0m \u001b[0me\u001b[0m\u001b[0;34m.\u001b[0m\u001b[0mcode\u001b[0m\u001b[0;34m,\u001b[0m \u001b[0me\u001b[0m\u001b[0;34m.\u001b[0m\u001b[0mmsg\u001b[0m\u001b[0;34m)\u001b[0m\u001b[0;34m)\u001b[0m\u001b[0;34m\u001b[0m\u001b[0;34m\u001b[0m\u001b[0m\n\u001b[1;32m    225\u001b[0m             \u001b[0;32mexcept\u001b[0m \u001b[0mURLError\u001b[0m \u001b[0;32mas\u001b[0m \u001b[0me\u001b[0m\u001b[0;34m:\u001b[0m\u001b[0;34m\u001b[0m\u001b[0;34m\u001b[0m\u001b[0m\n\u001b[0;32m--> 226\u001b[0;31m                 \u001b[0;32mraise\u001b[0m \u001b[0mException\u001b[0m\u001b[0;34m(\u001b[0m\u001b[0merror_msg\u001b[0m\u001b[0;34m.\u001b[0m\u001b[0mformat\u001b[0m\u001b[0;34m(\u001b[0m\u001b[0morigin\u001b[0m\u001b[0;34m,\u001b[0m \u001b[0me\u001b[0m\u001b[0;34m.\u001b[0m\u001b[0merrno\u001b[0m\u001b[0;34m,\u001b[0m \u001b[0me\u001b[0m\u001b[0;34m.\u001b[0m\u001b[0mreason\u001b[0m\u001b[0;34m)\u001b[0m\u001b[0;34m)\u001b[0m\u001b[0;34m\u001b[0m\u001b[0;34m\u001b[0m\u001b[0m\n\u001b[0m\u001b[1;32m    227\u001b[0m         \u001b[0;32mexcept\u001b[0m \u001b[0;34m(\u001b[0m\u001b[0mException\u001b[0m\u001b[0;34m,\u001b[0m \u001b[0mKeyboardInterrupt\u001b[0m\u001b[0;34m)\u001b[0m\u001b[0;34m:\u001b[0m\u001b[0;34m\u001b[0m\u001b[0;34m\u001b[0m\u001b[0m\n\u001b[1;32m    228\u001b[0m             \u001b[0;32mif\u001b[0m \u001b[0mos\u001b[0m\u001b[0;34m.\u001b[0m\u001b[0mpath\u001b[0m\u001b[0;34m.\u001b[0m\u001b[0mexists\u001b[0m\u001b[0;34m(\u001b[0m\u001b[0mfpath\u001b[0m\u001b[0;34m)\u001b[0m\u001b[0;34m:\u001b[0m\u001b[0;34m\u001b[0m\u001b[0;34m\u001b[0m\u001b[0m\n",
            "\u001b[0;31mException\u001b[0m: URL fetch failure on https://www.cs.toronto.edu/~kriz/cifar-10-python.tar.gz: None -- [Errno 110] Connection timed out"
          ]
        }
      ]
    },
    {
      "metadata": {
        "id": "UhxPNf5DsPg-",
        "colab_type": "text"
      },
      "cell_type": "markdown",
      "source": [
        "In order to best model the classification model, we convert y_test and y_train to one hot representations in the form of a binary matrix."
      ]
    },
    {
      "metadata": {
        "id": "tpY7hoOtsSwv",
        "colab_type": "code",
        "colab": {}
      },
      "cell_type": "code",
      "source": [
        "from keras.utils import np_utils\n",
        "y_train = np_utils.to_categorical(y_train)\n",
        "y_test = np_utils.to_categorical(y_test)"
      ],
      "execution_count": 0,
      "outputs": []
    },
    {
      "metadata": {
        "id": "t9W8bbiNsrFn",
        "colab_type": "text"
      },
      "cell_type": "markdown",
      "source": [
        "The latest Keras functional API allows us to define complex models. In order to create a model, let us first define an input_img tensor for a 32x32 image with 3 channels(RGB)."
      ]
    },
    {
      "metadata": {
        "id": "DDDU7iUJsa-f",
        "colab_type": "code",
        "colab": {}
      },
      "cell_type": "code",
      "source": [
        "from keras.layers import Input\n",
        "input_img = Input(shape = (32, 32, 3))"
      ],
      "execution_count": 0,
      "outputs": []
    },
    {
      "metadata": {
        "id": "Jmm8uqV4sjDR",
        "colab_type": "text"
      },
      "cell_type": "markdown",
      "source": [
        "we feed the input tensor to each of the 1x1, 3x3, 5x5 filters in the inception module\n",
        "\n",
        "The padding is kept same so that the output shape of the Conv2D operation is same as the input shape. So, the final output of each filter of tower_1, tower_2 and tower_3 is same. Thus we can easily concatenate these filters to form the output of our inception module."
      ]
    },
    {
      "metadata": {
        "id": "nBkxJoojskN2",
        "colab_type": "code",
        "colab": {}
      },
      "cell_type": "code",
      "source": [
        "from keras.layers import Conv2D, MaxPooling2D\n",
        "tower_1 = Conv2D(64, (1,1), padding='same', activation='relu')(input_img)\n",
        "tower_1 = Conv2D(64, (3,3), padding='same', activation='relu')(tower_1)\n",
        "tower_2 = Conv2D(64, (1,1), padding='same', activation='relu')(input_img)\n",
        "tower_2 = Conv2D(64, (5,5), padding='same', activation='relu')(tower_2)\n",
        "tower_3 = MaxPooling2D((3,3), strides=(1,1), padding='same')(input_img)\n",
        "tower_3 = Conv2D(64, (1,1), padding='same', activation='relu')(tower_3)\n",
        "\n",
        "output = keras.layers.concatenate([tower_1, tower_2, tower_3], axis = 3)"
      ],
      "execution_count": 0,
      "outputs": []
    },
    {
      "metadata": {
        "id": "sRowmig6tU1d",
        "colab_type": "code",
        "colab": {}
      },
      "cell_type": "code",
      "source": [
        "from keras.layers import Flatten, Dense\n",
        "output = Flatten()(output)\n",
        "out    = Dense(10, activation='softmax')(output)"
      ],
      "execution_count": 0,
      "outputs": []
    },
    {
      "metadata": {
        "id": "O1sv1LgltYK-",
        "colab_type": "code",
        "colab": {}
      },
      "cell_type": "code",
      "source": [
        "from keras.models import Model\n",
        "model = Model(inputs = input_img, outputs = out)\n",
        "# print model.summary()"
      ],
      "execution_count": 0,
      "outputs": []
    },
    {
      "metadata": {
        "id": "EekEZ7TTtb41",
        "colab_type": "code",
        "colab": {}
      },
      "cell_type": "code",
      "source": [
        "from keras.optimizers import SGD\n",
        "epochs = 25\n",
        "lrate = 0.01\n",
        "decay = lrate/epochs\n",
        "sgd = SGD(lr=lrate, momentum=0.9, decay=decay, nesterov=False)\n",
        "model.compile(loss='categorical_crossentropy', optimizer=sgd, metrics=['accuracy'])\n",
        "model.fit(X_train, y_train, validation_data=(X_test, y_test), epochs=epochs, batch_size=32)"
      ],
      "execution_count": 0,
      "outputs": []
    },
    {
      "metadata": {
        "id": "iTTri2Vbtg2-",
        "colab_type": "code",
        "colab": {}
      },
      "cell_type": "code",
      "source": [
        "from keras.models import model_from_json\n",
        "import os\n",
        "model_json = model.to_json()\n",
        "with open(\"model.json\", \"w\") as json_file:\n",
        "    json_file.write(model_json)\n",
        "model.save_weights(os.path.join(os.getcwd(), 'model.h5'))"
      ],
      "execution_count": 0,
      "outputs": []
    },
    {
      "metadata": {
        "id": "rUvM1vkFti3g",
        "colab_type": "code",
        "colab": {}
      },
      "cell_type": "code",
      "source": [
        "scores = model.evaluate(X_test, y_test, verbose=0)\n",
        "print(\"Accuracy: %.2f%%\" % (scores[1]*100))"
      ],
      "execution_count": 0,
      "outputs": []
    },
    {
      "metadata": {
        "id": "El4ng1Y2tmOE",
        "colab_type": "code",
        "colab": {}
      },
      "cell_type": "code",
      "source": [
        ""
      ],
      "execution_count": 0,
      "outputs": []
    }
  ]
}
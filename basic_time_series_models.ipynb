{
  "nbformat": 4,
  "nbformat_minor": 0,
  "metadata": {
    "colab": {
      "name": "basic time series models.ipynb",
      "version": "0.3.2",
      "provenance": [],
      "include_colab_link": true
    },
    "kernelspec": {
      "name": "python3",
      "display_name": "Python 3"
    },
    "accelerator": "GPU"
  },
  "cells": [
    {
      "cell_type": "markdown",
      "metadata": {
        "id": "view-in-github",
        "colab_type": "text"
      },
      "source": [
        "<a href=\"https://colab.research.google.com/github/chlin1/TimeSeries/blob/master/basic_time_series_models.ipynb\" target=\"_parent\"><img src=\"https://colab.research.google.com/assets/colab-badge.svg\" alt=\"Open In Colab\"/></a>"
      ]
    },
    {
      "metadata": {
        "id": "0DE2kS5fpPkN",
        "colab_type": "text"
      },
      "cell_type": "markdown",
      "source": [
        "# Time Series Forecasting\n",
        "  - Data\n",
        "  - Models\n",
        "    - CNN\n",
        "    - LSTM\n",
        "    - CNN+LSTM"
      ]
    },
    {
      "metadata": {
        "id": "afdJHKfXpD-M",
        "colab_type": "code",
        "colab": {}
      },
      "cell_type": "code",
      "source": [
        "from numpy import array\n",
        "from keras.models import Sequential\n",
        "from keras.layers import Dense\n",
        "from keras.layers import Flatten\n",
        "from keras.layers import LSTM\n",
        "from keras.layers import TimeDistributed\n",
        "from keras.layers.convolutional import Conv1D\n",
        "from keras.layers.convolutional import MaxPooling1D\n",
        "from sklearn.preprocessing import LabelEncoder\n",
        "from keras.utils import np_utils\n",
        "import numpy as np\n",
        "import pandas as pd"
      ],
      "execution_count": 0,
      "outputs": []
    },
    {
      "metadata": {
        "id": "-axdGoy4pdaU",
        "colab_type": "text"
      },
      "cell_type": "markdown",
      "source": [
        "## Data"
      ]
    },
    {
      "metadata": {
        "id": "zxUh5UxPpj1D",
        "colab_type": "code",
        "colab": {}
      },
      "cell_type": "code",
      "source": [
        "urlx = 'https://raw.githubusercontent.com/chlin1/TimeSeries/master/data/data_X.csv'\n",
        "urly = 'https://raw.githubusercontent.com/chlin1/TimeSeries/master/data/data_Y.csv'\n",
        "dfx = pd.read_csv(urlx)\n",
        "dfy = pd.read_csv(urly)\n",
        "\n",
        "# input parameters\n",
        "sample = 1000 # number of samples\n",
        "slide = 1 # stride \n",
        "subtimesteps = 25 # for CNN+LSTM\n",
        "num_subtimesteps = 4 # for CNN+LSTM\n",
        "\n",
        "\n",
        "\n",
        "timesteps = num_subtimesteps * subtimesteps # timesteps  \n",
        "\n",
        "\n",
        "# reshape from [samples, timesteps] into [samples, timesteps, features]\n",
        "datax=[]\n",
        "datay=[]\n",
        "\n",
        "for i in range(1,sample):\n",
        "  datax.append(dfx.iloc[i*slide:i*slide + timesteps, 1:].values)\n",
        "  datay.append(dfy.iloc[i*slide + timesteps - 1, 1:].values)\n",
        "  \n",
        "X = array(datax)\n",
        "y = array(datay).flatten()\n",
        "\n",
        "# encode class values as integers\n",
        "encoder = LabelEncoder()\n",
        "encoder.fit(y)\n",
        "encoded_Y = encoder.transform(y)\n",
        "dummy_y = np_utils.to_categorical(encoded_Y)"
      ],
      "execution_count": 0,
      "outputs": []
    },
    {
      "metadata": {
        "id": "aKMC0x3BrQ-j",
        "colab_type": "text"
      },
      "cell_type": "markdown",
      "source": [
        "## Models"
      ]
    },
    {
      "metadata": {
        "id": "qpQZWTRfqo28",
        "colab_type": "code",
        "colab": {}
      },
      "cell_type": "code",
      "source": [
        "def model_CNN(X,Y):\n",
        "  \n",
        "  num_sample, timesteps, num_feature = X.shape\n",
        "  \n",
        "  # define model\n",
        "  model = Sequential()\n",
        "  model.add(Conv1D(filters=64, kernel_size=2, activation='relu', input_shape=(timesteps, num_feature)))\n",
        "  model.add(MaxPooling1D(pool_size=2))\n",
        "  model.add(Flatten())\n",
        "  model.add(Dense(30, activation='relu'))\n",
        "  model.add(Dense(3, activation='softmax'))\n",
        "  model.compile(loss='categorical_crossentropy', optimizer='adam', metrics=['accuracy'])\n",
        "  # fit model\n",
        "  model.fit(X, Y, epochs=1000, verbose=0)\n",
        "  score, acc = model.evaluate(X,Y)\n",
        "\n",
        "  print(acc)"
      ],
      "execution_count": 0,
      "outputs": []
    },
    {
      "metadata": {
        "id": "9qhSmWRJrdaa",
        "colab_type": "code",
        "colab": {}
      },
      "cell_type": "code",
      "source": [
        "def model_LSTM(X,Y):\n",
        "  \n",
        "  num_sample, timesteps, num_feature = X.shape\n",
        "  \n",
        "  # define model\n",
        "  model = Sequential()\n",
        "  model.add(LSTM(50, activation='relu', input_shape=(timesteps, num_feature)))\n",
        "  model.add(Dense(3, activation='softmax'))\n",
        "  model.compile(loss='categorical_crossentropy', optimizer='adam', metrics=['accuracy'])\n",
        "  # fit model\n",
        "  model.fit(X, Y, epochs=1000, verbose=0)\n",
        "  score, acc = model.evaluate(X,Y)\n",
        "\n",
        "  print(acc)"
      ],
      "execution_count": 0,
      "outputs": []
    },
    {
      "metadata": {
        "id": "SYOECFHsxQy2",
        "colab_type": "code",
        "colab": {}
      },
      "cell_type": "code",
      "source": [
        "def mode_CNN_LSTM(X,Y):\n",
        "  \n",
        "  num_sample, timesteps, num_feature = X.shape\n",
        "  \n",
        "  # reshape from [samples, timesteps] into [samples, subsequences, timesteps, features]\n",
        "  X = X.reshape((num_sample, num_subtimesteps , subtimesteps, num_feature))\n",
        "  # define model\n",
        "  model = Sequential()\n",
        "\n",
        "  model.add(TimeDistributed(Conv1D(filters=64, kernel_size=1, activation='relu'), input_shape=(None, subtimesteps, num_feature)))\n",
        "  # input (sample, timesteps, features) output (sample, timesteps, fiters)\n",
        "  # filters: the dimensionality of the output space (i.e. the number of output filters in the convolution)\n",
        "  model.add(TimeDistributed(MaxPooling1D(pool_size=2)))\n",
        "  model.add(TimeDistributed(Flatten()))\n",
        "  model.add(LSTM(50, activation='relu'))\n",
        "  model.add(Dense(3, activation='softmax'))\n",
        "  model.compile(loss='categorical_crossentropy', optimizer='adam', metrics=['accuracy'])\n",
        "\n",
        "  # fit model\n",
        "  model.fit(X, Y, epochs=500, verbose=0)\n",
        "  score, acc = model.evaluate(X,Y)\n",
        "  \n",
        "  print(acc)"
      ],
      "execution_count": 0,
      "outputs": []
    },
    {
      "metadata": {
        "id": "Hg2i4SJErDyb",
        "colab_type": "code",
        "outputId": "fd51a740-47c0-451f-ca7d-c3d6d64a197b",
        "colab": {
          "base_uri": "https://localhost:8080/",
          "height": 51
        }
      },
      "cell_type": "code",
      "source": [
        "model_CNN(X,dummy_y)"
      ],
      "execution_count": 27,
      "outputs": [
        {
          "output_type": "stream",
          "text": [
            "999/999 [==============================] - 0s 335us/step\n",
            "0.6216216216216216\n"
          ],
          "name": "stdout"
        }
      ]
    },
    {
      "metadata": {
        "id": "PBrv0oFZrtm0",
        "colab_type": "code",
        "outputId": "e1a42dfa-d74b-4f89-9c7e-2c8276909ba2",
        "colab": {
          "base_uri": "https://localhost:8080/",
          "height": 51
        }
      },
      "cell_type": "code",
      "source": [
        "model_LSTM(X,dummy_y)"
      ],
      "execution_count": 28,
      "outputs": [
        {
          "output_type": "stream",
          "text": [
            "999/999 [==============================] - 3s 3ms/step\n",
            "0.24324324324324326\n"
          ],
          "name": "stdout"
        }
      ]
    },
    {
      "metadata": {
        "id": "5dtMDBxTzaaF",
        "colab_type": "code",
        "outputId": "fb10cc8b-d583-4778-b47d-484107ea584f",
        "colab": {
          "base_uri": "https://localhost:8080/",
          "height": 51
        }
      },
      "cell_type": "code",
      "source": [
        "mode_CNN_LSTM(X,dummy_y)"
      ],
      "execution_count": 29,
      "outputs": [
        {
          "output_type": "stream",
          "text": [
            "999/999 [==============================] - 1s 625us/step\n",
            "0.6196196196196196\n"
          ],
          "name": "stdout"
        }
      ]
    },
    {
      "metadata": {
        "id": "pKixNGzipOgl",
        "colab_type": "text"
      },
      "cell_type": "markdown",
      "source": [
        ""
      ]
    }
  ]
}
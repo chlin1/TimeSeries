{
  "nbformat": 4,
  "nbformat_minor": 0,
  "metadata": {
    "colab": {
      "name": "inception model.ipynb",
      "version": "0.3.2",
      "provenance": [],
      "include_colab_link": true
    },
    "kernelspec": {
      "name": "python3",
      "display_name": "Python 3"
    }
  },
  "cells": [
    {
      "cell_type": "markdown",
      "metadata": {
        "id": "view-in-github",
        "colab_type": "text"
      },
      "source": [
        "<a href=\"https://colab.research.google.com/github/chlin1/TimeSeries/blob/master/inception_model.ipynb\" target=\"_parent\"><img src=\"https://colab.research.google.com/assets/colab-badge.svg\" alt=\"Open In Colab\"/></a>"
      ]
    },
    {
      "metadata": {
        "id": "xnetC2IFqwKA",
        "colab_type": "code",
        "colab": {}
      },
      "cell_type": "code",
      "source": [
        "from numpy import array\n",
        "import keras\n",
        "from keras.models import Sequential\n",
        "from keras.layers import Dense\n",
        "from keras.layers import Flatten\n",
        "from keras.layers import LSTM\n",
        "from keras.layers import TimeDistributed\n",
        "from keras.layers.convolutional import Conv1D\n",
        "from keras.layers.convolutional import MaxPooling1D\n",
        "from sklearn.preprocessing import LabelEncoder\n",
        "from keras.utils import np_utils\n",
        "import numpy as np\n",
        "import pandas as pd\n",
        "from sklearn.preprocessing import MinMaxScaler\n",
        "from sklearn.metrics import mean_squared_error\n",
        "from keras.layers import LeakyReLU\n",
        "\n",
        "from keras.models import Model\n",
        "from keras.layers import Input, Dense\n",
        "from keras.models import Model\n",
        "from keras.layers import Conv2D, MaxPool2D,  \\\n",
        "    Dropout, Dense, Input, concatenate,      \\\n",
        "    GlobalAveragePooling2D, AveragePooling2D,\\\n",
        "    Flatten"
      ],
      "execution_count": 0,
      "outputs": []
    },
    {
      "metadata": {
        "id": "EZCljp_Mq3l-",
        "colab_type": "text"
      },
      "cell_type": "markdown",
      "source": [
        "# Data"
      ]
    },
    {
      "metadata": {
        "id": "ZlrS58E0q2af",
        "colab_type": "code",
        "colab": {
          "base_uri": "https://localhost:8080/",
          "height": 74
        },
        "outputId": "5b60948d-de25-48ce-a6ac-21f6daec1b86"
      },
      "cell_type": "code",
      "source": [
        "urlx = 'https://raw.githubusercontent.com/chlin1/TimeSeries/master/data/data_X.csv'\n",
        "urly = 'https://raw.githubusercontent.com/chlin1/TimeSeries/master/data/data_Y.csv'\n",
        "dfx = pd.read_csv(urlx)\n",
        "dfy = pd.read_csv(urly)\n",
        "\n",
        "scaler = MinMaxScaler(feature_range=(0, 1))\n",
        "dfx = scaler.fit_transform(dfx)\n",
        "\n",
        "\n",
        "# input parameters\n",
        "sample = 2000 # number of samples\n",
        "slide = 1 # stride \n",
        "subtimesteps = 25 # for CNN+LSTM\n",
        "num_subtimesteps = 4 # for CNN+LSTM\n",
        "ratio = 0.8 # train samples/test samples\n",
        "\n",
        "\n",
        "\n",
        "timesteps = num_subtimesteps * subtimesteps # timesteps  \n",
        "\n",
        "\n",
        "# reshape from [samples, timesteps] into [samples, timesteps, features]\n",
        "datax=[]\n",
        "datay=[]\n",
        "\n",
        "for i in range(1,sample):\n",
        "  #datax.append(dfx.iloc[i*slide:i*slide + timesteps, 1:].values)\n",
        "  datax.append(dfx[i*slide:i*slide + timesteps, 1:])\n",
        "  datay.append(dfy.iloc[i*slide + timesteps - 1, 1:].values)\n",
        "  \n",
        "X = array(datax)\n",
        "y = array(datay).flatten()\n",
        "\n",
        "# encode class values as integers\n",
        "encoder = LabelEncoder()\n",
        "encoder.fit(y)\n",
        "encoded_Y = encoder.transform(y)\n",
        "dummy_y = np_utils.to_categorical(encoded_Y)\n",
        "X_train0, X_test0 = X[:int(sample*ratio)], X[int(sample*ratio):]\n",
        "y_train, y_test = dummy_y[:int(sample*ratio)], dummy_y[int(sample*ratio):]"
      ],
      "execution_count": 78,
      "outputs": [
        {
          "output_type": "stream",
          "text": [
            "/usr/local/lib/python3.6/dist-packages/sklearn/preprocessing/data.py:334: DataConversionWarning: Data with input dtype int64, float64 were all converted to float64 by MinMaxScaler.\n",
            "  return self.partial_fit(X, y)\n"
          ],
          "name": "stderr"
        }
      ]
    },
    {
      "metadata": {
        "id": "izxWZiKVrd4N",
        "colab_type": "code",
        "colab": {
          "base_uri": "https://localhost:8080/",
          "height": 72
        },
        "outputId": "0af94c0f-83d3-47bc-9a1f-47c857f4c42f"
      },
      "cell_type": "code",
      "source": [
        "print(X_train0.shape,X_test0.shape)\n",
        "print(y_train.shape,y_test.shape)\n",
        "X_train0.shape[1]"
      ],
      "execution_count": 79,
      "outputs": [
        {
          "output_type": "stream",
          "text": [
            "(1600, 100, 40) (399, 100, 40)\n",
            "(1600, 3) (399, 3)\n"
          ],
          "name": "stdout"
        },
        {
          "output_type": "execute_result",
          "data": {
            "text/plain": [
              "100"
            ]
          },
          "metadata": {
            "tags": []
          },
          "execution_count": 79
        }
      ]
    },
    {
      "metadata": {
        "id": "nWu3GNsKwgft",
        "colab_type": "code",
        "colab": {}
      },
      "cell_type": "code",
      "source": [
        "X_train=np.reshape(X_train0, (*X_train0.shape,1))\n",
        "X_test=np.reshape(X_test0, (*X_test0.shape,1))\n"
      ],
      "execution_count": 0,
      "outputs": []
    },
    {
      "metadata": {
        "id": "x3NrVi_YxbkU",
        "colab_type": "code",
        "colab": {
          "base_uri": "https://localhost:8080/",
          "height": 54
        },
        "outputId": "951a9e0e-d5c0-4627-c547-be6a3f14859c"
      },
      "cell_type": "code",
      "source": [
        "print(X_train1.shape,X_test1.shape)\n",
        "print(y_train.shape,y_test.shape)"
      ],
      "execution_count": 81,
      "outputs": [
        {
          "output_type": "stream",
          "text": [
            "(800, 100, 40, 1) (199, 100, 40, 1)\n",
            "(1600, 3) (399, 3)\n"
          ],
          "name": "stdout"
        }
      ]
    },
    {
      "metadata": {
        "id": "p6z90PZYq5PW",
        "colab_type": "text"
      },
      "cell_type": "markdown",
      "source": [
        "# Model"
      ]
    },
    {
      "metadata": {
        "id": "oZx3dovoq9Mm",
        "colab_type": "code",
        "colab": {}
      },
      "cell_type": "code",
      "source": [
        "def inception_module(x,\n",
        "                     filters_1x1,\n",
        "                     filters_3x3_reduce,\n",
        "                     filters_3x3,\n",
        "                     filters_5x5_reduce,\n",
        "                     filters_5x5,\n",
        "                     filters_pool_proj,\n",
        "                     name=None):\n",
        "    \n",
        "    conv_1x1 = Conv2D(filters_1x1, (1, 1), padding='same', activation='relu', kernel_initializer=kernel_init, bias_initializer=bias_init)(x)\n",
        "    \n",
        "    conv_3x3 = Conv2D(filters_3x3_reduce, (1, 1), padding='same', activation='relu', kernel_initializer=kernel_init, bias_initializer=bias_init)(x)\n",
        "    conv_3x3 = Conv2D(filters_3x3, (3, 3), padding='same', activation='relu', kernel_initializer=kernel_init, bias_initializer=bias_init)(conv_3x3)\n",
        "\n",
        "    conv_5x5 = Conv2D(filters_5x5_reduce, (1, 1), padding='same', activation='relu', kernel_initializer=kernel_init, bias_initializer=bias_init)(x)\n",
        "    conv_5x5 = Conv2D(filters_5x5, (5, 5), padding='same', activation='relu', kernel_initializer=kernel_init, bias_initializer=bias_init)(conv_5x5)\n",
        "\n",
        "    pool_proj = MaxPool2D((3, 3), strides=(1, 1), padding='same')(x)\n",
        "    pool_proj = Conv2D(filters_pool_proj, (1, 1), padding='same', activation='relu', kernel_initializer=kernel_init, bias_initializer=bias_init)(pool_proj)\n",
        "\n",
        "    output = concatenate([conv_1x1, conv_3x3, conv_5x5, pool_proj], axis=3, name=name)\n",
        "    \n",
        "    return output"
      ],
      "execution_count": 0,
      "outputs": []
    },
    {
      "metadata": {
        "id": "N-k3rn5FrAW9",
        "colab_type": "code",
        "colab": {}
      },
      "cell_type": "code",
      "source": [
        "kernel_init = keras.initializers.glorot_uniform()\n",
        "bias_init = keras.initializers.Constant(value=0.2)\n"
      ],
      "execution_count": 0,
      "outputs": []
    },
    {
      "metadata": {
        "id": "-CIvUq5urCOu",
        "colab_type": "code",
        "colab": {
          "base_uri": "https://localhost:8080/",
          "height": 92
        },
        "outputId": "24f1e68c-bca0-4a35-c27d-b9f3ddc7ef79"
      },
      "cell_type": "code",
      "source": [
        "timesteps, num_feature = X_train.shape[1], X_train.shape[2]\n",
        "input_layer = Input(shape=(timesteps, num_feature, 1))\n",
        "\n",
        "x = Conv2D(filters =16, kernel_size = (4, num_feature))(input_layer)\n",
        "x = LeakyReLU(alpha=.01)(x) \n",
        "x = Conv2D(filters =16, kernel_size = (1, 1))(x)\n",
        "x = LeakyReLU(alpha=.01)(x)\n",
        "x = Conv2D(filters =16, kernel_size = (4, 1))(x)\n",
        "x = LeakyReLU(alpha=.01)(x)\n",
        "x = inception_module(x,\n",
        "                     filters_1x1=64,\n",
        "                     filters_3x3_reduce=96,\n",
        "                     filters_3x3=128,\n",
        "                     filters_5x5_reduce=16,\n",
        "                     filters_5x5=32,\n",
        "                     filters_pool_proj=32)\n",
        "x = TimeDistributed(Flatten())(x)\n",
        "x = LSTM(64, activation='relu')(x)\n",
        "x = Dropout(0.4)(x)\n",
        "x = Dense(3, activation='softmax', name='output')(x)"
      ],
      "execution_count": 84,
      "outputs": [
        {
          "output_type": "stream",
          "text": [
            "WARNING:tensorflow:From /usr/local/lib/python3.6/dist-packages/keras/backend/tensorflow_backend.py:3445: calling dropout (from tensorflow.python.ops.nn_ops) with keep_prob is deprecated and will be removed in a future version.\n",
            "Instructions for updating:\n",
            "Please use `rate` instead of `keep_prob`. Rate should be set to `rate = 1 - keep_prob`.\n"
          ],
          "name": "stdout"
        }
      ]
    },
    {
      "metadata": {
        "id": "fIaiwC40rEC-",
        "colab_type": "code",
        "colab": {}
      },
      "cell_type": "code",
      "source": [
        "model = Model(input_layer, x)\n",
        "model.compile(loss=['categorical_crossentropy'], loss_weights=[1], optimizer='adam', metrics=['accuracy'])"
      ],
      "execution_count": 0,
      "outputs": []
    },
    {
      "metadata": {
        "id": "VfbHEHv59fUZ",
        "colab_type": "code",
        "colab": {
          "base_uri": "https://localhost:8080/",
          "height": 3690
        },
        "outputId": "ef8b87e1-e633-4558-9806-faa830f7ab30"
      },
      "cell_type": "code",
      "source": [
        "# fit model\n",
        "epochs = 100  \n",
        "model.fit(X_train, y_train, validation_data=(X_test, y_test), epochs=epochs, batch_size=50)"
      ],
      "execution_count": 86,
      "outputs": [
        {
          "output_type": "stream",
          "text": [
            "Train on 1600 samples, validate on 399 samples\n",
            "Epoch 1/100\n",
            "1600/1600 [==============================] - 11s 7ms/step - loss: 0.8929 - acc: 0.6631 - val_loss: 1.2175 - val_acc: 0.3960\n",
            "Epoch 2/100\n",
            "1600/1600 [==============================] - 8s 5ms/step - loss: 0.8243 - acc: 0.6844 - val_loss: 1.2382 - val_acc: 0.3960\n",
            "Epoch 3/100\n",
            "1600/1600 [==============================] - 8s 5ms/step - loss: 0.7960 - acc: 0.6837 - val_loss: 1.1606 - val_acc: 0.3960\n",
            "Epoch 4/100\n",
            "1600/1600 [==============================] - 8s 5ms/step - loss: 0.7776 - acc: 0.6888 - val_loss: 1.1298 - val_acc: 0.2581\n",
            "Epoch 5/100\n",
            "1600/1600 [==============================] - 8s 5ms/step - loss: 0.7563 - acc: 0.6806 - val_loss: 1.1781 - val_acc: 0.2581\n",
            "Epoch 6/100\n",
            "1600/1600 [==============================] - 9s 5ms/step - loss: 0.7440 - acc: 0.6913 - val_loss: 1.2711 - val_acc: 0.2732\n",
            "Epoch 7/100\n",
            "1600/1600 [==============================] - 8s 5ms/step - loss: 0.7366 - acc: 0.6994 - val_loss: 1.3262 - val_acc: 0.2732\n",
            "Epoch 8/100\n",
            "1600/1600 [==============================] - 8s 5ms/step - loss: 0.7260 - acc: 0.7131 - val_loss: 1.5169 - val_acc: 0.2581\n",
            "Epoch 9/100\n",
            "1600/1600 [==============================] - 8s 5ms/step - loss: 0.7061 - acc: 0.7231 - val_loss: 1.6989 - val_acc: 0.2481\n",
            "Epoch 10/100\n",
            "1600/1600 [==============================] - 8s 5ms/step - loss: 0.6900 - acc: 0.7469 - val_loss: 1.7057 - val_acc: 0.2431\n",
            "Epoch 11/100\n",
            "1600/1600 [==============================] - 8s 5ms/step - loss: 0.6784 - acc: 0.7456 - val_loss: 1.7545 - val_acc: 0.2556\n",
            "Epoch 12/100\n",
            "1600/1600 [==============================] - 9s 5ms/step - loss: 0.6309 - acc: 0.7662 - val_loss: 1.8369 - val_acc: 0.2356\n",
            "Epoch 13/100\n",
            "1600/1600 [==============================] - 9s 5ms/step - loss: 0.6331 - acc: 0.7669 - val_loss: 2.3796 - val_acc: 0.2406\n",
            "Epoch 14/100\n",
            "1600/1600 [==============================] - 8s 5ms/step - loss: 0.6368 - acc: 0.7662 - val_loss: 2.4216 - val_acc: 0.2406\n",
            "Epoch 15/100\n",
            "1600/1600 [==============================] - 8s 5ms/step - loss: 0.8065 - acc: 0.7125 - val_loss: 1.3613 - val_acc: 0.2556\n",
            "Epoch 16/100\n",
            "1600/1600 [==============================] - 8s 5ms/step - loss: 0.8087 - acc: 0.6831 - val_loss: 1.2823 - val_acc: 0.3960\n",
            "Epoch 17/100\n",
            "1600/1600 [==============================] - 8s 5ms/step - loss: 0.7659 - acc: 0.6894 - val_loss: 1.3610 - val_acc: 0.3734\n",
            "Epoch 18/100\n",
            "1600/1600 [==============================] - 8s 5ms/step - loss: 0.7707 - acc: 0.7181 - val_loss: 1.2656 - val_acc: 0.3910\n",
            "Epoch 19/100\n",
            "1600/1600 [==============================] - 8s 5ms/step - loss: 0.7315 - acc: 0.7250 - val_loss: 1.4105 - val_acc: 0.2581\n",
            "Epoch 20/100\n",
            "1600/1600 [==============================] - 8s 5ms/step - loss: 0.6801 - acc: 0.7369 - val_loss: 1.8055 - val_acc: 0.2381\n",
            "Epoch 21/100\n",
            "1600/1600 [==============================] - 8s 5ms/step - loss: 0.6999 - acc: 0.7344 - val_loss: 1.6571 - val_acc: 0.2481\n",
            "Epoch 22/100\n",
            "1600/1600 [==============================] - 8s 5ms/step - loss: 0.6484 - acc: 0.7594 - val_loss: 2.4027 - val_acc: 0.2481\n",
            "Epoch 23/100\n",
            "1600/1600 [==============================] - 9s 5ms/step - loss: 0.6368 - acc: 0.7606 - val_loss: 2.2644 - val_acc: 0.2506\n",
            "Epoch 24/100\n",
            "1600/1600 [==============================] - 9s 5ms/step - loss: 0.6138 - acc: 0.7769 - val_loss: 3.3827 - val_acc: 0.2531\n",
            "Epoch 25/100\n",
            "1600/1600 [==============================] - 9s 5ms/step - loss: 4.1598 - acc: 0.6788 - val_loss: 9.6894 - val_acc: 0.3810\n",
            "Epoch 26/100\n",
            "1600/1600 [==============================] - 9s 5ms/step - loss: 5.6875 - acc: 0.6456 - val_loss: 9.7759 - val_acc: 0.3935\n",
            "Epoch 27/100\n",
            "1600/1600 [==============================] - 8s 5ms/step - loss: 5.5259 - acc: 0.6550 - val_loss: 9.7355 - val_acc: 0.3960\n",
            "Epoch 28/100\n",
            "1600/1600 [==============================] - 8s 5ms/step - loss: 5.2417 - acc: 0.6731 - val_loss: 9.7355 - val_acc: 0.3960\n",
            "Epoch 29/100\n",
            "1600/1600 [==============================] - 9s 5ms/step - loss: 5.0991 - acc: 0.6831 - val_loss: 9.7355 - val_acc: 0.3960\n",
            "Epoch 30/100\n",
            "1600/1600 [==============================] - 9s 5ms/step - loss: 5.1178 - acc: 0.6819 - val_loss: 9.7355 - val_acc: 0.3960\n",
            "Epoch 31/100\n",
            "1600/1600 [==============================] - 8s 5ms/step - loss: 5.0988 - acc: 0.6831 - val_loss: 9.7355 - val_acc: 0.3960\n",
            "Epoch 32/100\n",
            "1600/1600 [==============================] - 8s 5ms/step - loss: 5.1438 - acc: 0.6800 - val_loss: 9.7355 - val_acc: 0.3960\n",
            "Epoch 33/100\n",
            "1600/1600 [==============================] - 8s 5ms/step - loss: 5.1364 - acc: 0.6813 - val_loss: 9.7355 - val_acc: 0.3960\n",
            "Epoch 34/100\n",
            "1600/1600 [==============================] - 8s 5ms/step - loss: 5.1176 - acc: 0.6825 - val_loss: 9.7355 - val_acc: 0.3960\n",
            "Epoch 35/100\n",
            "1600/1600 [==============================] - 8s 5ms/step - loss: 5.1401 - acc: 0.6806 - val_loss: 9.7355 - val_acc: 0.3960\n",
            "Epoch 36/100\n",
            "1600/1600 [==============================] - 9s 5ms/step - loss: 5.1578 - acc: 0.6800 - val_loss: 9.7355 - val_acc: 0.3960\n",
            "Epoch 37/100\n",
            "1600/1600 [==============================] - 8s 5ms/step - loss: 5.1065 - acc: 0.6831 - val_loss: 9.7355 - val_acc: 0.3960\n",
            "Epoch 38/100\n",
            "1600/1600 [==============================] - 8s 5ms/step - loss: 5.1175 - acc: 0.6825 - val_loss: 9.7355 - val_acc: 0.3960\n",
            "Epoch 39/100\n",
            "1600/1600 [==============================] - 8s 5ms/step - loss: 5.0879 - acc: 0.6838 - val_loss: 9.7355 - val_acc: 0.3960\n",
            "Epoch 40/100\n",
            "1600/1600 [==============================] - 8s 5ms/step - loss: 5.1648 - acc: 0.6788 - val_loss: 9.7355 - val_acc: 0.3960\n",
            "Epoch 41/100\n",
            "1600/1600 [==============================] - 8s 5ms/step - loss: 5.1097 - acc: 0.6825 - val_loss: 9.7355 - val_acc: 0.3960\n",
            "Epoch 42/100\n",
            "1600/1600 [==============================] - 8s 5ms/step - loss: 5.1345 - acc: 0.6800 - val_loss: 9.7355 - val_acc: 0.3960\n",
            "Epoch 43/100\n",
            "1600/1600 [==============================] - 9s 5ms/step - loss: 5.1292 - acc: 0.6806 - val_loss: 9.7355 - val_acc: 0.3960\n",
            "Epoch 44/100\n",
            "1600/1600 [==============================] - 8s 5ms/step - loss: 5.1074 - acc: 0.6831 - val_loss: 9.7355 - val_acc: 0.3960\n",
            "Epoch 45/100\n",
            "1600/1600 [==============================] - 8s 5ms/step - loss: 5.1203 - acc: 0.6819 - val_loss: 9.7355 - val_acc: 0.3960\n",
            "Epoch 46/100\n",
            "1600/1600 [==============================] - 8s 5ms/step - loss: 5.1584 - acc: 0.6794 - val_loss: 9.7355 - val_acc: 0.3960\n",
            "Epoch 47/100\n",
            "1600/1600 [==============================] - 8s 5ms/step - loss: 5.1981 - acc: 0.6775 - val_loss: 9.7355 - val_acc: 0.3960\n",
            "Epoch 48/100\n",
            "1600/1600 [==============================] - 8s 5ms/step - loss: 5.0873 - acc: 0.6844 - val_loss: 9.7355 - val_acc: 0.3960\n",
            "Epoch 49/100\n",
            "1600/1600 [==============================] - 8s 5ms/step - loss: 5.0793 - acc: 0.6844 - val_loss: 9.7355 - val_acc: 0.3960\n",
            "Epoch 50/100\n",
            "1600/1600 [==============================] - 9s 5ms/step - loss: 5.1477 - acc: 0.6806 - val_loss: 9.7355 - val_acc: 0.3960\n",
            "Epoch 51/100\n",
            "1600/1600 [==============================] - 9s 5ms/step - loss: 5.1477 - acc: 0.6806 - val_loss: 9.7355 - val_acc: 0.3960\n",
            "Epoch 52/100\n",
            "1600/1600 [==============================] - 9s 5ms/step - loss: 5.1464 - acc: 0.6794 - val_loss: 9.7355 - val_acc: 0.3960\n",
            "Epoch 53/100\n",
            "1600/1600 [==============================] - 9s 5ms/step - loss: 5.1058 - acc: 0.6819 - val_loss: 9.7355 - val_acc: 0.3960\n",
            "Epoch 54/100\n",
            "1600/1600 [==============================] - 9s 5ms/step - loss: 5.1365 - acc: 0.6806 - val_loss: 9.7355 - val_acc: 0.3960\n",
            "Epoch 55/100\n",
            "1600/1600 [==============================] - 8s 5ms/step - loss: 5.1041 - acc: 0.6819 - val_loss: 9.7355 - val_acc: 0.3960\n",
            "Epoch 56/100\n",
            "1600/1600 [==============================] - 8s 5ms/step - loss: 5.1198 - acc: 0.6819 - val_loss: 9.7355 - val_acc: 0.3960\n",
            "Epoch 57/100\n",
            "1600/1600 [==============================] - 8s 5ms/step - loss: 5.1832 - acc: 0.6781 - val_loss: 9.7355 - val_acc: 0.3960\n",
            "Epoch 58/100\n",
            "1600/1600 [==============================] - 8s 5ms/step - loss: 5.1611 - acc: 0.6794 - val_loss: 9.7355 - val_acc: 0.3960\n",
            "Epoch 59/100\n",
            "1600/1600 [==============================] - 8s 5ms/step - loss: 5.1086 - acc: 0.6819 - val_loss: 9.7355 - val_acc: 0.3960\n",
            "Epoch 60/100\n",
            "1600/1600 [==============================] - 9s 5ms/step - loss: 5.1182 - acc: 0.6812 - val_loss: 9.7355 - val_acc: 0.3960\n",
            "Epoch 61/100\n",
            "1600/1600 [==============================] - 8s 5ms/step - loss: 5.0973 - acc: 0.6838 - val_loss: 9.7355 - val_acc: 0.3960\n",
            "Epoch 62/100\n",
            "1600/1600 [==============================] - 9s 6ms/step - loss: 5.1375 - acc: 0.6813 - val_loss: 9.7355 - val_acc: 0.3960\n",
            "Epoch 63/100\n",
            "1600/1600 [==============================] - 9s 5ms/step - loss: 5.1376 - acc: 0.6813 - val_loss: 9.7355 - val_acc: 0.3960\n",
            "Epoch 64/100\n",
            "1600/1600 [==============================] - 9s 5ms/step - loss: 5.1058 - acc: 0.6831 - val_loss: 9.7355 - val_acc: 0.3960\n",
            "Epoch 65/100\n",
            "1600/1600 [==============================] - 9s 5ms/step - loss: 5.1376 - acc: 0.6813 - val_loss: 9.7355 - val_acc: 0.3960\n",
            "Epoch 66/100\n",
            "1600/1600 [==============================] - 9s 5ms/step - loss: 5.1686 - acc: 0.6788 - val_loss: 9.7355 - val_acc: 0.3960\n",
            "Epoch 67/100\n",
            "1600/1600 [==============================] - 8s 5ms/step - loss: 5.1289 - acc: 0.6813 - val_loss: 9.7355 - val_acc: 0.3960\n",
            "Epoch 68/100\n",
            "1600/1600 [==============================] - 8s 5ms/step - loss: 5.1282 - acc: 0.6819 - val_loss: 9.7355 - val_acc: 0.3960\n",
            "Epoch 69/100\n",
            "1600/1600 [==============================] - 8s 5ms/step - loss: 5.1092 - acc: 0.6825 - val_loss: 9.7355 - val_acc: 0.3960\n",
            "Epoch 70/100\n",
            "1600/1600 [==============================] - 8s 5ms/step - loss: 5.1305 - acc: 0.6813 - val_loss: 9.7355 - val_acc: 0.3960\n",
            "Epoch 71/100\n",
            "1600/1600 [==============================] - 9s 5ms/step - loss: 5.0802 - acc: 0.6844 - val_loss: 9.7355 - val_acc: 0.3960\n",
            "Epoch 72/100\n",
            "1600/1600 [==============================] - 9s 5ms/step - loss: 5.1535 - acc: 0.6794 - val_loss: 9.7355 - val_acc: 0.3960\n",
            "Epoch 73/100\n",
            "1600/1600 [==============================] - 8s 5ms/step - loss: 5.0975 - acc: 0.6838 - val_loss: 9.7355 - val_acc: 0.3960\n",
            "Epoch 74/100\n",
            "1600/1600 [==============================] - 8s 5ms/step - loss: 5.1218 - acc: 0.6819 - val_loss: 9.7355 - val_acc: 0.3960\n",
            "Epoch 75/100\n",
            "1600/1600 [==============================] - 9s 5ms/step - loss: 5.1074 - acc: 0.6831 - val_loss: 9.7355 - val_acc: 0.3960\n",
            "Epoch 76/100\n",
            "1600/1600 [==============================] - 8s 5ms/step - loss: 5.0961 - acc: 0.6831 - val_loss: 9.7355 - val_acc: 0.3960\n",
            "Epoch 77/100\n",
            "1600/1600 [==============================] - 9s 5ms/step - loss: 5.1634 - acc: 0.6794 - val_loss: 9.7355 - val_acc: 0.3960\n",
            "Epoch 78/100\n",
            "1600/1600 [==============================] - 9s 5ms/step - loss: 5.0974 - acc: 0.6838 - val_loss: 9.7355 - val_acc: 0.3960\n",
            "Epoch 79/100\n",
            "1600/1600 [==============================] - 8s 5ms/step - loss: 5.0707 - acc: 0.6850 - val_loss: 9.7355 - val_acc: 0.3960\n",
            "Epoch 80/100\n",
            "1600/1600 [==============================] - 9s 5ms/step - loss: 5.1240 - acc: 0.6819 - val_loss: 9.7355 - val_acc: 0.3960\n",
            "Epoch 81/100\n",
            "1600/1600 [==============================] - 9s 5ms/step - loss: 5.0997 - acc: 0.6831 - val_loss: 9.7355 - val_acc: 0.3960\n",
            "Epoch 82/100\n",
            "1600/1600 [==============================] - 8s 5ms/step - loss: 5.1078 - acc: 0.6831 - val_loss: 9.7355 - val_acc: 0.3960\n",
            "Epoch 83/100\n",
            "1600/1600 [==============================] - 9s 5ms/step - loss: 5.1302 - acc: 0.6813 - val_loss: 9.7355 - val_acc: 0.3960\n",
            "Epoch 84/100\n",
            "1600/1600 [==============================] - 9s 5ms/step - loss: 5.1276 - acc: 0.6819 - val_loss: 9.7355 - val_acc: 0.3960\n",
            "Epoch 85/100\n",
            "1600/1600 [==============================] - 9s 5ms/step - loss: 5.0788 - acc: 0.6844 - val_loss: 9.7355 - val_acc: 0.3960\n",
            "Epoch 86/100\n",
            "1600/1600 [==============================] - 9s 5ms/step - loss: 5.1787 - acc: 0.6788 - val_loss: 9.7355 - val_acc: 0.3960\n",
            "Epoch 87/100\n",
            "1600/1600 [==============================] - 9s 5ms/step - loss: 5.1276 - acc: 0.6819 - val_loss: 9.7355 - val_acc: 0.3960\n",
            "Epoch 88/100\n",
            "1600/1600 [==============================] - 8s 5ms/step - loss: 5.1578 - acc: 0.6800 - val_loss: 9.7355 - val_acc: 0.3960\n",
            "Epoch 89/100\n",
            "1600/1600 [==============================] - 9s 5ms/step - loss: 5.0974 - acc: 0.6838 - val_loss: 9.7355 - val_acc: 0.3960\n",
            "Epoch 90/100\n",
            "1600/1600 [==============================] - 9s 5ms/step - loss: 5.1020 - acc: 0.6831 - val_loss: 9.7355 - val_acc: 0.3960\n",
            "Epoch 91/100\n",
            "1600/1600 [==============================] - 8s 5ms/step - loss: 5.1401 - acc: 0.6806 - val_loss: 9.7355 - val_acc: 0.3960\n",
            "Epoch 92/100\n",
            "1600/1600 [==============================] - 8s 5ms/step - loss: 5.0966 - acc: 0.6838 - val_loss: 9.7355 - val_acc: 0.3960\n",
            "Epoch 93/100\n",
            "1600/1600 [==============================] - 9s 5ms/step - loss: 5.1676 - acc: 0.6794 - val_loss: 9.7355 - val_acc: 0.3960\n",
            "Epoch 94/100\n",
            "1600/1600 [==============================] - 8s 5ms/step - loss: 5.1175 - acc: 0.6825 - val_loss: 9.7355 - val_acc: 0.3960\n",
            "Epoch 95/100\n",
            "1600/1600 [==============================] - 9s 5ms/step - loss: 5.1169 - acc: 0.6819 - val_loss: 9.7355 - val_acc: 0.3960\n",
            "Epoch 96/100\n",
            "1600/1600 [==============================] - 9s 5ms/step - loss: 5.1175 - acc: 0.6825 - val_loss: 9.7355 - val_acc: 0.3960\n",
            "Epoch 97/100\n",
            "1600/1600 [==============================] - 9s 5ms/step - loss: 5.1452 - acc: 0.6806 - val_loss: 9.7355 - val_acc: 0.3960\n",
            "Epoch 98/100\n",
            "1600/1600 [==============================] - 9s 5ms/step - loss: 5.1846 - acc: 0.6781 - val_loss: 9.7355 - val_acc: 0.3960\n",
            "Epoch 99/100\n",
            "1600/1600 [==============================] - 9s 5ms/step - loss: 5.0873 - acc: 0.6844 - val_loss: 9.7355 - val_acc: 0.3960\n",
            "Epoch 100/100\n",
            "1600/1600 [==============================] - 9s 5ms/step - loss: 5.1746 - acc: 0.6781 - val_loss: 9.7355 - val_acc: 0.3960\n"
          ],
          "name": "stdout"
        },
        {
          "output_type": "execute_result",
          "data": {
            "text/plain": [
              "<keras.callbacks.History at 0x7fe459df8a58>"
            ]
          },
          "metadata": {
            "tags": []
          },
          "execution_count": 86
        }
      ]
    },
    {
      "metadata": {
        "id": "JTUbtcUBrFzm",
        "colab_type": "code",
        "colab": {
          "base_uri": "https://localhost:8080/",
          "height": 3690
        },
        "outputId": "2e0add13-aaed-4201-e5c6-c450842d0850"
      },
      "cell_type": "code",
      "source": [
        "# fit model\n",
        "epochs = 100  \n",
        "model.fit(X_train, y_train, validation_data=(X_test, y_test), epochs=epochs, batch_size=50)\n",
        "  "
      ],
      "execution_count": 76,
      "outputs": [
        {
          "output_type": "stream",
          "text": [
            "Train on 1600 samples, validate on 399 samples\n",
            "Epoch 1/100\n",
            "1600/1600 [==============================] - 10s 7ms/step - loss: 0.8561 - acc: 0.6669 - val_loss: 1.2422 - val_acc: 0.3960\n",
            "Epoch 2/100\n",
            "1600/1600 [==============================] - 9s 5ms/step - loss: 0.8136 - acc: 0.6850 - val_loss: 1.1851 - val_acc: 0.3960\n",
            "Epoch 3/100\n",
            "1600/1600 [==============================] - 9s 5ms/step - loss: 0.7948 - acc: 0.6850 - val_loss: 1.1439 - val_acc: 0.3960\n",
            "Epoch 4/100\n",
            "1600/1600 [==============================] - 9s 5ms/step - loss: 0.7669 - acc: 0.6850 - val_loss: 1.1599 - val_acc: 0.3960\n",
            "Epoch 5/100\n",
            "1600/1600 [==============================] - 8s 5ms/step - loss: 0.9223 - acc: 0.6800 - val_loss: 1.6406 - val_acc: 0.3960\n",
            "Epoch 6/100\n",
            "1600/1600 [==============================] - 8s 5ms/step - loss: 0.8266 - acc: 0.6850 - val_loss: 1.2537 - val_acc: 0.3960\n",
            "Epoch 7/100\n",
            "1600/1600 [==============================] - 8s 5ms/step - loss: 0.8153 - acc: 0.6850 - val_loss: 1.2652 - val_acc: 0.3960\n",
            "Epoch 8/100\n",
            "1600/1600 [==============================] - 8s 5ms/step - loss: 0.8121 - acc: 0.6850 - val_loss: 1.2317 - val_acc: 0.3960\n",
            "Epoch 9/100\n",
            "1600/1600 [==============================] - 8s 5ms/step - loss: 0.8058 - acc: 0.6850 - val_loss: 1.2352 - val_acc: 0.3960\n",
            "Epoch 10/100\n",
            "1600/1600 [==============================] - 8s 5ms/step - loss: 0.7958 - acc: 0.6850 - val_loss: 1.2096 - val_acc: 0.3960\n",
            "Epoch 11/100\n",
            "1600/1600 [==============================] - 8s 5ms/step - loss: 0.7929 - acc: 0.6850 - val_loss: 1.2636 - val_acc: 0.3960\n",
            "Epoch 12/100\n",
            "1600/1600 [==============================] - 9s 5ms/step - loss: 0.7900 - acc: 0.6831 - val_loss: 1.2138 - val_acc: 0.3960\n",
            "Epoch 13/100\n",
            "1600/1600 [==============================] - 9s 5ms/step - loss: 0.7869 - acc: 0.6850 - val_loss: 1.2612 - val_acc: 0.3960\n",
            "Epoch 14/100\n",
            "1600/1600 [==============================] - 9s 5ms/step - loss: 0.7973 - acc: 0.6850 - val_loss: 1.2592 - val_acc: 0.3960\n",
            "Epoch 15/100\n",
            "1600/1600 [==============================] - 8s 5ms/step - loss: 0.7885 - acc: 0.6850 - val_loss: 1.2154 - val_acc: 0.3960\n",
            "Epoch 16/100\n",
            "1600/1600 [==============================] - 8s 5ms/step - loss: 0.8204 - acc: 0.6838 - val_loss: 1.2921 - val_acc: 0.3960\n",
            "Epoch 17/100\n",
            "1600/1600 [==============================] - 9s 5ms/step - loss: 0.7991 - acc: 0.6850 - val_loss: 1.2315 - val_acc: 0.3960\n",
            "Epoch 18/100\n",
            "1600/1600 [==============================] - 9s 5ms/step - loss: 0.7910 - acc: 0.6850 - val_loss: 1.2211 - val_acc: 0.3960\n",
            "Epoch 19/100\n",
            "1600/1600 [==============================] - 9s 5ms/step - loss: 0.7936 - acc: 0.6850 - val_loss: 1.2610 - val_acc: 0.3960\n",
            "Epoch 20/100\n",
            "1600/1600 [==============================] - 9s 5ms/step - loss: 0.7867 - acc: 0.6850 - val_loss: 1.1917 - val_acc: 0.3960\n",
            "Epoch 21/100\n",
            "1600/1600 [==============================] - 8s 5ms/step - loss: 0.7785 - acc: 0.6850 - val_loss: 1.1909 - val_acc: 0.3960\n",
            "Epoch 22/100\n",
            "1600/1600 [==============================] - 8s 5ms/step - loss: 0.7700 - acc: 0.6850 - val_loss: 1.2039 - val_acc: 0.3960\n",
            "Epoch 23/100\n",
            "1600/1600 [==============================] - 9s 5ms/step - loss: 0.7667 - acc: 0.6850 - val_loss: 1.2188 - val_acc: 0.3960\n",
            "Epoch 24/100\n",
            "1600/1600 [==============================] - 9s 6ms/step - loss: 0.7646 - acc: 0.6850 - val_loss: 1.1693 - val_acc: 0.3960\n",
            "Epoch 25/100\n",
            "1600/1600 [==============================] - 9s 5ms/step - loss: 0.7607 - acc: 0.6850 - val_loss: 1.1773 - val_acc: 0.3960\n",
            "Epoch 26/100\n",
            "1600/1600 [==============================] - 8s 5ms/step - loss: 0.7495 - acc: 0.6850 - val_loss: 1.1900 - val_acc: 0.3960\n",
            "Epoch 27/100\n",
            "1600/1600 [==============================] - 9s 5ms/step - loss: 0.7489 - acc: 0.6850 - val_loss: 1.2049 - val_acc: 0.3960\n",
            "Epoch 28/100\n",
            "1600/1600 [==============================] - 8s 5ms/step - loss: 0.7500 - acc: 0.6850 - val_loss: 1.1649 - val_acc: 0.3960\n",
            "Epoch 29/100\n",
            "1600/1600 [==============================] - 9s 5ms/step - loss: 0.7470 - acc: 0.6850 - val_loss: 1.1924 - val_acc: 0.3960\n",
            "Epoch 30/100\n",
            "1600/1600 [==============================] - 9s 5ms/step - loss: 0.7388 - acc: 0.6850 - val_loss: 1.1760 - val_acc: 0.3960\n",
            "Epoch 31/100\n",
            "1600/1600 [==============================] - 9s 5ms/step - loss: 0.7335 - acc: 0.6850 - val_loss: 1.1743 - val_acc: 0.3960\n",
            "Epoch 32/100\n",
            "1600/1600 [==============================] - 9s 5ms/step - loss: 0.7265 - acc: 0.6838 - val_loss: 1.1813 - val_acc: 0.3860\n",
            "Epoch 33/100\n",
            "1600/1600 [==============================] - 9s 5ms/step - loss: 0.7326 - acc: 0.6850 - val_loss: 1.1660 - val_acc: 0.3810\n",
            "Epoch 34/100\n",
            "1600/1600 [==============================] - 8s 5ms/step - loss: 0.7234 - acc: 0.6881 - val_loss: 1.1774 - val_acc: 0.2657\n",
            "Epoch 35/100\n",
            "1600/1600 [==============================] - 8s 5ms/step - loss: 0.7110 - acc: 0.6931 - val_loss: 1.2357 - val_acc: 0.2907\n",
            "Epoch 36/100\n",
            "1600/1600 [==============================] - 9s 5ms/step - loss: 0.7068 - acc: 0.6919 - val_loss: 1.1728 - val_acc: 0.2707\n",
            "Epoch 37/100\n",
            "1600/1600 [==============================] - 8s 5ms/step - loss: 0.7077 - acc: 0.6956 - val_loss: 1.2203 - val_acc: 0.2882\n",
            "Epoch 38/100\n",
            "1600/1600 [==============================] - 8s 5ms/step - loss: 0.7052 - acc: 0.6913 - val_loss: 1.2086 - val_acc: 0.2807\n",
            "Epoch 39/100\n",
            "1600/1600 [==============================] - 8s 5ms/step - loss: 0.6972 - acc: 0.6913 - val_loss: 1.2313 - val_acc: 0.2782\n",
            "Epoch 40/100\n",
            "1600/1600 [==============================] - 8s 5ms/step - loss: 0.6955 - acc: 0.6969 - val_loss: 1.9325 - val_acc: 0.2707\n",
            "Epoch 41/100\n",
            "1600/1600 [==============================] - 8s 5ms/step - loss: 0.7127 - acc: 0.6919 - val_loss: 1.1701 - val_acc: 0.4060\n",
            "Epoch 42/100\n",
            "1600/1600 [==============================] - 8s 5ms/step - loss: 0.7032 - acc: 0.6981 - val_loss: 1.1779 - val_acc: 0.3784\n",
            "Epoch 43/100\n",
            "1600/1600 [==============================] - 9s 5ms/step - loss: 0.6907 - acc: 0.6988 - val_loss: 1.1948 - val_acc: 0.2657\n",
            "Epoch 44/100\n",
            "1600/1600 [==============================] - 8s 5ms/step - loss: 0.7029 - acc: 0.6863 - val_loss: 1.1938 - val_acc: 0.2732\n",
            "Epoch 45/100\n",
            "1600/1600 [==============================] - 9s 5ms/step - loss: 0.6860 - acc: 0.6975 - val_loss: 1.2275 - val_acc: 0.2807\n",
            "Epoch 46/100\n",
            "1600/1600 [==============================] - 8s 5ms/step - loss: 0.7109 - acc: 0.7013 - val_loss: 1.1987 - val_acc: 0.2782\n",
            "Epoch 47/100\n",
            "1600/1600 [==============================] - 9s 5ms/step - loss: 0.6865 - acc: 0.6894 - val_loss: 1.2151 - val_acc: 0.2782\n",
            "Epoch 48/100\n",
            "1600/1600 [==============================] - 8s 5ms/step - loss: 0.6799 - acc: 0.7137 - val_loss: 1.2520 - val_acc: 0.2707\n",
            "Epoch 49/100\n",
            "1600/1600 [==============================] - 9s 5ms/step - loss: 0.6786 - acc: 0.7019 - val_loss: 1.3233 - val_acc: 0.2882\n",
            "Epoch 50/100\n",
            "1600/1600 [==============================] - 8s 5ms/step - loss: 0.6724 - acc: 0.7081 - val_loss: 1.2266 - val_acc: 0.2732\n",
            "Epoch 51/100\n",
            "1600/1600 [==============================] - 9s 5ms/step - loss: 0.6726 - acc: 0.7031 - val_loss: 1.2606 - val_acc: 0.2632\n",
            "Epoch 52/100\n",
            "1600/1600 [==============================] - 8s 5ms/step - loss: 0.6813 - acc: 0.7050 - val_loss: 1.2585 - val_acc: 0.2732\n",
            "Epoch 53/100\n",
            "1600/1600 [==============================] - 8s 5ms/step - loss: 0.6655 - acc: 0.7106 - val_loss: 1.3215 - val_acc: 0.2907\n",
            "Epoch 54/100\n",
            "1600/1600 [==============================] - 9s 5ms/step - loss: 0.6730 - acc: 0.7075 - val_loss: 1.3244 - val_acc: 0.2857\n",
            "Epoch 55/100\n",
            "1600/1600 [==============================] - 9s 5ms/step - loss: 0.6756 - acc: 0.7081 - val_loss: 1.2575 - val_acc: 0.2832\n",
            "Epoch 56/100\n",
            "1600/1600 [==============================] - 9s 5ms/step - loss: 0.6690 - acc: 0.7094 - val_loss: 1.2976 - val_acc: 0.2757\n",
            "Epoch 57/100\n",
            "1600/1600 [==============================] - 8s 5ms/step - loss: 0.6621 - acc: 0.7163 - val_loss: 1.2995 - val_acc: 0.2757\n",
            "Epoch 58/100\n",
            "1600/1600 [==============================] - 8s 5ms/step - loss: 0.6645 - acc: 0.7144 - val_loss: 1.4077 - val_acc: 0.2932\n",
            "Epoch 59/100\n",
            "1600/1600 [==============================] - 9s 5ms/step - loss: 0.6682 - acc: 0.7100 - val_loss: 1.2791 - val_acc: 0.2757\n",
            "Epoch 60/100\n",
            "1600/1600 [==============================] - 9s 5ms/step - loss: 0.6570 - acc: 0.7181 - val_loss: 1.3297 - val_acc: 0.2882\n",
            "Epoch 61/100\n",
            "1600/1600 [==============================] - 9s 5ms/step - loss: 0.6591 - acc: 0.7119 - val_loss: 1.2731 - val_acc: 0.2832\n",
            "Epoch 62/100\n",
            "1600/1600 [==============================] - 8s 5ms/step - loss: 0.6415 - acc: 0.7244 - val_loss: 1.5248 - val_acc: 0.2932\n",
            "Epoch 63/100\n",
            "1600/1600 [==============================] - 8s 5ms/step - loss: 0.6532 - acc: 0.7144 - val_loss: 1.3964 - val_acc: 0.2907\n",
            "Epoch 64/100\n",
            "1600/1600 [==============================] - 8s 5ms/step - loss: 0.6416 - acc: 0.7231 - val_loss: 1.3758 - val_acc: 0.2907\n",
            "Epoch 65/100\n",
            "1600/1600 [==============================] - 9s 5ms/step - loss: 0.6432 - acc: 0.7213 - val_loss: 1.6011 - val_acc: 0.2907\n",
            "Epoch 66/100\n",
            "1600/1600 [==============================] - 9s 5ms/step - loss: 0.6319 - acc: 0.7219 - val_loss: 3.7111 - val_acc: 0.2982\n",
            "Epoch 67/100\n",
            "1600/1600 [==============================] - 9s 5ms/step - loss: 0.6325 - acc: 0.7219 - val_loss: 1.3975 - val_acc: 0.3058\n",
            "Epoch 68/100\n",
            "1600/1600 [==============================] - 8s 5ms/step - loss: 0.6222 - acc: 0.7244 - val_loss: 1.4554 - val_acc: 0.2857\n",
            "Epoch 69/100\n",
            "1600/1600 [==============================] - 9s 5ms/step - loss: 0.6099 - acc: 0.7319 - val_loss: 3.3747 - val_acc: 0.2907\n",
            "Epoch 70/100\n",
            "1600/1600 [==============================] - 8s 5ms/step - loss: 0.6149 - acc: 0.7381 - val_loss: 1.3733 - val_acc: 0.2957\n",
            "Epoch 71/100\n",
            "1600/1600 [==============================] - 8s 5ms/step - loss: 0.6051 - acc: 0.7419 - val_loss: 1.3218 - val_acc: 0.2957\n",
            "Epoch 72/100\n",
            "1600/1600 [==============================] - 8s 5ms/step - loss: 0.6236 - acc: 0.7250 - val_loss: 1.3478 - val_acc: 0.2982\n",
            "Epoch 73/100\n",
            "1600/1600 [==============================] - 9s 5ms/step - loss: 0.8597 - acc: 0.6913 - val_loss: 1.7717 - val_acc: 0.3158\n",
            "Epoch 74/100\n",
            "1600/1600 [==============================] - 9s 5ms/step - loss: 0.7430 - acc: 0.6819 - val_loss: 1.2668 - val_acc: 0.4035\n",
            "Epoch 75/100\n",
            "1600/1600 [==============================] - 8s 5ms/step - loss: 0.6970 - acc: 0.7038 - val_loss: 1.2832 - val_acc: 0.2957\n",
            "Epoch 76/100\n",
            "1600/1600 [==============================] - 8s 5ms/step - loss: 0.6761 - acc: 0.7138 - val_loss: 1.3154 - val_acc: 0.2932\n",
            "Epoch 77/100\n",
            "1600/1600 [==============================] - 8s 5ms/step - loss: 0.6570 - acc: 0.7175 - val_loss: 1.3464 - val_acc: 0.3058\n",
            "Epoch 78/100\n",
            "1600/1600 [==============================] - 8s 5ms/step - loss: 0.6252 - acc: 0.7363 - val_loss: 1.5952 - val_acc: 0.2932\n",
            "Epoch 79/100\n",
            "1600/1600 [==============================] - 8s 5ms/step - loss: 0.6080 - acc: 0.7381 - val_loss: 1.5931 - val_acc: 0.2932\n",
            "Epoch 80/100\n",
            "1600/1600 [==============================] - 9s 5ms/step - loss: 0.6193 - acc: 0.7319 - val_loss: 1.6774 - val_acc: 0.3083\n",
            "Epoch 81/100\n",
            "1600/1600 [==============================] - 8s 5ms/step - loss: 0.6175 - acc: 0.7481 - val_loss: 1.8341 - val_acc: 0.3083\n",
            "Epoch 82/100\n",
            "1600/1600 [==============================] - 8s 5ms/step - loss: 0.6170 - acc: 0.7306 - val_loss: 1.7671 - val_acc: 0.3083\n",
            "Epoch 83/100\n",
            "1600/1600 [==============================] - 9s 5ms/step - loss: 0.5986 - acc: 0.7519 - val_loss: 1.5887 - val_acc: 0.3108\n",
            "Epoch 84/100\n",
            "1600/1600 [==============================] - 9s 5ms/step - loss: 0.5786 - acc: 0.7613 - val_loss: 1.6264 - val_acc: 0.2907\n",
            "Epoch 85/100\n",
            "1600/1600 [==============================] - 9s 5ms/step - loss: 0.5749 - acc: 0.7625 - val_loss: 1.3234 - val_acc: 0.2757\n",
            "Epoch 86/100\n",
            "1600/1600 [==============================] - 8s 5ms/step - loss: 0.5875 - acc: 0.7581 - val_loss: 1.3835 - val_acc: 0.2932\n",
            "Epoch 87/100\n",
            "1600/1600 [==============================] - 9s 5ms/step - loss: 0.5645 - acc: 0.7663 - val_loss: 1.8444 - val_acc: 0.3083\n",
            "Epoch 88/100\n",
            "1600/1600 [==============================] - 9s 5ms/step - loss: 0.5749 - acc: 0.7675 - val_loss: 1.3919 - val_acc: 0.2882\n",
            "Epoch 89/100\n",
            "1600/1600 [==============================] - 8s 5ms/step - loss: 0.5609 - acc: 0.7700 - val_loss: 1.2416 - val_acc: 0.3509\n",
            "Epoch 90/100\n",
            "1600/1600 [==============================] - 9s 5ms/step - loss: 0.5712 - acc: 0.7644 - val_loss: 1.5395 - val_acc: 0.2832\n",
            "Epoch 91/100\n",
            "1600/1600 [==============================] - 9s 5ms/step - loss: 0.5627 - acc: 0.7600 - val_loss: 1.4666 - val_acc: 0.2682\n",
            "Epoch 92/100\n",
            "1600/1600 [==============================] - 8s 5ms/step - loss: 0.5673 - acc: 0.7669 - val_loss: 1.2897 - val_acc: 0.2982\n",
            "Epoch 93/100\n",
            "1600/1600 [==============================] - 8s 5ms/step - loss: 0.6164 - acc: 0.7612 - val_loss: 1.2542 - val_acc: 0.4160\n",
            "Epoch 94/100\n",
            "1600/1600 [==============================] - 9s 5ms/step - loss: 0.5808 - acc: 0.7594 - val_loss: 1.4250 - val_acc: 0.3208\n",
            "Epoch 95/100\n",
            "1600/1600 [==============================] - 9s 5ms/step - loss: 0.5403 - acc: 0.7825 - val_loss: 1.4066 - val_acc: 0.3083\n",
            "Epoch 96/100\n",
            "1600/1600 [==============================] - 9s 5ms/step - loss: 0.5173 - acc: 0.7869 - val_loss: 1.3494 - val_acc: 0.3484\n",
            "Epoch 97/100\n",
            "1600/1600 [==============================] - 9s 6ms/step - loss: 0.5063 - acc: 0.8006 - val_loss: 1.5333 - val_acc: 0.3083\n",
            "Epoch 98/100\n",
            "1600/1600 [==============================] - 9s 5ms/step - loss: 0.5067 - acc: 0.7894 - val_loss: 1.4850 - val_acc: 0.2982\n",
            "Epoch 99/100\n",
            "1600/1600 [==============================] - 8s 5ms/step - loss: 0.5066 - acc: 0.7919 - val_loss: 1.3665 - val_acc: 0.4085\n",
            "Epoch 100/100\n",
            "1600/1600 [==============================] - 8s 5ms/step - loss: 0.4876 - acc: 0.7950 - val_loss: 1.4565 - val_acc: 0.3584\n"
          ],
          "name": "stdout"
        },
        {
          "output_type": "execute_result",
          "data": {
            "text/plain": [
              "<keras.callbacks.History at 0x7fe45a21bd68>"
            ]
          },
          "metadata": {
            "tags": []
          },
          "execution_count": 76
        }
      ]
    },
    {
      "metadata": {
        "id": "LFDW7lBau-mF",
        "colab_type": "code",
        "colab": {}
      },
      "cell_type": "code",
      "source": [
        ""
      ],
      "execution_count": 0,
      "outputs": []
    }
  ]
}